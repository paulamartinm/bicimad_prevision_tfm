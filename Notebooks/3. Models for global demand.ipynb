{
 "cells": [
  {
   "cell_type": "markdown",
   "id": "d5cf99b9",
   "metadata": {},
   "source": [
    "# 3. Models for global demand: time series forecasting"
   ]
  },
  {
   "cell_type": "markdown",
   "id": "050ab63b",
   "metadata": {},
   "source": [
    "**Time series forecasting** help to predict the future values of demand based on previous known values, it is used when the dependend variable varies over time"
   ]
  },
  {
   "cell_type": "markdown",
   "id": "ba416beb",
   "metadata": {},
   "source": [
    "There are 4 main components that define a Time series:\n",
    "1. Trend: upward and downward movement of the demand over a period of time\n",
    "2. Seasonality: seasonal variances of the data\n",
    "3. Residuals: noise - random variations\n",
    "4. Cyclicity: the behavior is repeated after an interval of time"
   ]
  },
  {
   "cell_type": "markdown",
   "id": "1e30432b",
   "metadata": {},
   "source": [
    "## 3.1. Analyzing the time series"
   ]
  },
  {
   "cell_type": "code",
   "execution_count": 1,
   "id": "8b001ab2",
   "metadata": {},
   "outputs": [],
   "source": [
    "import pandas as pd\n",
    "import numpy as np\n",
    "import matplotlib.pyplot as plt\n",
    "from sklearn.model_selection import train_test_split\n",
    "import datetime\n",
    "import seaborn as sns\n",
    "import warnings\n",
    "warnings.filterwarnings('ignore')"
   ]
  },
  {
   "cell_type": "code",
   "execution_count": 2,
   "id": "ec6e74d5",
   "metadata": {},
   "outputs": [],
   "source": [
    "#Import the data we created in the first notebook\n",
    "rides_per_hour = pd.read_csv('movements_grouped.csv')"
   ]
  },
  {
   "cell_type": "code",
   "execution_count": 3,
   "id": "0d47081a",
   "metadata": {},
   "outputs": [],
   "source": [
    "rides_per_hour = rides_per_hour[['datetime', 'date', 'weekday', 'hour',  'time', 'month', 'is_holiday_x', 'rides', 'year', 'is_weekend']]"
   ]
  },
  {
   "cell_type": "code",
   "execution_count": 4,
   "id": "7eb83cca",
   "metadata": {},
   "outputs": [],
   "source": [
    "rides_per_hour.set_index('datetime', inplace=True)\n",
    "rides_per_hour.sort_index(inplace=True)"
   ]
  },
  {
   "cell_type": "code",
   "execution_count": 5,
   "id": "05bc48f7",
   "metadata": {},
   "outputs": [],
   "source": [
    "rides_per_hour['weekday'] = rides_per_hour['weekday'].astype('category')"
   ]
  },
  {
   "cell_type": "code",
   "execution_count": 6,
   "id": "5894342c",
   "metadata": {},
   "outputs": [],
   "source": [
    "rides_per_hour = rides_per_hour[rides_per_hour['year']==2021]"
   ]
  },
  {
   "cell_type": "markdown",
   "id": "06f9ade6",
   "metadata": {},
   "source": [
    "### Decomposition of the time series"
   ]
  },
  {
   "cell_type": "code",
   "execution_count": 6,
   "id": "75f346b8",
   "metadata": {},
   "outputs": [],
   "source": [
    "from statsmodels.tsa.seasonal import seasonal_decompose\n",
    "result = seasonal_decompose(rides_per_hour['rides'], model='additive', freq=24)"
   ]
  },
  {
   "cell_type": "markdown",
   "id": "e6bfbbcd",
   "metadata": {},
   "source": [
    "### Adding lag values we will use for the model"
   ]
  },
  {
   "cell_type": "markdown",
   "id": "401ec6cb",
   "metadata": {},
   "source": [
    "We are going to use the lag values of the variable rides as predictors in our machine learning models, and also we are going to use them for our naive model. We are going to consider the following lags:\n",
    "\n",
    "- rides lag 7: 7 days before at the same hour\n",
    "- rides lag 1: 1 day before at the same hour\n",
    "- rides lag 2: 2 days before at the same hour\n",
    "- rides lag 1 month: 1 month before at the same hour\n",
    "- rides lag 12 hours"
   ]
  },
  {
   "cell_type": "code",
   "execution_count": 7,
   "id": "5268d6b9",
   "metadata": {},
   "outputs": [],
   "source": [
    "rides_per_hour['rides_lag_7'] = rides_per_hour['rides'].shift(7*24)\n",
    "rides_per_hour['rides_lag_1'] = rides_per_hour['rides'].shift(1*24)\n",
    "rides_per_hour['rides_lag_2'] = rides_per_hour['rides'].shift(2*24)\n",
    "rides_per_hour['rides_lag_1_month'] = rides_per_hour['rides'].shift(30*24)\n",
    "rides_per_hour['rides_lag_12_hours'] = rides_per_hour['rides'].shift(12)"
   ]
  },
  {
   "cell_type": "code",
   "execution_count": 8,
   "id": "d93c373d",
   "metadata": {},
   "outputs": [
    {
     "data": {
      "text/html": [
       "<div>\n",
       "<style scoped>\n",
       "    .dataframe tbody tr th:only-of-type {\n",
       "        vertical-align: middle;\n",
       "    }\n",
       "\n",
       "    .dataframe tbody tr th {\n",
       "        vertical-align: top;\n",
       "    }\n",
       "\n",
       "    .dataframe thead th {\n",
       "        text-align: right;\n",
       "    }\n",
       "</style>\n",
       "<table border=\"1\" class=\"dataframe\">\n",
       "  <thead>\n",
       "    <tr style=\"text-align: right;\">\n",
       "      <th></th>\n",
       "      <th>date</th>\n",
       "      <th>weekday</th>\n",
       "      <th>hour</th>\n",
       "      <th>time</th>\n",
       "      <th>month</th>\n",
       "      <th>is_holiday_x</th>\n",
       "      <th>rides</th>\n",
       "      <th>year</th>\n",
       "      <th>is_weekend</th>\n",
       "      <th>rides_lag_7</th>\n",
       "      <th>rides_lag_1</th>\n",
       "      <th>rides_lag_2</th>\n",
       "      <th>rides_lag_1_month</th>\n",
       "      <th>rides_lag_12_hours</th>\n",
       "    </tr>\n",
       "    <tr>\n",
       "      <th>datetime</th>\n",
       "      <th></th>\n",
       "      <th></th>\n",
       "      <th></th>\n",
       "      <th></th>\n",
       "      <th></th>\n",
       "      <th></th>\n",
       "      <th></th>\n",
       "      <th></th>\n",
       "      <th></th>\n",
       "      <th></th>\n",
       "      <th></th>\n",
       "      <th></th>\n",
       "      <th></th>\n",
       "      <th></th>\n",
       "    </tr>\n",
       "  </thead>\n",
       "  <tbody>\n",
       "    <tr>\n",
       "      <th>2021-01-01 00:00:00</th>\n",
       "      <td>2021-01-01</td>\n",
       "      <td>Friday</td>\n",
       "      <td>0</td>\n",
       "      <td>00:00:00</td>\n",
       "      <td>1</td>\n",
       "      <td>1</td>\n",
       "      <td>244</td>\n",
       "      <td>2021</td>\n",
       "      <td>0</td>\n",
       "      <td>NaN</td>\n",
       "      <td>NaN</td>\n",
       "      <td>NaN</td>\n",
       "      <td>NaN</td>\n",
       "      <td>NaN</td>\n",
       "    </tr>\n",
       "    <tr>\n",
       "      <th>2021-01-01 01:00:00</th>\n",
       "      <td>2021-01-01</td>\n",
       "      <td>Friday</td>\n",
       "      <td>1</td>\n",
       "      <td>01:00:00</td>\n",
       "      <td>1</td>\n",
       "      <td>1</td>\n",
       "      <td>25</td>\n",
       "      <td>2021</td>\n",
       "      <td>0</td>\n",
       "      <td>NaN</td>\n",
       "      <td>NaN</td>\n",
       "      <td>NaN</td>\n",
       "      <td>NaN</td>\n",
       "      <td>NaN</td>\n",
       "    </tr>\n",
       "    <tr>\n",
       "      <th>2021-01-01 02:00:00</th>\n",
       "      <td>2021-01-01</td>\n",
       "      <td>Friday</td>\n",
       "      <td>2</td>\n",
       "      <td>02:00:00</td>\n",
       "      <td>1</td>\n",
       "      <td>1</td>\n",
       "      <td>5</td>\n",
       "      <td>2021</td>\n",
       "      <td>0</td>\n",
       "      <td>NaN</td>\n",
       "      <td>NaN</td>\n",
       "      <td>NaN</td>\n",
       "      <td>NaN</td>\n",
       "      <td>NaN</td>\n",
       "    </tr>\n",
       "    <tr>\n",
       "      <th>2021-01-01 03:00:00</th>\n",
       "      <td>2021-01-01</td>\n",
       "      <td>Friday</td>\n",
       "      <td>3</td>\n",
       "      <td>03:00:00</td>\n",
       "      <td>1</td>\n",
       "      <td>1</td>\n",
       "      <td>2</td>\n",
       "      <td>2021</td>\n",
       "      <td>0</td>\n",
       "      <td>NaN</td>\n",
       "      <td>NaN</td>\n",
       "      <td>NaN</td>\n",
       "      <td>NaN</td>\n",
       "      <td>NaN</td>\n",
       "    </tr>\n",
       "    <tr>\n",
       "      <th>2021-01-01 04:00:00</th>\n",
       "      <td>2021-01-01</td>\n",
       "      <td>Friday</td>\n",
       "      <td>4</td>\n",
       "      <td>04:00:00</td>\n",
       "      <td>1</td>\n",
       "      <td>1</td>\n",
       "      <td>10</td>\n",
       "      <td>2021</td>\n",
       "      <td>0</td>\n",
       "      <td>NaN</td>\n",
       "      <td>NaN</td>\n",
       "      <td>NaN</td>\n",
       "      <td>NaN</td>\n",
       "      <td>NaN</td>\n",
       "    </tr>\n",
       "    <tr>\n",
       "      <th>...</th>\n",
       "      <td>...</td>\n",
       "      <td>...</td>\n",
       "      <td>...</td>\n",
       "      <td>...</td>\n",
       "      <td>...</td>\n",
       "      <td>...</td>\n",
       "      <td>...</td>\n",
       "      <td>...</td>\n",
       "      <td>...</td>\n",
       "      <td>...</td>\n",
       "      <td>...</td>\n",
       "      <td>...</td>\n",
       "      <td>...</td>\n",
       "      <td>...</td>\n",
       "    </tr>\n",
       "    <tr>\n",
       "      <th>2021-06-30 19:00:00</th>\n",
       "      <td>2021-06-30</td>\n",
       "      <td>Wednesday</td>\n",
       "      <td>19</td>\n",
       "      <td>19:00:00</td>\n",
       "      <td>6</td>\n",
       "      <td>0</td>\n",
       "      <td>813</td>\n",
       "      <td>2021</td>\n",
       "      <td>0</td>\n",
       "      <td>814.0</td>\n",
       "      <td>749.0</td>\n",
       "      <td>691.0</td>\n",
       "      <td>610.0</td>\n",
       "      <td>815.0</td>\n",
       "    </tr>\n",
       "    <tr>\n",
       "      <th>2021-06-30 20:00:00</th>\n",
       "      <td>2021-06-30</td>\n",
       "      <td>Wednesday</td>\n",
       "      <td>20</td>\n",
       "      <td>20:00:00</td>\n",
       "      <td>6</td>\n",
       "      <td>0</td>\n",
       "      <td>552</td>\n",
       "      <td>2021</td>\n",
       "      <td>0</td>\n",
       "      <td>559.0</td>\n",
       "      <td>581.0</td>\n",
       "      <td>507.0</td>\n",
       "      <td>224.0</td>\n",
       "      <td>565.0</td>\n",
       "    </tr>\n",
       "    <tr>\n",
       "      <th>2021-06-30 21:00:00</th>\n",
       "      <td>2021-06-30</td>\n",
       "      <td>Wednesday</td>\n",
       "      <td>21</td>\n",
       "      <td>21:00:00</td>\n",
       "      <td>6</td>\n",
       "      <td>0</td>\n",
       "      <td>571</td>\n",
       "      <td>2021</td>\n",
       "      <td>0</td>\n",
       "      <td>615.0</td>\n",
       "      <td>482.0</td>\n",
       "      <td>400.0</td>\n",
       "      <td>205.0</td>\n",
       "      <td>509.0</td>\n",
       "    </tr>\n",
       "    <tr>\n",
       "      <th>2021-06-30 22:00:00</th>\n",
       "      <td>2021-06-30</td>\n",
       "      <td>Wednesday</td>\n",
       "      <td>22</td>\n",
       "      <td>22:00:00</td>\n",
       "      <td>6</td>\n",
       "      <td>0</td>\n",
       "      <td>499</td>\n",
       "      <td>2021</td>\n",
       "      <td>0</td>\n",
       "      <td>468.0</td>\n",
       "      <td>411.0</td>\n",
       "      <td>344.0</td>\n",
       "      <td>151.0</td>\n",
       "      <td>512.0</td>\n",
       "    </tr>\n",
       "    <tr>\n",
       "      <th>2021-06-30 23:00:00</th>\n",
       "      <td>2021-06-30</td>\n",
       "      <td>Wednesday</td>\n",
       "      <td>23</td>\n",
       "      <td>23:00:00</td>\n",
       "      <td>6</td>\n",
       "      <td>0</td>\n",
       "      <td>264</td>\n",
       "      <td>2021</td>\n",
       "      <td>0</td>\n",
       "      <td>199.0</td>\n",
       "      <td>213.0</td>\n",
       "      <td>170.0</td>\n",
       "      <td>67.0</td>\n",
       "      <td>664.0</td>\n",
       "    </tr>\n",
       "  </tbody>\n",
       "</table>\n",
       "<p>4344 rows × 14 columns</p>\n",
       "</div>"
      ],
      "text/plain": [
       "                           date    weekday  hour      time  month  \\\n",
       "datetime                                                            \n",
       "2021-01-01 00:00:00  2021-01-01     Friday     0  00:00:00      1   \n",
       "2021-01-01 01:00:00  2021-01-01     Friday     1  01:00:00      1   \n",
       "2021-01-01 02:00:00  2021-01-01     Friday     2  02:00:00      1   \n",
       "2021-01-01 03:00:00  2021-01-01     Friday     3  03:00:00      1   \n",
       "2021-01-01 04:00:00  2021-01-01     Friday     4  04:00:00      1   \n",
       "...                         ...        ...   ...       ...    ...   \n",
       "2021-06-30 19:00:00  2021-06-30  Wednesday    19  19:00:00      6   \n",
       "2021-06-30 20:00:00  2021-06-30  Wednesday    20  20:00:00      6   \n",
       "2021-06-30 21:00:00  2021-06-30  Wednesday    21  21:00:00      6   \n",
       "2021-06-30 22:00:00  2021-06-30  Wednesday    22  22:00:00      6   \n",
       "2021-06-30 23:00:00  2021-06-30  Wednesday    23  23:00:00      6   \n",
       "\n",
       "                     is_holiday_x  rides  year  is_weekend  rides_lag_7  \\\n",
       "datetime                                                                  \n",
       "2021-01-01 00:00:00             1    244  2021           0          NaN   \n",
       "2021-01-01 01:00:00             1     25  2021           0          NaN   \n",
       "2021-01-01 02:00:00             1      5  2021           0          NaN   \n",
       "2021-01-01 03:00:00             1      2  2021           0          NaN   \n",
       "2021-01-01 04:00:00             1     10  2021           0          NaN   \n",
       "...                           ...    ...   ...         ...          ...   \n",
       "2021-06-30 19:00:00             0    813  2021           0        814.0   \n",
       "2021-06-30 20:00:00             0    552  2021           0        559.0   \n",
       "2021-06-30 21:00:00             0    571  2021           0        615.0   \n",
       "2021-06-30 22:00:00             0    499  2021           0        468.0   \n",
       "2021-06-30 23:00:00             0    264  2021           0        199.0   \n",
       "\n",
       "                     rides_lag_1  rides_lag_2  rides_lag_1_month  \\\n",
       "datetime                                                           \n",
       "2021-01-01 00:00:00          NaN          NaN                NaN   \n",
       "2021-01-01 01:00:00          NaN          NaN                NaN   \n",
       "2021-01-01 02:00:00          NaN          NaN                NaN   \n",
       "2021-01-01 03:00:00          NaN          NaN                NaN   \n",
       "2021-01-01 04:00:00          NaN          NaN                NaN   \n",
       "...                          ...          ...                ...   \n",
       "2021-06-30 19:00:00        749.0        691.0              610.0   \n",
       "2021-06-30 20:00:00        581.0        507.0              224.0   \n",
       "2021-06-30 21:00:00        482.0        400.0              205.0   \n",
       "2021-06-30 22:00:00        411.0        344.0              151.0   \n",
       "2021-06-30 23:00:00        213.0        170.0               67.0   \n",
       "\n",
       "                     rides_lag_12_hours  \n",
       "datetime                                 \n",
       "2021-01-01 00:00:00                 NaN  \n",
       "2021-01-01 01:00:00                 NaN  \n",
       "2021-01-01 02:00:00                 NaN  \n",
       "2021-01-01 03:00:00                 NaN  \n",
       "2021-01-01 04:00:00                 NaN  \n",
       "...                                 ...  \n",
       "2021-06-30 19:00:00               815.0  \n",
       "2021-06-30 20:00:00               565.0  \n",
       "2021-06-30 21:00:00               509.0  \n",
       "2021-06-30 22:00:00               512.0  \n",
       "2021-06-30 23:00:00               664.0  \n",
       "\n",
       "[4344 rows x 14 columns]"
      ]
     },
     "execution_count": 8,
     "metadata": {},
     "output_type": "execute_result"
    }
   ],
   "source": [
    "rides_per_hour"
   ]
  },
  {
   "cell_type": "markdown",
   "id": "196eb91d",
   "metadata": {},
   "source": [
    "###### Let's analyze the correlation between our variables"
   ]
  },
  {
   "cell_type": "code",
   "execution_count": 9,
   "id": "f9c60e34",
   "metadata": {},
   "outputs": [
    {
     "data": {
      "image/png": "[encoded data removed]",
      "text/plain": [
       "<Figure size 720x360 with 2 Axes>"
      ]
     },
     "metadata": {
      "needs_background": "light"
     },
     "output_type": "display_data"
    }
   ],
   "source": [
    "corr_matrix = rides_per_hour.corr()\n",
    "fig = plt.figure(figsize=(10, 5))\n",
    "\n",
    "mask = np.array(corr_matrix)\n",
    "mask[np.tril_indices_from(mask)] = False\n",
    "\n",
    "sns.heatmap(corr_matrix, mask = mask, annot=True, cbar=True,cmap=\"YlGnBu\")\n",
    "plt.show()"
   ]
  },
  {
   "cell_type": "markdown",
   "id": "347913ae",
   "metadata": {},
   "source": [
    "From the correlation matrix we can see that the variable rides we want to predict is highly correlated with.\n",
    "- rides_lag_7 (demand 7 days before at the same time): coefficient 0.81\n",
    "- rides_lag_1 (demand 1 day before at the same hour): coefficient 0.83\n",
    "- rides_lag_2 (demand 2 days before at the same hour): coefficient 0.71\n",
    "\n",
    "The variable rides is also correlated with:\n",
    "- rides_lag_1_month (demand one month before at the same hour): coefficient 0.43\n",
    "- hour: coefficient 0.35"
   ]
  },
  {
   "cell_type": "markdown",
   "id": "faa092f8",
   "metadata": {},
   "source": [
    "##### Check if the data is stationary"
   ]
  },
  {
   "cell_type": "code",
   "execution_count": 10,
   "id": "3dffce90",
   "metadata": {},
   "outputs": [],
   "source": [
    "from statsmodels.tsa.stattools import adfuller"
   ]
  },
  {
   "cell_type": "markdown",
   "id": "bf91bc1d",
   "metadata": {},
   "source": [
    "To check if the data is stationary we are going to perform the **Dickey-Fuller test**: This test is used to try the null hypotesis: time-series data is non-stationary. It calculates the p-value and compareit with a threshold value of 0.05. If the p-value is lower than this level, data is stationary"
   ]
  },
  {
   "cell_type": "code",
   "execution_count": 11,
   "id": "81f47cd3",
   "metadata": {},
   "outputs": [],
   "source": [
    "df_test=adfuller(rides_per_hour['rides'], autolag='AIC', regression = 'ct')\n",
    "df_test_results = pd.Series(df_test[0:4], index = ['Test statistic', 'p-value', 'Number of lags', 'Number observations'])\n",
    "for key,value in df_test[4].items():\n",
    "    df_test_results['Critical value (%s)' %key]=value"
   ]
  },
  {
   "cell_type": "code",
   "execution_count": 12,
   "id": "af4cd9e9",
   "metadata": {},
   "outputs": [
    {
     "data": {
      "text/plain": [
       "Test statistic         -6.402548e+00\n",
       "p-value                 3.015428e-07\n",
       "Number of lags          2.900000e+01\n",
       "Number observations     4.314000e+03\n",
       "Critical value (1%)    -3.960870e+00\n",
       "Critical value (5%)    -3.411508e+00\n",
       "Critical value (10%)   -3.127650e+00\n",
       "dtype: float64"
      ]
     },
     "execution_count": 12,
     "metadata": {},
     "output_type": "execute_result"
    }
   ],
   "source": [
    "#Results of Dickey-Fuller test\n",
    "df_test_results"
   ]
  },
  {
   "cell_type": "markdown",
   "id": "ab2979aa",
   "metadata": {},
   "source": [
    "Conclusions: we reject the null hypotesis and conclude that our **time series is stationary**"
   ]
  },
  {
   "cell_type": "markdown",
   "id": "6f2de2a2",
   "metadata": {},
   "source": [
    "## 3.2. Naive model"
   ]
  },
  {
   "cell_type": "markdown",
   "id": "59449f17",
   "metadata": {},
   "source": [
    "We are going to create a naive model that will serve us as a baseline to compare it with the models we are going to build. \n",
    "\n",
    "We have just seen that the variable rides is highly correlated with the variable rides_lag_7, which is the demand of bikes at the same hour the week before, so for our naive model we are going to consider that the demand is the same as rides_lag_7"
   ]
  },
  {
   "cell_type": "code",
   "execution_count": 13,
   "id": "5d0d6750",
   "metadata": {},
   "outputs": [],
   "source": [
    "rides_naive=rides_per_hour.dropna(subset=['rides_lag_7'])"
   ]
  },
  {
   "cell_type": "code",
   "execution_count": 14,
   "id": "aa822689",
   "metadata": {},
   "outputs": [
    {
     "data": {
      "text/plain": [
       "Index(['date', 'weekday', 'hour', 'time', 'month', 'is_holiday_x', 'rides',\n",
       "       'year', 'is_weekend', 'rides_lag_7', 'rides_lag_1', 'rides_lag_2',\n",
       "       'rides_lag_1_month', 'rides_lag_12_hours'],\n",
       "      dtype='object')"
      ]
     },
     "execution_count": 14,
     "metadata": {},
     "output_type": "execute_result"
    }
   ],
   "source": [
    "rides_naive.columns"
   ]
  },
  {
   "cell_type": "code",
   "execution_count": 15,
   "id": "2268d423",
   "metadata": {},
   "outputs": [],
   "source": [
    "train_end = int(0.95*len(rides_naive))"
   ]
  },
  {
   "cell_type": "code",
   "execution_count": 16,
   "id": "f83410b2",
   "metadata": {},
   "outputs": [],
   "source": [
    "train = rides_naive[:train_end]\n",
    "test = rides_naive[train_end:]"
   ]
  },
  {
   "cell_type": "code",
   "execution_count": 17,
   "id": "153b307d",
   "metadata": {},
   "outputs": [],
   "source": [
    "X_train, y_train = train['rides_lag_7'], train['rides']\n",
    "X_test, y_test = test['rides_lag_7'], test['rides']"
   ]
  },
  {
   "cell_type": "code",
   "execution_count": 18,
   "id": "ef635c49",
   "metadata": {},
   "outputs": [],
   "source": [
    "predictions = X_test\n",
    "demand = y_test"
   ]
  },
  {
   "cell_type": "code",
   "execution_count": 19,
   "id": "78a62b03",
   "metadata": {},
   "outputs": [
    {
     "data": {
      "image/png": "[encoded data removed]",
      "text/plain": [
       "<Figure size 1008x360 with 1 Axes>"
      ]
     },
     "metadata": {
      "needs_background": "light"
     },
     "output_type": "display_data"
    }
   ],
   "source": [
    "fig, ax = plt.subplots(figsize=(14, 5))\n",
    "\n",
    "plt.plot(demand, label='demand')\n",
    "plt.plot(predictions, label = 'predictions')\n",
    "ax.legend()\n",
    "plt.show()"
   ]
  },
  {
   "cell_type": "markdown",
   "id": "7c0c4db9",
   "metadata": {},
   "source": [
    "###### Evaluating model"
   ]
  },
  {
   "cell_type": "markdown",
   "id": "40e291f9",
   "metadata": {},
   "source": [
    "We are going to create a dataframe where we are going to add the results of all the models we are going to try. In this dataframe we are going to add the metrics:\n",
    "\n",
    "- MSE\n",
    "- MAE\n",
    "- RMSE\n",
    "- R2"
   ]
  },
  {
   "cell_type": "code",
   "execution_count": 20,
   "id": "108245a2",
   "metadata": {},
   "outputs": [],
   "source": [
    "from sklearn import metrics\n",
    "def calculate_metrics(forecast,demand):\n",
    "    mse = metrics.mean_squared_error(forecast,demand)\n",
    "    mae = metrics.mean_absolute_error(forecast,demand)\n",
    "    rmse = np.sqrt(metrics.mean_squared_error(forecast,demand))\n",
    "    r2 = metrics.r2_score(forecast,demand)\n",
    "    return mse, mae, rmse, r2"
   ]
  },
  {
   "cell_type": "code",
   "execution_count": 21,
   "id": "032b3186",
   "metadata": {},
   "outputs": [],
   "source": [
    "evaluation_models = pd.DataFrame(columns=[\"model\", \"MSE\", \"MAE\", \"RMSE\", \"R2\"])"
   ]
  },
  {
   "cell_type": "code",
   "execution_count": 22,
   "id": "17c95ea2",
   "metadata": {},
   "outputs": [],
   "source": [
    "mse, mae, rmse, r2 = calculate_metrics(predictions, demand)\n",
    "evaluation_models = evaluation_models.append({'model':'naive', 'MSE': mse, 'MAE': mae, 'RMSE': rmse,  'R2':r2},\n",
    "                                             ignore_index=True)\n"
   ]
  },
  {
   "cell_type": "code",
   "execution_count": 23,
   "id": "87b3f2ae",
   "metadata": {},
   "outputs": [
    {
     "data": {
      "text/html": [
       "<div>\n",
       "<style scoped>\n",
       "    .dataframe tbody tr th:only-of-type {\n",
       "        vertical-align: middle;\n",
       "    }\n",
       "\n",
       "    .dataframe tbody tr th {\n",
       "        vertical-align: top;\n",
       "    }\n",
       "\n",
       "    .dataframe thead th {\n",
       "        text-align: right;\n",
       "    }\n",
       "</style>\n",
       "<table border=\"1\" class=\"dataframe\">\n",
       "  <thead>\n",
       "    <tr style=\"text-align: right;\">\n",
       "      <th></th>\n",
       "      <th>model</th>\n",
       "      <th>MSE</th>\n",
       "      <th>MAE</th>\n",
       "      <th>RMSE</th>\n",
       "      <th>R2</th>\n",
       "    </tr>\n",
       "  </thead>\n",
       "  <tbody>\n",
       "    <tr>\n",
       "      <th>0</th>\n",
       "      <td>naive</td>\n",
       "      <td>23121.392344</td>\n",
       "      <td>89.478469</td>\n",
       "      <td>152.057201</td>\n",
       "      <td>0.810537</td>\n",
       "    </tr>\n",
       "  </tbody>\n",
       "</table>\n",
       "</div>"
      ],
      "text/plain": [
       "   model           MSE        MAE        RMSE        R2\n",
       "0  naive  23121.392344  89.478469  152.057201  0.810537"
      ]
     },
     "execution_count": 23,
     "metadata": {},
     "output_type": "execute_result"
    }
   ],
   "source": [
    "evaluation_models"
   ]
  },
  {
   "cell_type": "markdown",
   "id": "a0c70a7e",
   "metadata": {},
   "source": [
    "## 3.3. Machine Learning Models"
   ]
  },
  {
   "cell_type": "markdown",
   "id": "99868070",
   "metadata": {},
   "source": [
    "Advantages of using Machine learning methods for forecasting.\n",
    "* Ease of including exogenous variables in addition to autoregressive variables\n",
    "* Allows the incorporation of non-linear behaviors\n",
    "* High scalability, useful when large amount of data is available\n",
    "\n",
    "There are also some disadvantages for this:\n",
    "\n",
    "* Restructuring the data to fit a regression problem\n",
    "* Iterative processes are needed, each prediction uses the previous predictions\n",
    "* Validation requires specific strategies. Traditional cross validation does not work"
   ]
  },
  {
   "cell_type": "markdown",
   "id": "dacce24e",
   "metadata": {},
   "source": [
    "The forecast in a time series can be decomposed in two parts:\n",
    "    \n",
    "    Forecast = patterns (explained variance) + unexplained variance\n",
    "    \n",
    "* Patterns: it has a repetitive character over time (trend, seasonality, cyclical values)\n",
    "* Unexplained variance: influences the target variable but cannot be explained by the past\n",
    "\n",
    "The higher the importance of the patterns, the higher the probability of creating autorregresive forecasting models. The higher the importance of the unexplained variance requires to incorporate additional variables to the model, to help to understand the observed values"
   ]
  },
  {
   "cell_type": "markdown",
   "id": "c02e58c8",
   "metadata": {},
   "source": [
    "It's importat to control the bias and variance of the model. Small trees (few braches) have low variance but fail to represent well the relationship between variables (high bias). On the other hand, large trees are very close to the training data, so they will propably have high variance. We need to control the balance between bias and variance this can be solved with ensemble methods.\n",
    "\n",
    "Ensemble methods combine multiple models in a new one, with the aim of balancing bias and variance. Typeas of ensembling methods:\n",
    "\n",
    "1. Bagging: multiple models are fitted, each with a different subset of the training data. As a final value, the mean of all predictions is taken. Random Forest belong to this category\n",
    "2. Boosting: multiple simple models are adjusted sequentially, so each model learns from the errors of the previous one. Finally, the mean of all predictions is taken. Gradient Boosting belong to this category"
   ]
  },
  {
   "cell_type": "markdown",
   "id": "18b9d562",
   "metadata": {},
   "source": [
    "We need to transform the temporal series in a matrix, where each value is related to the precedent lags"
   ]
  },
  {
   "cell_type": "markdown",
   "id": "4a2c45c1",
   "metadata": {},
   "source": [
    "#### 3.3.1. Random Forest Ensemble"
   ]
  },
  {
   "cell_type": "markdown",
   "id": "27359163",
   "metadata": {},
   "source": [
    "Random Forest is a non parametric method, so no specific distribution is required. Also, this type of models require less data cleaning and preprocessing compared to other statistical methods, this models do not require standarization.\n",
    "They are not greatly influenced by outliers."
   ]
  },
  {
   "cell_type": "markdown",
   "id": "e4fb2e35",
   "metadata": {},
   "source": [
    "First we need to prepare the data for the model. \n",
    "\n",
    "To take into account the day of the week we are going to perform a One-hot encoding, this process takes categorical variables and converts it to numerical representation without an arbitrary ordering.\n",
    "\n",
    "We are going to perform the One Hot Encoding for the columns:\n",
    "\n",
    "- Weekday\n",
    "- Month\n",
    "- Hour\n",
    "\n",
    "This way the model is giving the same importances to all the variables"
   ]
  },
  {
   "cell_type": "code",
   "execution_count": 24,
   "id": "06829eac",
   "metadata": {},
   "outputs": [],
   "source": [
    "rides_per_hour = pd.get_dummies(rides_per_hour, columns=['weekday', 'hour', 'month'])"
   ]
  },
  {
   "cell_type": "code",
   "execution_count": 25,
   "id": "b9d90c41",
   "metadata": {},
   "outputs": [
    {
     "data": {
      "text/plain": [
       "Index(['date', 'time', 'is_holiday_x', 'rides', 'year', 'is_weekend',\n",
       "       'rides_lag_7', 'rides_lag_1', 'rides_lag_2', 'rides_lag_1_month',\n",
       "       'rides_lag_12_hours', 'weekday_Friday', 'weekday_Monday',\n",
       "       'weekday_Saturday', 'weekday_Sunday', 'weekday_Thursday',\n",
       "       'weekday_Tuesday', 'weekday_Wednesday', 'hour_0', 'hour_1', 'hour_2',\n",
       "       'hour_3', 'hour_4', 'hour_5', 'hour_6', 'hour_7', 'hour_8', 'hour_9',\n",
       "       'hour_10', 'hour_11', 'hour_12', 'hour_13', 'hour_14', 'hour_15',\n",
       "       'hour_16', 'hour_17', 'hour_18', 'hour_19', 'hour_20', 'hour_21',\n",
       "       'hour_22', 'hour_23', 'month_1', 'month_2', 'month_3', 'month_4',\n",
       "       'month_5', 'month_6'],\n",
       "      dtype='object')"
      ]
     },
     "execution_count": 25,
     "metadata": {},
     "output_type": "execute_result"
    }
   ],
   "source": [
    "rides_per_hour.columns"
   ]
  },
  {
   "cell_type": "code",
   "execution_count": 84,
   "id": "f53d266d",
   "metadata": {},
   "outputs": [],
   "source": [
    "#We save the columns we are using as predictors in columns for model and the target we want to predict in target\n",
    "columns_for_model = [column for column in rides_per_hour.columns\n",
    "                      if column.startswith(('weekday', 'hour', 'month'))]\n",
    "\n",
    "columns_for_model.extend(['is_holiday_x', 'is_weekend'])\n",
    "\n",
    "target = 'rides'"
   ]
  },
  {
   "cell_type": "code",
   "execution_count": 29,
   "id": "937aac34",
   "metadata": {},
   "outputs": [],
   "source": [
    "from sklearn.feature_selection import RFE\n",
    "from sklearn.ensemble import RandomForestRegressor\n"
   ]
  },
  {
   "cell_type": "code",
   "execution_count": 30,
   "id": "5cb31589",
   "metadata": {},
   "outputs": [],
   "source": [
    "rides_per_hour_models = rides_per_hour.dropna(subset = ['rides_lag_7'])"
   ]
  },
  {
   "cell_type": "code",
   "execution_count": 31,
   "id": "c091f8df",
   "metadata": {},
   "outputs": [
    {
     "data": {
      "text/html": [
       "<div>\n",
       "<style scoped>\n",
       "    .dataframe tbody tr th:only-of-type {\n",
       "        vertical-align: middle;\n",
       "    }\n",
       "\n",
       "    .dataframe tbody tr th {\n",
       "        vertical-align: top;\n",
       "    }\n",
       "\n",
       "    .dataframe thead th {\n",
       "        text-align: right;\n",
       "    }\n",
       "</style>\n",
       "<table border=\"1\" class=\"dataframe\">\n",
       "  <thead>\n",
       "    <tr style=\"text-align: right;\">\n",
       "      <th></th>\n",
       "      <th>date</th>\n",
       "      <th>time</th>\n",
       "      <th>is_holiday_x</th>\n",
       "      <th>rides</th>\n",
       "      <th>year</th>\n",
       "      <th>is_weekend</th>\n",
       "      <th>rides_lag_7</th>\n",
       "      <th>rides_lag_1</th>\n",
       "      <th>rides_lag_2</th>\n",
       "      <th>rides_lag_1_month</th>\n",
       "      <th>...</th>\n",
       "      <th>hour_20</th>\n",
       "      <th>hour_21</th>\n",
       "      <th>hour_22</th>\n",
       "      <th>hour_23</th>\n",
       "      <th>month_1</th>\n",
       "      <th>month_2</th>\n",
       "      <th>month_3</th>\n",
       "      <th>month_4</th>\n",
       "      <th>month_5</th>\n",
       "      <th>month_6</th>\n",
       "    </tr>\n",
       "    <tr>\n",
       "      <th>datetime</th>\n",
       "      <th></th>\n",
       "      <th></th>\n",
       "      <th></th>\n",
       "      <th></th>\n",
       "      <th></th>\n",
       "      <th></th>\n",
       "      <th></th>\n",
       "      <th></th>\n",
       "      <th></th>\n",
       "      <th></th>\n",
       "      <th></th>\n",
       "      <th></th>\n",
       "      <th></th>\n",
       "      <th></th>\n",
       "      <th></th>\n",
       "      <th></th>\n",
       "      <th></th>\n",
       "      <th></th>\n",
       "      <th></th>\n",
       "      <th></th>\n",
       "      <th></th>\n",
       "    </tr>\n",
       "  </thead>\n",
       "  <tbody>\n",
       "    <tr>\n",
       "      <th>2021-01-08 00:00:00</th>\n",
       "      <td>2021-01-08</td>\n",
       "      <td>00:00:00</td>\n",
       "      <td>0</td>\n",
       "      <td>13</td>\n",
       "      <td>2021</td>\n",
       "      <td>0</td>\n",
       "      <td>244.0</td>\n",
       "      <td>12.0</td>\n",
       "      <td>31.0</td>\n",
       "      <td>NaN</td>\n",
       "      <td>...</td>\n",
       "      <td>0</td>\n",
       "      <td>0</td>\n",
       "      <td>0</td>\n",
       "      <td>0</td>\n",
       "      <td>1</td>\n",
       "      <td>0</td>\n",
       "      <td>0</td>\n",
       "      <td>0</td>\n",
       "      <td>0</td>\n",
       "      <td>0</td>\n",
       "    </tr>\n",
       "    <tr>\n",
       "      <th>2021-01-08 01:00:00</th>\n",
       "      <td>2021-01-08</td>\n",
       "      <td>01:00:00</td>\n",
       "      <td>0</td>\n",
       "      <td>8</td>\n",
       "      <td>2021</td>\n",
       "      <td>0</td>\n",
       "      <td>25.0</td>\n",
       "      <td>7.0</td>\n",
       "      <td>11.0</td>\n",
       "      <td>NaN</td>\n",
       "      <td>...</td>\n",
       "      <td>0</td>\n",
       "      <td>0</td>\n",
       "      <td>0</td>\n",
       "      <td>0</td>\n",
       "      <td>1</td>\n",
       "      <td>0</td>\n",
       "      <td>0</td>\n",
       "      <td>0</td>\n",
       "      <td>0</td>\n",
       "      <td>0</td>\n",
       "    </tr>\n",
       "    <tr>\n",
       "      <th>2021-01-08 02:00:00</th>\n",
       "      <td>2021-01-08</td>\n",
       "      <td>02:00:00</td>\n",
       "      <td>0</td>\n",
       "      <td>3</td>\n",
       "      <td>2021</td>\n",
       "      <td>0</td>\n",
       "      <td>5.0</td>\n",
       "      <td>3.0</td>\n",
       "      <td>7.0</td>\n",
       "      <td>NaN</td>\n",
       "      <td>...</td>\n",
       "      <td>0</td>\n",
       "      <td>0</td>\n",
       "      <td>0</td>\n",
       "      <td>0</td>\n",
       "      <td>1</td>\n",
       "      <td>0</td>\n",
       "      <td>0</td>\n",
       "      <td>0</td>\n",
       "      <td>0</td>\n",
       "      <td>0</td>\n",
       "    </tr>\n",
       "    <tr>\n",
       "      <th>2021-01-08 03:00:00</th>\n",
       "      <td>2021-01-08</td>\n",
       "      <td>03:00:00</td>\n",
       "      <td>0</td>\n",
       "      <td>7</td>\n",
       "      <td>2021</td>\n",
       "      <td>0</td>\n",
       "      <td>2.0</td>\n",
       "      <td>10.0</td>\n",
       "      <td>5.0</td>\n",
       "      <td>NaN</td>\n",
       "      <td>...</td>\n",
       "      <td>0</td>\n",
       "      <td>0</td>\n",
       "      <td>0</td>\n",
       "      <td>0</td>\n",
       "      <td>1</td>\n",
       "      <td>0</td>\n",
       "      <td>0</td>\n",
       "      <td>0</td>\n",
       "      <td>0</td>\n",
       "      <td>0</td>\n",
       "    </tr>\n",
       "    <tr>\n",
       "      <th>2021-01-08 04:00:00</th>\n",
       "      <td>2021-01-08</td>\n",
       "      <td>04:00:00</td>\n",
       "      <td>0</td>\n",
       "      <td>19</td>\n",
       "      <td>2021</td>\n",
       "      <td>0</td>\n",
       "      <td>10.0</td>\n",
       "      <td>20.0</td>\n",
       "      <td>8.0</td>\n",
       "      <td>NaN</td>\n",
       "      <td>...</td>\n",
       "      <td>0</td>\n",
       "      <td>0</td>\n",
       "      <td>0</td>\n",
       "      <td>0</td>\n",
       "      <td>1</td>\n",
       "      <td>0</td>\n",
       "      <td>0</td>\n",
       "      <td>0</td>\n",
       "      <td>0</td>\n",
       "      <td>0</td>\n",
       "    </tr>\n",
       "    <tr>\n",
       "      <th>...</th>\n",
       "      <td>...</td>\n",
       "      <td>...</td>\n",
       "      <td>...</td>\n",
       "      <td>...</td>\n",
       "      <td>...</td>\n",
       "      <td>...</td>\n",
       "      <td>...</td>\n",
       "      <td>...</td>\n",
       "      <td>...</td>\n",
       "      <td>...</td>\n",
       "      <td>...</td>\n",
       "      <td>...</td>\n",
       "      <td>...</td>\n",
       "      <td>...</td>\n",
       "      <td>...</td>\n",
       "      <td>...</td>\n",
       "      <td>...</td>\n",
       "      <td>...</td>\n",
       "      <td>...</td>\n",
       "      <td>...</td>\n",
       "      <td>...</td>\n",
       "    </tr>\n",
       "    <tr>\n",
       "      <th>2021-06-30 19:00:00</th>\n",
       "      <td>2021-06-30</td>\n",
       "      <td>19:00:00</td>\n",
       "      <td>0</td>\n",
       "      <td>813</td>\n",
       "      <td>2021</td>\n",
       "      <td>0</td>\n",
       "      <td>814.0</td>\n",
       "      <td>749.0</td>\n",
       "      <td>691.0</td>\n",
       "      <td>610.0</td>\n",
       "      <td>...</td>\n",
       "      <td>0</td>\n",
       "      <td>0</td>\n",
       "      <td>0</td>\n",
       "      <td>0</td>\n",
       "      <td>0</td>\n",
       "      <td>0</td>\n",
       "      <td>0</td>\n",
       "      <td>0</td>\n",
       "      <td>0</td>\n",
       "      <td>1</td>\n",
       "    </tr>\n",
       "    <tr>\n",
       "      <th>2021-06-30 20:00:00</th>\n",
       "      <td>2021-06-30</td>\n",
       "      <td>20:00:00</td>\n",
       "      <td>0</td>\n",
       "      <td>552</td>\n",
       "      <td>2021</td>\n",
       "      <td>0</td>\n",
       "      <td>559.0</td>\n",
       "      <td>581.0</td>\n",
       "      <td>507.0</td>\n",
       "      <td>224.0</td>\n",
       "      <td>...</td>\n",
       "      <td>1</td>\n",
       "      <td>0</td>\n",
       "      <td>0</td>\n",
       "      <td>0</td>\n",
       "      <td>0</td>\n",
       "      <td>0</td>\n",
       "      <td>0</td>\n",
       "      <td>0</td>\n",
       "      <td>0</td>\n",
       "      <td>1</td>\n",
       "    </tr>\n",
       "    <tr>\n",
       "      <th>2021-06-30 21:00:00</th>\n",
       "      <td>2021-06-30</td>\n",
       "      <td>21:00:00</td>\n",
       "      <td>0</td>\n",
       "      <td>571</td>\n",
       "      <td>2021</td>\n",
       "      <td>0</td>\n",
       "      <td>615.0</td>\n",
       "      <td>482.0</td>\n",
       "      <td>400.0</td>\n",
       "      <td>205.0</td>\n",
       "      <td>...</td>\n",
       "      <td>0</td>\n",
       "      <td>1</td>\n",
       "      <td>0</td>\n",
       "      <td>0</td>\n",
       "      <td>0</td>\n",
       "      <td>0</td>\n",
       "      <td>0</td>\n",
       "      <td>0</td>\n",
       "      <td>0</td>\n",
       "      <td>1</td>\n",
       "    </tr>\n",
       "    <tr>\n",
       "      <th>2021-06-30 22:00:00</th>\n",
       "      <td>2021-06-30</td>\n",
       "      <td>22:00:00</td>\n",
       "      <td>0</td>\n",
       "      <td>499</td>\n",
       "      <td>2021</td>\n",
       "      <td>0</td>\n",
       "      <td>468.0</td>\n",
       "      <td>411.0</td>\n",
       "      <td>344.0</td>\n",
       "      <td>151.0</td>\n",
       "      <td>...</td>\n",
       "      <td>0</td>\n",
       "      <td>0</td>\n",
       "      <td>1</td>\n",
       "      <td>0</td>\n",
       "      <td>0</td>\n",
       "      <td>0</td>\n",
       "      <td>0</td>\n",
       "      <td>0</td>\n",
       "      <td>0</td>\n",
       "      <td>1</td>\n",
       "    </tr>\n",
       "    <tr>\n",
       "      <th>2021-06-30 23:00:00</th>\n",
       "      <td>2021-06-30</td>\n",
       "      <td>23:00:00</td>\n",
       "      <td>0</td>\n",
       "      <td>264</td>\n",
       "      <td>2021</td>\n",
       "      <td>0</td>\n",
       "      <td>199.0</td>\n",
       "      <td>213.0</td>\n",
       "      <td>170.0</td>\n",
       "      <td>67.0</td>\n",
       "      <td>...</td>\n",
       "      <td>0</td>\n",
       "      <td>0</td>\n",
       "      <td>0</td>\n",
       "      <td>1</td>\n",
       "      <td>0</td>\n",
       "      <td>0</td>\n",
       "      <td>0</td>\n",
       "      <td>0</td>\n",
       "      <td>0</td>\n",
       "      <td>1</td>\n",
       "    </tr>\n",
       "  </tbody>\n",
       "</table>\n",
       "<p>4176 rows × 48 columns</p>\n",
       "</div>"
      ],
      "text/plain": [
       "                           date      time  is_holiday_x  rides  year  \\\n",
       "datetime                                                               \n",
       "2021-01-08 00:00:00  2021-01-08  00:00:00             0     13  2021   \n",
       "2021-01-08 01:00:00  2021-01-08  01:00:00             0      8  2021   \n",
       "2021-01-08 02:00:00  2021-01-08  02:00:00             0      3  2021   \n",
       "2021-01-08 03:00:00  2021-01-08  03:00:00             0      7  2021   \n",
       "2021-01-08 04:00:00  2021-01-08  04:00:00             0     19  2021   \n",
       "...                         ...       ...           ...    ...   ...   \n",
       "2021-06-30 19:00:00  2021-06-30  19:00:00             0    813  2021   \n",
       "2021-06-30 20:00:00  2021-06-30  20:00:00             0    552  2021   \n",
       "2021-06-30 21:00:00  2021-06-30  21:00:00             0    571  2021   \n",
       "2021-06-30 22:00:00  2021-06-30  22:00:00             0    499  2021   \n",
       "2021-06-30 23:00:00  2021-06-30  23:00:00             0    264  2021   \n",
       "\n",
       "                     is_weekend  rides_lag_7  rides_lag_1  rides_lag_2  \\\n",
       "datetime                                                                 \n",
       "2021-01-08 00:00:00           0        244.0         12.0         31.0   \n",
       "2021-01-08 01:00:00           0         25.0          7.0         11.0   \n",
       "2021-01-08 02:00:00           0          5.0          3.0          7.0   \n",
       "2021-01-08 03:00:00           0          2.0         10.0          5.0   \n",
       "2021-01-08 04:00:00           0         10.0         20.0          8.0   \n",
       "...                         ...          ...          ...          ...   \n",
       "2021-06-30 19:00:00           0        814.0        749.0        691.0   \n",
       "2021-06-30 20:00:00           0        559.0        581.0        507.0   \n",
       "2021-06-30 21:00:00           0        615.0        482.0        400.0   \n",
       "2021-06-30 22:00:00           0        468.0        411.0        344.0   \n",
       "2021-06-30 23:00:00           0        199.0        213.0        170.0   \n",
       "\n",
       "                     rides_lag_1_month  ...  hour_20  hour_21  hour_22  \\\n",
       "datetime                                ...                              \n",
       "2021-01-08 00:00:00                NaN  ...        0        0        0   \n",
       "2021-01-08 01:00:00                NaN  ...        0        0        0   \n",
       "2021-01-08 02:00:00                NaN  ...        0        0        0   \n",
       "2021-01-08 03:00:00                NaN  ...        0        0        0   \n",
       "2021-01-08 04:00:00                NaN  ...        0        0        0   \n",
       "...                                ...  ...      ...      ...      ...   \n",
       "2021-06-30 19:00:00              610.0  ...        0        0        0   \n",
       "2021-06-30 20:00:00              224.0  ...        1        0        0   \n",
       "2021-06-30 21:00:00              205.0  ...        0        1        0   \n",
       "2021-06-30 22:00:00              151.0  ...        0        0        1   \n",
       "2021-06-30 23:00:00               67.0  ...        0        0        0   \n",
       "\n",
       "                     hour_23  month_1  month_2  month_3  month_4  month_5  \\\n",
       "datetime                                                                    \n",
       "2021-01-08 00:00:00        0        1        0        0        0        0   \n",
       "2021-01-08 01:00:00        0        1        0        0        0        0   \n",
       "2021-01-08 02:00:00        0        1        0        0        0        0   \n",
       "2021-01-08 03:00:00        0        1        0        0        0        0   \n",
       "2021-01-08 04:00:00        0        1        0        0        0        0   \n",
       "...                      ...      ...      ...      ...      ...      ...   \n",
       "2021-06-30 19:00:00        0        0        0        0        0        0   \n",
       "2021-06-30 20:00:00        0        0        0        0        0        0   \n",
       "2021-06-30 21:00:00        0        0        0        0        0        0   \n",
       "2021-06-30 22:00:00        0        0        0        0        0        0   \n",
       "2021-06-30 23:00:00        1        0        0        0        0        0   \n",
       "\n",
       "                     month_6  \n",
       "datetime                      \n",
       "2021-01-08 00:00:00        0  \n",
       "2021-01-08 01:00:00        0  \n",
       "2021-01-08 02:00:00        0  \n",
       "2021-01-08 03:00:00        0  \n",
       "2021-01-08 04:00:00        0  \n",
       "...                      ...  \n",
       "2021-06-30 19:00:00        1  \n",
       "2021-06-30 20:00:00        1  \n",
       "2021-06-30 21:00:00        1  \n",
       "2021-06-30 22:00:00        1  \n",
       "2021-06-30 23:00:00        1  \n",
       "\n",
       "[4176 rows x 48 columns]"
      ]
     },
     "execution_count": 31,
     "metadata": {},
     "output_type": "execute_result"
    }
   ],
   "source": [
    "rides_per_hour_models"
   ]
  },
  {
   "cell_type": "code",
   "execution_count": 32,
   "id": "999ed2c6",
   "metadata": {},
   "outputs": [],
   "source": [
    "rides_per_hour_models['rides_lag_7'] = rides_per_hour_models['rides_lag_7'].astype(int)\n",
    "rides_per_hour_models['rides_lag_1'] = rides_per_hour_models['rides_lag_1'].astype(int)"
   ]
  },
  {
   "cell_type": "code",
   "execution_count": 33,
   "id": "06d5d118",
   "metadata": {},
   "outputs": [],
   "source": [
    "from skforecast.ForecasterAutoreg import ForecasterAutoreg\n",
    "from skforecast.ForecasterAutoregCustom import ForecasterAutoregCustom\n",
    "from skforecast.ForecasterAutoregMultiOutput import ForecasterAutoregMultiOutput\n",
    "from skforecast.model_selection import grid_search_forecaster\n",
    "from skforecast.model_selection import backtesting_forecaster"
   ]
  },
  {
   "cell_type": "code",
   "execution_count": 34,
   "id": "b39e8b30",
   "metadata": {},
   "outputs": [
    {
     "data": {
      "text/plain": [
       "True"
      ]
     },
     "execution_count": 34,
     "metadata": {},
     "output_type": "execute_result"
    }
   ],
   "source": [
    "#Verification that the temporal series is complete\n",
    "(rides_per_hour.index==pd.date_range(start = rides_per_hour.index.min(),\n",
    "                                   end = rides_per_hour.index.max(),\n",
    "                                   freq='1H')\n",
    ").all()"
   ]
  },
  {
   "cell_type": "code",
   "execution_count": 46,
   "id": "0be32746",
   "metadata": {},
   "outputs": [],
   "source": [
    "#Division of the dataset in train and test\n",
    "train_end = int(0.95*len(rides_per_hour_models))\n",
    "train = rides_per_hour_models[:train_end]\n",
    "test = rides_per_hour_models[train_end:]"
   ]
  },
  {
   "cell_type": "code",
   "execution_count": 47,
   "id": "149533ae",
   "metadata": {},
   "outputs": [],
   "source": [
    "X_train, y_train = train[columns_for_model], train[target]\n",
    "X_test, y_test = test[columns_for_model], test[target]"
   ]
  },
  {
   "cell_type": "markdown",
   "id": "d060acce",
   "metadata": {},
   "source": [
    "A ForecasterAutoreg is created and trained from a RandomForestRegressor and a time window of 24*7 lags, using the past 7 days demand as predictors"
   ]
  },
  {
   "cell_type": "code",
   "execution_count": 48,
   "id": "0d499bdc",
   "metadata": {},
   "outputs": [
    {
     "data": {
      "text/plain": [
       "datetime\n",
       "2021-01-08 00:00:00      13\n",
       "2021-01-08 01:00:00       8\n",
       "2021-01-08 02:00:00       3\n",
       "2021-01-08 03:00:00       7\n",
       "2021-01-08 04:00:00      19\n",
       "                       ... \n",
       "2021-06-22 02:00:00      26\n",
       "2021-06-22 03:00:00      55\n",
       "2021-06-22 04:00:00     111\n",
       "2021-06-22 05:00:00     525\n",
       "2021-06-22 06:00:00    1031\n",
       "Name: rides, Length: 3967, dtype: int64"
      ]
     },
     "execution_count": 48,
     "metadata": {},
     "output_type": "execute_result"
    }
   ],
   "source": [
    "y_train"
   ]
  },
  {
   "cell_type": "code",
   "execution_count": 37,
   "id": "766e3846",
   "metadata": {},
   "outputs": [
    {
     "data": {
      "text/plain": [
       "================= \n",
       "ForecasterAutoreg \n",
       "================= \n",
       "Regressor: RandomForestRegressor(random_state=123) \n",
       "Lags: [  1   2   3   4   5   6   7   8   9  10  11  12  13  14  15  16  17  18\n",
       "  19  20  21  22  23  24  25  26  27  28  29  30  31  32  33  34  35  36\n",
       "  37  38  39  40  41  42  43  44  45  46  47  48  49  50  51  52  53  54\n",
       "  55  56  57  58  59  60  61  62  63  64  65  66  67  68  69  70  71  72\n",
       "  73  74  75  76  77  78  79  80  81  82  83  84  85  86  87  88  89  90\n",
       "  91  92  93  94  95  96  97  98  99 100 101 102 103 104 105 106 107 108\n",
       " 109 110 111 112 113 114 115 116 117 118 119 120 121 122 123 124 125 126\n",
       " 127 128 129 130 131 132 133 134 135 136 137 138 139 140 141 142 143 144\n",
       " 145 146 147 148 149 150 151 152 153 154 155 156 157 158 159 160 161 162\n",
       " 163 164 165 166 167 168] \n",
       "Window size: 168 \n",
       "Included exogenous: False \n",
       "Type of exogenous variable: None \n",
       "Exogenous variables names: None \n",
       "Training range: [0, 3966] \n",
       "Training index type: RangeIndex \n",
       "Training index frequency: 1 \n",
       "Regressor parameters: {'bootstrap': True, 'ccp_alpha': 0.0, 'criterion': 'squared_error', 'max_depth': None, 'max_features': 'auto', 'max_leaf_nodes': None, 'max_samples': None, 'min_impurity_decrease': 0.0, 'min_samples_leaf': 1, 'min_samples_split': 2, 'min_weight_fraction_leaf': 0.0, 'n_estimators': 100, 'n_jobs': None, 'oob_score': False, 'random_state': 123, 'verbose': 0, 'warm_start': False} \n",
       "Creation date: 2022-05-27 17:07:01 \n",
       "Last fit date: 2022-05-27 17:07:24 \n",
       "Skforecast version: 0.4.3 "
      ]
     },
     "execution_count": 37,
     "metadata": {},
     "output_type": "execute_result"
    }
   ],
   "source": [
    "forecaster = ForecasterAutoreg(regressor = RandomForestRegressor(random_state=123),\n",
    "                              lags = 24*7)\n",
    "\n",
    "forecaster.fit(y_train)\n",
    "forecaster"
   ]
  },
  {
   "cell_type": "code",
   "execution_count": 49,
   "id": "e941e131",
   "metadata": {},
   "outputs": [
    {
     "data": {
      "text/plain": [
       "0      913.669991\n",
       "1      530.869196\n",
       "2      546.122303\n",
       "3      589.819199\n",
       "4      783.252569\n",
       "          ...    \n",
       "204    811.688858\n",
       "205    546.593114\n",
       "206    512.173987\n",
       "207    462.983032\n",
       "208    361.702456\n",
       "Name: pred, Length: 209, dtype: float64"
      ]
     },
     "execution_count": 49,
     "metadata": {},
     "output_type": "execute_result"
    }
   ],
   "source": [
    "#Prediction of test\n",
    "predictions = forecaster.predict(steps=len(X_test))\n",
    "predictions = predictions.reset_index()\n",
    "predictions = predictions['pred']\n",
    "predictions"
   ]
  },
  {
   "cell_type": "code",
   "execution_count": 50,
   "id": "f2c21de0",
   "metadata": {},
   "outputs": [],
   "source": [
    "demand = y_test\n",
    "demand = demand.reset_index()\n",
    "demand = demand['rides']"
   ]
  },
  {
   "cell_type": "code",
   "execution_count": 51,
   "id": "8b148b11",
   "metadata": {},
   "outputs": [
    {
     "data": {
      "text/plain": [
       "0      857\n",
       "1      479\n",
       "2      488\n",
       "3      543\n",
       "4      690\n",
       "      ... \n",
       "204    813\n",
       "205    552\n",
       "206    571\n",
       "207    499\n",
       "208    264\n",
       "Name: rides, Length: 209, dtype: int64"
      ]
     },
     "execution_count": 51,
     "metadata": {},
     "output_type": "execute_result"
    }
   ],
   "source": [
    "demand"
   ]
  },
  {
   "cell_type": "code",
   "execution_count": 52,
   "id": "34306a2a",
   "metadata": {},
   "outputs": [
    {
     "data": {
      "image/png": "[encoded data removed]",
      "text/plain": [
       "<Figure size 1008x360 with 1 Axes>"
      ]
     },
     "metadata": {
      "needs_background": "light"
     },
     "output_type": "display_data"
    }
   ],
   "source": [
    "fig, ax = plt.subplots(figsize=(14, 5))\n",
    "\n",
    "plt.plot(demand, label='demand')\n",
    "plt.plot(predictions, label = 'predictions')\n",
    "ax.legend()\n",
    "plt.show()"
   ]
  },
  {
   "cell_type": "code",
   "execution_count": 53,
   "id": "d1e8b53d",
   "metadata": {},
   "outputs": [],
   "source": [
    "mse, mae, rmse, r2 = calculate_metrics(predictions, demand)\n",
    "evaluation_models = evaluation_models.append({'model':'ForecastAutoreg', 'MSE': mse, 'MAE': mae, 'RMSE': rmse,  'R2':r2},\n",
    "                                             ignore_index=True)\n"
   ]
  },
  {
   "cell_type": "code",
   "execution_count": 54,
   "id": "1bcc1dd8",
   "metadata": {},
   "outputs": [
    {
     "data": {
      "text/html": [
       "<div>\n",
       "<style scoped>\n",
       "    .dataframe tbody tr th:only-of-type {\n",
       "        vertical-align: middle;\n",
       "    }\n",
       "\n",
       "    .dataframe tbody tr th {\n",
       "        vertical-align: top;\n",
       "    }\n",
       "\n",
       "    .dataframe thead th {\n",
       "        text-align: right;\n",
       "    }\n",
       "</style>\n",
       "<table border=\"1\" class=\"dataframe\">\n",
       "  <thead>\n",
       "    <tr style=\"text-align: right;\">\n",
       "      <th></th>\n",
       "      <th>model</th>\n",
       "      <th>MSE</th>\n",
       "      <th>MAE</th>\n",
       "      <th>RMSE</th>\n",
       "      <th>R2</th>\n",
       "    </tr>\n",
       "  </thead>\n",
       "  <tbody>\n",
       "    <tr>\n",
       "      <th>0</th>\n",
       "      <td>naive</td>\n",
       "      <td>23121.392344</td>\n",
       "      <td>89.478469</td>\n",
       "      <td>152.057201</td>\n",
       "      <td>0.810537</td>\n",
       "    </tr>\n",
       "    <tr>\n",
       "      <th>1</th>\n",
       "      <td>ForecastAutoreg</td>\n",
       "      <td>7723.660588</td>\n",
       "      <td>59.293636</td>\n",
       "      <td>87.884359</td>\n",
       "      <td>0.934986</td>\n",
       "    </tr>\n",
       "    <tr>\n",
       "      <th>2</th>\n",
       "      <td>ForecastAutoreg</td>\n",
       "      <td>8386.312352</td>\n",
       "      <td>62.880608</td>\n",
       "      <td>91.576811</td>\n",
       "      <td>0.926742</td>\n",
       "    </tr>\n",
       "  </tbody>\n",
       "</table>\n",
       "</div>"
      ],
      "text/plain": [
       "             model           MSE        MAE        RMSE        R2\n",
       "0            naive  23121.392344  89.478469  152.057201  0.810537\n",
       "1  ForecastAutoreg   7723.660588  59.293636   87.884359  0.934986\n",
       "2  ForecastAutoreg   8386.312352  62.880608   91.576811  0.926742"
      ]
     },
     "execution_count": 54,
     "metadata": {},
     "output_type": "execute_result"
    }
   ],
   "source": [
    "evaluation_models"
   ]
  },
  {
   "cell_type": "markdown",
   "id": "b84927b0",
   "metadata": {},
   "source": [
    "### Hyperparameters"
   ]
  },
  {
   "cell_type": "markdown",
   "id": "b91a8e53",
   "metadata": {},
   "source": [
    "We are going to search for the best hyperparameters for the model and the number of lags required, for this we are going to perform a grid search"
   ]
  },
  {
   "cell_type": "code",
   "execution_count": 44,
   "id": "e81ddb06",
   "metadata": {},
   "outputs": [
    {
     "name": "stderr",
     "output_type": "stream",
     "text": [
      "loop lags_grid:   0%|                                               | 0/2 [00:00<?, ?it/s]\n",
      "loop param_grid:   0%|                                              | 0/6 [00:00<?, ?it/s]\u001b[A"
     ]
    },
    {
     "name": "stdout",
     "output_type": "stream",
     "text": [
      "Number of models compared: 12\n"
     ]
    },
    {
     "name": "stderr",
     "output_type": "stream",
     "text": [
      "\n",
      "loop param_grid:  17%|██████▎                               | 1/6 [00:11<00:57, 11.45s/it]\u001b[A\n",
      "loop param_grid:  33%|████████████▋                         | 2/6 [01:10<02:37, 39.47s/it]\u001b[A\n",
      "loop param_grid:  50%|███████████████████                   | 3/6 [01:23<01:22, 27.49s/it]\u001b[A\n",
      "loop param_grid:  67%|█████████████████████████▎            | 4/6 [02:32<01:27, 43.91s/it]\u001b[A\n",
      "loop param_grid:  83%|███████████████████████████████▋      | 5/6 [02:51<00:34, 34.89s/it]\u001b[A\n",
      "loop param_grid: 100%|██████████████████████████████████████| 6/6 [04:19<00:00, 52.98s/it]\u001b[A\n",
      "loop lags_grid:  50%|███████████████████                   | 1/2 [04:19<04:19, 259.86s/it]\u001b[A\n",
      "loop param_grid:   0%|                                              | 0/6 [00:00<?, ?it/s]\u001b[A\n",
      "loop param_grid:  17%|██████▎                               | 1/6 [00:09<00:49,  9.96s/it]\u001b[A\n",
      "loop param_grid:  33%|████████████▋                         | 2/6 [00:55<02:03, 30.77s/it]\u001b[A\n",
      "loop param_grid:  50%|███████████████████                   | 3/6 [01:04<01:03, 21.04s/it]\u001b[A\n",
      "loop param_grid:  67%|█████████████████████████▎            | 4/6 [01:57<01:06, 33.40s/it]\u001b[A\n",
      "loop param_grid:  83%|███████████████████████████████▋      | 5/6 [02:10<00:26, 26.36s/it]\u001b[A\n",
      "loop param_grid: 100%|██████████████████████████████████████| 6/6 [03:15<00:00, 39.28s/it]\u001b[A\n",
      "loop lags_grid: 100%|██████████████████████████████████████| 2/2 [07:35<00:00, 227.61s/it]\u001b[A\n"
     ]
    },
    {
     "name": "stdout",
     "output_type": "stream",
     "text": [
      "`Forecaster` refitted using the best-found lags and parameters, and the whole data set: \n",
      "  Lags: [  1   2   3   4   5   6   7   8   9  10  11  12  13  14  15  16  17  18\n",
      "  19  20  21  22  23  24  25  26  27  28  29  30  31  32  33  34  35  36\n",
      "  37  38  39  40  41  42  43  44  45  46  47  48  49  50  51  52  53  54\n",
      "  55  56  57  58  59  60  61  62  63  64  65  66  67  68  69  70  71  72\n",
      "  73  74  75  76  77  78  79  80  81  82  83  84  85  86  87  88  89  90\n",
      "  91  92  93  94  95  96  97  98  99 100 101 102 103 104 105 106 107 108\n",
      " 109 110 111 112 113 114 115 116 117 118 119 120 121 122 123 124 125 126\n",
      " 127 128 129 130 131 132 133 134 135 136 137 138 139 140 141 142 143 144\n",
      " 145 146 147 148 149 150 151 152 153 154 155 156 157 158 159 160 161 162\n",
      " 163 164 165 166 167 168] \n",
      "  Parameters: {'max_depth': 10, 'n_estimators': 100}\n",
      "  Backtesting metric: 22737.789114991934\n",
      "\n"
     ]
    }
   ],
   "source": [
    "forecaster = ForecasterAutoreg(regressor = RandomForestRegressor(random_state=123),\n",
    "                              lags =24*7)\n",
    "\n",
    "#Lags used as predictors\n",
    "possible_lags = [24*7, 24*1]\n",
    "\n",
    "#hyperparameters of regressor\n",
    "param_grid = {'n_estimators':[100,500],\n",
    "             'max_depth': [3,5,10]}\n",
    "\n",
    "grid_results = grid_search_forecaster(forecaster = forecaster,\n",
    "                                     y = y_train,\n",
    "                                     param_grid = param_grid,\n",
    "                                     lags_grid = possible_lags,\n",
    "                                     steps = 24,\n",
    "                                     refit = False,\n",
    "                                     metric = 'mean_squared_error',\n",
    "                                     initial_train_size=int(len(X_train)*0.5),\n",
    "                                     fixed_train_size = False,\n",
    "                                     return_best=True,\n",
    "                                     verbose=False\n",
    "                                     )"
   ]
  },
  {
   "cell_type": "code",
   "execution_count": 45,
   "id": "f925253e",
   "metadata": {},
   "outputs": [
    {
     "data": {
      "text/html": [
       "<div>\n",
       "<style scoped>\n",
       "    .dataframe tbody tr th:only-of-type {\n",
       "        vertical-align: middle;\n",
       "    }\n",
       "\n",
       "    .dataframe tbody tr th {\n",
       "        vertical-align: top;\n",
       "    }\n",
       "\n",
       "    .dataframe thead th {\n",
       "        text-align: right;\n",
       "    }\n",
       "</style>\n",
       "<table border=\"1\" class=\"dataframe\">\n",
       "  <thead>\n",
       "    <tr style=\"text-align: right;\">\n",
       "      <th></th>\n",
       "      <th>lags</th>\n",
       "      <th>params</th>\n",
       "      <th>metric</th>\n",
       "      <th>max_depth</th>\n",
       "      <th>n_estimators</th>\n",
       "    </tr>\n",
       "  </thead>\n",
       "  <tbody>\n",
       "    <tr>\n",
       "      <th>4</th>\n",
       "      <td>[1, 2, 3, 4, 5, 6, 7, 8, 9, 10, 11, 12, 13, 14...</td>\n",
       "      <td>{'max_depth': 10, 'n_estimators': 100}</td>\n",
       "      <td>22737.789115</td>\n",
       "      <td>10</td>\n",
       "      <td>100</td>\n",
       "    </tr>\n",
       "    <tr>\n",
       "      <th>5</th>\n",
       "      <td>[1, 2, 3, 4, 5, 6, 7, 8, 9, 10, 11, 12, 13, 14...</td>\n",
       "      <td>{'max_depth': 10, 'n_estimators': 500}</td>\n",
       "      <td>22802.441220</td>\n",
       "      <td>10</td>\n",
       "      <td>500</td>\n",
       "    </tr>\n",
       "    <tr>\n",
       "      <th>2</th>\n",
       "      <td>[1, 2, 3, 4, 5, 6, 7, 8, 9, 10, 11, 12, 13, 14...</td>\n",
       "      <td>{'max_depth': 5, 'n_estimators': 100}</td>\n",
       "      <td>24105.160147</td>\n",
       "      <td>5</td>\n",
       "      <td>100</td>\n",
       "    </tr>\n",
       "    <tr>\n",
       "      <th>3</th>\n",
       "      <td>[1, 2, 3, 4, 5, 6, 7, 8, 9, 10, 11, 12, 13, 14...</td>\n",
       "      <td>{'max_depth': 5, 'n_estimators': 500}</td>\n",
       "      <td>24125.509854</td>\n",
       "      <td>5</td>\n",
       "      <td>500</td>\n",
       "    </tr>\n",
       "    <tr>\n",
       "      <th>0</th>\n",
       "      <td>[1, 2, 3, 4, 5, 6, 7, 8, 9, 10, 11, 12, 13, 14...</td>\n",
       "      <td>{'max_depth': 3, 'n_estimators': 100}</td>\n",
       "      <td>29134.214612</td>\n",
       "      <td>3</td>\n",
       "      <td>100</td>\n",
       "    </tr>\n",
       "    <tr>\n",
       "      <th>1</th>\n",
       "      <td>[1, 2, 3, 4, 5, 6, 7, 8, 9, 10, 11, 12, 13, 14...</td>\n",
       "      <td>{'max_depth': 3, 'n_estimators': 500}</td>\n",
       "      <td>29281.484836</td>\n",
       "      <td>3</td>\n",
       "      <td>500</td>\n",
       "    </tr>\n",
       "    <tr>\n",
       "      <th>10</th>\n",
       "      <td>[1, 2, 3, 4, 5, 6, 7, 8, 9, 10, 11, 12, 13, 14...</td>\n",
       "      <td>{'max_depth': 10, 'n_estimators': 100}</td>\n",
       "      <td>37474.071603</td>\n",
       "      <td>10</td>\n",
       "      <td>100</td>\n",
       "    </tr>\n",
       "    <tr>\n",
       "      <th>11</th>\n",
       "      <td>[1, 2, 3, 4, 5, 6, 7, 8, 9, 10, 11, 12, 13, 14...</td>\n",
       "      <td>{'max_depth': 10, 'n_estimators': 500}</td>\n",
       "      <td>37778.669042</td>\n",
       "      <td>10</td>\n",
       "      <td>500</td>\n",
       "    </tr>\n",
       "    <tr>\n",
       "      <th>9</th>\n",
       "      <td>[1, 2, 3, 4, 5, 6, 7, 8, 9, 10, 11, 12, 13, 14...</td>\n",
       "      <td>{'max_depth': 5, 'n_estimators': 500}</td>\n",
       "      <td>42150.444392</td>\n",
       "      <td>5</td>\n",
       "      <td>500</td>\n",
       "    </tr>\n",
       "    <tr>\n",
       "      <th>8</th>\n",
       "      <td>[1, 2, 3, 4, 5, 6, 7, 8, 9, 10, 11, 12, 13, 14...</td>\n",
       "      <td>{'max_depth': 5, 'n_estimators': 100}</td>\n",
       "      <td>42905.969943</td>\n",
       "      <td>5</td>\n",
       "      <td>100</td>\n",
       "    </tr>\n",
       "    <tr>\n",
       "      <th>7</th>\n",
       "      <td>[1, 2, 3, 4, 5, 6, 7, 8, 9, 10, 11, 12, 13, 14...</td>\n",
       "      <td>{'max_depth': 3, 'n_estimators': 500}</td>\n",
       "      <td>53135.415358</td>\n",
       "      <td>3</td>\n",
       "      <td>500</td>\n",
       "    </tr>\n",
       "    <tr>\n",
       "      <th>6</th>\n",
       "      <td>[1, 2, 3, 4, 5, 6, 7, 8, 9, 10, 11, 12, 13, 14...</td>\n",
       "      <td>{'max_depth': 3, 'n_estimators': 100}</td>\n",
       "      <td>53239.478668</td>\n",
       "      <td>3</td>\n",
       "      <td>100</td>\n",
       "    </tr>\n",
       "  </tbody>\n",
       "</table>\n",
       "</div>"
      ],
      "text/plain": [
       "                                                 lags  \\\n",
       "4   [1, 2, 3, 4, 5, 6, 7, 8, 9, 10, 11, 12, 13, 14...   \n",
       "5   [1, 2, 3, 4, 5, 6, 7, 8, 9, 10, 11, 12, 13, 14...   \n",
       "2   [1, 2, 3, 4, 5, 6, 7, 8, 9, 10, 11, 12, 13, 14...   \n",
       "3   [1, 2, 3, 4, 5, 6, 7, 8, 9, 10, 11, 12, 13, 14...   \n",
       "0   [1, 2, 3, 4, 5, 6, 7, 8, 9, 10, 11, 12, 13, 14...   \n",
       "1   [1, 2, 3, 4, 5, 6, 7, 8, 9, 10, 11, 12, 13, 14...   \n",
       "10  [1, 2, 3, 4, 5, 6, 7, 8, 9, 10, 11, 12, 13, 14...   \n",
       "11  [1, 2, 3, 4, 5, 6, 7, 8, 9, 10, 11, 12, 13, 14...   \n",
       "9   [1, 2, 3, 4, 5, 6, 7, 8, 9, 10, 11, 12, 13, 14...   \n",
       "8   [1, 2, 3, 4, 5, 6, 7, 8, 9, 10, 11, 12, 13, 14...   \n",
       "7   [1, 2, 3, 4, 5, 6, 7, 8, 9, 10, 11, 12, 13, 14...   \n",
       "6   [1, 2, 3, 4, 5, 6, 7, 8, 9, 10, 11, 12, 13, 14...   \n",
       "\n",
       "                                    params        metric  max_depth  \\\n",
       "4   {'max_depth': 10, 'n_estimators': 100}  22737.789115         10   \n",
       "5   {'max_depth': 10, 'n_estimators': 500}  22802.441220         10   \n",
       "2    {'max_depth': 5, 'n_estimators': 100}  24105.160147          5   \n",
       "3    {'max_depth': 5, 'n_estimators': 500}  24125.509854          5   \n",
       "0    {'max_depth': 3, 'n_estimators': 100}  29134.214612          3   \n",
       "1    {'max_depth': 3, 'n_estimators': 500}  29281.484836          3   \n",
       "10  {'max_depth': 10, 'n_estimators': 100}  37474.071603         10   \n",
       "11  {'max_depth': 10, 'n_estimators': 500}  37778.669042         10   \n",
       "9    {'max_depth': 5, 'n_estimators': 500}  42150.444392          5   \n",
       "8    {'max_depth': 5, 'n_estimators': 100}  42905.969943          5   \n",
       "7    {'max_depth': 3, 'n_estimators': 500}  53135.415358          3   \n",
       "6    {'max_depth': 3, 'n_estimators': 100}  53239.478668          3   \n",
       "\n",
       "    n_estimators  \n",
       "4            100  \n",
       "5            500  \n",
       "2            100  \n",
       "3            500  \n",
       "0            100  \n",
       "1            500  \n",
       "10           100  \n",
       "11           500  \n",
       "9            500  \n",
       "8            100  \n",
       "7            500  \n",
       "6            100  "
      ]
     },
     "execution_count": 45,
     "metadata": {},
     "output_type": "execute_result"
    }
   ],
   "source": [
    "#Results of the grid search\n",
    "grid_results"
   ]
  },
  {
   "cell_type": "markdown",
   "id": "c9ef72b3",
   "metadata": {},
   "source": [
    "Best results are the ones that use a lag and the hyperparameters:\n",
    "* max_depth: 10\n",
    "* n_estimators: 500"
   ]
  },
  {
   "cell_type": "markdown",
   "id": "a0b59440",
   "metadata": {},
   "source": [
    "##### Final model"
   ]
  },
  {
   "cell_type": "markdown",
   "id": "d1b96100",
   "metadata": {},
   "source": [
    "Once we've found the best combination of hyperparameters, we train a new ForecasterAutoreg and plot the results"
   ]
  },
  {
   "cell_type": "code",
   "execution_count": 45,
   "id": "8d87a7e0",
   "metadata": {},
   "outputs": [],
   "source": [
    "regressor = RandomForestRegressor(max_depth=10,n_estimators =50, random_state=123)\n",
    "forecaster = ForecasterAutoreg(regressor=regressor,\n",
    "                              lags=24*7)\n",
    "forecaster.fit(y=y_train)"
   ]
  },
  {
   "cell_type": "code",
   "execution_count": 46,
   "id": "34362957",
   "metadata": {},
   "outputs": [
    {
     "data": {
      "text/plain": [
       "0       703.218208\n",
       "1       662.062276\n",
       "2       524.860711\n",
       "3       411.900525\n",
       "4       447.427865\n",
       "           ...    \n",
       "1082    595.652873\n",
       "1083    538.287779\n",
       "1084    457.875127\n",
       "1085    412.375311\n",
       "1086    337.590597\n",
       "Name: pred, Length: 1087, dtype: float64"
      ]
     },
     "execution_count": 46,
     "metadata": {},
     "output_type": "execute_result"
    }
   ],
   "source": [
    "predictions = forecaster.predict(steps=len(X_test))\n",
    "predictions = predictions.reset_index()\n",
    "predictions = predictions['pred']\n",
    "predictions"
   ]
  },
  {
   "cell_type": "code",
   "execution_count": 47,
   "id": "4d8678c8",
   "metadata": {},
   "outputs": [],
   "source": [
    "demand = y_test\n",
    "demand = demand.reset_index()\n",
    "demand = demand['rides']"
   ]
  },
  {
   "cell_type": "code",
   "execution_count": 48,
   "id": "0acf48a1",
   "metadata": {},
   "outputs": [
    {
     "data": {
      "text/plain": [
       "0       617\n",
       "1       693\n",
       "2       623\n",
       "3       435\n",
       "4       373\n",
       "       ... \n",
       "1082    813\n",
       "1083    552\n",
       "1084    571\n",
       "1085    499\n",
       "1086    264\n",
       "Name: rides, Length: 1087, dtype: int64"
      ]
     },
     "execution_count": 48,
     "metadata": {},
     "output_type": "execute_result"
    }
   ],
   "source": [
    "demand"
   ]
  },
  {
   "cell_type": "code",
   "execution_count": 55,
   "id": "09f15bc6",
   "metadata": {},
   "outputs": [
    {
     "data": {
      "image/png": "[encoded data removed]",
      "text/plain": [
       "<Figure size 1008x360 with 1 Axes>"
      ]
     },
     "metadata": {
      "needs_background": "light"
     },
     "output_type": "display_data"
    }
   ],
   "source": [
    "fig, ax = plt.subplots(figsize=(14, 5))\n",
    "\n",
    "plt.plot(demand, label='demand')\n",
    "plt.plot(predictions, label = 'predictions')\n",
    "ax.legend()\n",
    "plt.show()"
   ]
  },
  {
   "cell_type": "code",
   "execution_count": 56,
   "id": "c17392f3",
   "metadata": {
    "scrolled": true
   },
   "outputs": [
    {
     "data": {
      "text/html": [
       "<div>\n",
       "<style scoped>\n",
       "    .dataframe tbody tr th:only-of-type {\n",
       "        vertical-align: middle;\n",
       "    }\n",
       "\n",
       "    .dataframe tbody tr th {\n",
       "        vertical-align: top;\n",
       "    }\n",
       "\n",
       "    .dataframe thead th {\n",
       "        text-align: right;\n",
       "    }\n",
       "</style>\n",
       "<table border=\"1\" class=\"dataframe\">\n",
       "  <thead>\n",
       "    <tr style=\"text-align: right;\">\n",
       "      <th></th>\n",
       "      <th>model</th>\n",
       "      <th>MSE</th>\n",
       "      <th>MAE</th>\n",
       "      <th>RMSE</th>\n",
       "      <th>R2</th>\n",
       "    </tr>\n",
       "  </thead>\n",
       "  <tbody>\n",
       "    <tr>\n",
       "      <th>0</th>\n",
       "      <td>naive</td>\n",
       "      <td>23121.392344</td>\n",
       "      <td>89.478469</td>\n",
       "      <td>152.057201</td>\n",
       "      <td>0.810537</td>\n",
       "    </tr>\n",
       "    <tr>\n",
       "      <th>1</th>\n",
       "      <td>ForecastAutoreg</td>\n",
       "      <td>7723.660588</td>\n",
       "      <td>59.293636</td>\n",
       "      <td>87.884359</td>\n",
       "      <td>0.934986</td>\n",
       "    </tr>\n",
       "    <tr>\n",
       "      <th>2</th>\n",
       "      <td>ForecastAutoreg</td>\n",
       "      <td>8386.312352</td>\n",
       "      <td>62.880608</td>\n",
       "      <td>91.576811</td>\n",
       "      <td>0.926742</td>\n",
       "    </tr>\n",
       "    <tr>\n",
       "      <th>3</th>\n",
       "      <td>ForecastAutoreg</td>\n",
       "      <td>8386.312352</td>\n",
       "      <td>62.880608</td>\n",
       "      <td>91.576811</td>\n",
       "      <td>0.926742</td>\n",
       "    </tr>\n",
       "  </tbody>\n",
       "</table>\n",
       "</div>"
      ],
      "text/plain": [
       "             model           MSE        MAE        RMSE        R2\n",
       "0            naive  23121.392344  89.478469  152.057201  0.810537\n",
       "1  ForecastAutoreg   7723.660588  59.293636   87.884359  0.934986\n",
       "2  ForecastAutoreg   8386.312352  62.880608   91.576811  0.926742\n",
       "3  ForecastAutoreg   8386.312352  62.880608   91.576811  0.926742"
      ]
     },
     "execution_count": 56,
     "metadata": {},
     "output_type": "execute_result"
    }
   ],
   "source": [
    "mse, mae, rmse, r2 = calculate_metrics(predictions, demand)\n",
    "evaluation_models = evaluation_models.append({'model':'ForecastAutoreg', 'MSE': mse, 'MAE': mae, 'RMSE': rmse,  'R2':r2},\n",
    "                                             ignore_index=True)\n",
    "evaluation_models"
   ]
  },
  {
   "cell_type": "markdown",
   "id": "e1cb0dc3",
   "metadata": {},
   "source": [
    "Now we are going to evaluate the importance of the predictors"
   ]
  },
  {
   "cell_type": "code",
   "execution_count": 68,
   "id": "faa59cc7",
   "metadata": {},
   "outputs": [],
   "source": [
    "predictors_importance = forecaster.get_feature_importance()\n",
    "predictors_importance = predictors_importance.sort_values(by='importance', ascending = False)\n",
    "predictors_importance = predictors_importance.head()"
   ]
  },
  {
   "cell_type": "code",
   "execution_count": 69,
   "id": "68c7e31b",
   "metadata": {},
   "outputs": [
    {
     "data": {
      "image/png": "[encoded data removed]",
      "text/plain": [
       "<Figure size 1080x576 with 1 Axes>"
      ]
     },
     "metadata": {
      "needs_background": "light"
     },
     "output_type": "display_data"
    }
   ],
   "source": [
    "plt.figure(figsize=(15,8))\n",
    "plt.bar(predictors_importance['feature'], height = predictors_importance['importance']);\n",
    "plt.xticks(rotation=90);"
   ]
  },
  {
   "cell_type": "markdown",
   "id": "46740fe3",
   "metadata": {},
   "source": [
    "##### Adding exogenous variables to the model"
   ]
  },
  {
   "cell_type": "markdown",
   "id": "398ab575",
   "metadata": {},
   "source": [
    "For the previous model we only take into account the lag values as predictors, now we are going to add exogenous variables, that we know in advance.\n",
    "\n",
    "We are going to add the variables:\n",
    "\n",
    "- Hour \n",
    "- Month\n",
    "- is_weekend\n",
    "- weekday"
   ]
  },
  {
   "cell_type": "code",
   "execution_count": 85,
   "id": "b544a6fa",
   "metadata": {
    "scrolled": true
   },
   "outputs": [
    {
     "data": {
      "text/plain": [
       "Index(['date', 'time', 'is_holiday_x', 'rides', 'year', 'is_weekend',\n",
       "       'rides_lag_7', 'rides_lag_1', 'rides_lag_2', 'rides_lag_1_month',\n",
       "       'rides_lag_12_hours', 'weekday_Friday', 'weekday_Monday',\n",
       "       'weekday_Saturday', 'weekday_Sunday', 'weekday_Thursday',\n",
       "       'weekday_Tuesday', 'weekday_Wednesday', 'hour_0', 'hour_1', 'hour_2',\n",
       "       'hour_3', 'hour_4', 'hour_5', 'hour_6', 'hour_7', 'hour_8', 'hour_9',\n",
       "       'hour_10', 'hour_11', 'hour_12', 'hour_13', 'hour_14', 'hour_15',\n",
       "       'hour_16', 'hour_17', 'hour_18', 'hour_19', 'hour_20', 'hour_21',\n",
       "       'hour_22', 'hour_23', 'month_1', 'month_2', 'month_3', 'month_4',\n",
       "       'month_5', 'month_6'],\n",
       "      dtype='object')"
      ]
     },
     "execution_count": 85,
     "metadata": {},
     "output_type": "execute_result"
    }
   ],
   "source": [
    "train.columns"
   ]
  },
  {
   "cell_type": "code",
   "execution_count": 86,
   "id": "c5d904e3",
   "metadata": {},
   "outputs": [
    {
     "data": {
      "text/plain": [
       "================= \n",
       "ForecasterAutoreg \n",
       "================= \n",
       "Regressor: RandomForestRegressor(random_state=123) \n",
       "Lags: [ 24 168] \n",
       "Window size: 168 \n",
       "Included exogenous: True \n",
       "Type of exogenous variable: <class 'pandas.core.frame.DataFrame'> \n",
       "Exogenous variables names: ['weekday_Friday', 'weekday_Monday', 'weekday_Saturday', 'weekday_Sunday', 'weekday_Thursday', 'weekday_Tuesday', 'weekday_Wednesday', 'hour_0', 'hour_1', 'hour_2', 'hour_3', 'hour_4', 'hour_5', 'hour_6', 'hour_7', 'hour_8', 'hour_9', 'hour_10', 'hour_11', 'hour_12', 'hour_13', 'hour_14', 'hour_15', 'hour_16', 'hour_17', 'hour_18', 'hour_19', 'hour_20', 'hour_21', 'hour_22', 'hour_23', 'month_1', 'month_2', 'month_3', 'month_4', 'month_5', 'month_6', 'is_holiday_x', 'is_weekend'] \n",
       "Training range: [0, 3966] \n",
       "Training index type: RangeIndex \n",
       "Training index frequency: 1 \n",
       "Regressor parameters: {'bootstrap': True, 'ccp_alpha': 0.0, 'criterion': 'squared_error', 'max_depth': None, 'max_features': 'auto', 'max_leaf_nodes': None, 'max_samples': None, 'min_impurity_decrease': 0.0, 'min_samples_leaf': 1, 'min_samples_split': 2, 'min_weight_fraction_leaf': 0.0, 'n_estimators': 100, 'n_jobs': None, 'oob_score': False, 'random_state': 123, 'verbose': 0, 'warm_start': False} \n",
       "Creation date: 2022-05-27 17:44:19 \n",
       "Last fit date: 2022-05-27 17:44:20 \n",
       "Skforecast version: 0.4.3 "
      ]
     },
     "execution_count": 86,
     "metadata": {},
     "output_type": "execute_result"
    }
   ],
   "source": [
    "forecaster = ForecasterAutoreg(regressor = RandomForestRegressor(random_state=123),\n",
    "                            lags = [24, 24*7])\n",
    "forecaster.fit(y = y_train, exog = X_train[columns_for_model])\n",
    "forecaster"
   ]
  },
  {
   "cell_type": "code",
   "execution_count": 87,
   "id": "b32e86f2",
   "metadata": {},
   "outputs": [
    {
     "data": {
      "text/plain": [
       "0      930.58\n",
       "1      494.63\n",
       "2      519.56\n",
       "3      518.31\n",
       "4      787.18\n",
       "        ...  \n",
       "204    796.07\n",
       "205    574.44\n",
       "206    506.20\n",
       "207    445.28\n",
       "208    320.81\n",
       "Name: pred, Length: 209, dtype: float64"
      ]
     },
     "execution_count": 87,
     "metadata": {},
     "output_type": "execute_result"
    }
   ],
   "source": [
    "#Prediction of test\n",
    "predictions = forecaster.predict(steps = len(X_test), exog = X_test[columns_for_model])\n",
    "predictions = predictions.reset_index()\n",
    "predictions = predictions['pred']\n",
    "predictions"
   ]
  },
  {
   "cell_type": "code",
   "execution_count": 88,
   "id": "86536174",
   "metadata": {},
   "outputs": [
    {
     "data": {
      "text/plain": [
       "0      857\n",
       "1      479\n",
       "2      488\n",
       "3      543\n",
       "4      690\n",
       "      ... \n",
       "204    813\n",
       "205    552\n",
       "206    571\n",
       "207    499\n",
       "208    264\n",
       "Name: rides, Length: 209, dtype: int64"
      ]
     },
     "execution_count": 88,
     "metadata": {},
     "output_type": "execute_result"
    }
   ],
   "source": [
    "demand = y_test\n",
    "demand = demand.reset_index()\n",
    "demand = demand['rides']\n",
    "demand"
   ]
  },
  {
   "cell_type": "code",
   "execution_count": 89,
   "id": "5c1c3f0a",
   "metadata": {},
   "outputs": [
    {
     "data": {
      "image/png": "[encoded data removed]",
      "text/plain": [
       "<Figure size 1008x360 with 1 Axes>"
      ]
     },
     "metadata": {
      "needs_background": "light"
     },
     "output_type": "display_data"
    }
   ],
   "source": [
    "fig, ax = plt.subplots(figsize=(14, 5))\n",
    "\n",
    "plt.plot(demand, label='demand')\n",
    "plt.plot(predictions, label = 'predictions')\n",
    "ax.legend()\n",
    "plt.show()"
   ]
  },
  {
   "cell_type": "code",
   "execution_count": 90,
   "id": "c689c459",
   "metadata": {},
   "outputs": [
    {
     "data": {
      "text/html": [
       "<div>\n",
       "<style scoped>\n",
       "    .dataframe tbody tr th:only-of-type {\n",
       "        vertical-align: middle;\n",
       "    }\n",
       "\n",
       "    .dataframe tbody tr th {\n",
       "        vertical-align: top;\n",
       "    }\n",
       "\n",
       "    .dataframe thead th {\n",
       "        text-align: right;\n",
       "    }\n",
       "</style>\n",
       "<table border=\"1\" class=\"dataframe\">\n",
       "  <thead>\n",
       "    <tr style=\"text-align: right;\">\n",
       "      <th></th>\n",
       "      <th>model</th>\n",
       "      <th>MSE</th>\n",
       "      <th>MAE</th>\n",
       "      <th>RMSE</th>\n",
       "      <th>R2</th>\n",
       "    </tr>\n",
       "  </thead>\n",
       "  <tbody>\n",
       "    <tr>\n",
       "      <th>0</th>\n",
       "      <td>naive</td>\n",
       "      <td>23121.392344</td>\n",
       "      <td>89.478469</td>\n",
       "      <td>152.057201</td>\n",
       "      <td>0.810537</td>\n",
       "    </tr>\n",
       "    <tr>\n",
       "      <th>1</th>\n",
       "      <td>ForecastAutoreg</td>\n",
       "      <td>7723.660588</td>\n",
       "      <td>59.293636</td>\n",
       "      <td>87.884359</td>\n",
       "      <td>0.934986</td>\n",
       "    </tr>\n",
       "    <tr>\n",
       "      <th>2</th>\n",
       "      <td>ForecastAutoreg</td>\n",
       "      <td>8386.312352</td>\n",
       "      <td>62.880608</td>\n",
       "      <td>91.576811</td>\n",
       "      <td>0.926742</td>\n",
       "    </tr>\n",
       "    <tr>\n",
       "      <th>3</th>\n",
       "      <td>ForecastAutoreg</td>\n",
       "      <td>8386.312352</td>\n",
       "      <td>62.880608</td>\n",
       "      <td>91.576811</td>\n",
       "      <td>0.926742</td>\n",
       "    </tr>\n",
       "    <tr>\n",
       "      <th>4</th>\n",
       "      <td>ForecastAutoreg with exog. variables</td>\n",
       "      <td>10395.294518</td>\n",
       "      <td>65.325610</td>\n",
       "      <td>101.957317</td>\n",
       "      <td>0.895500</td>\n",
       "    </tr>\n",
       "    <tr>\n",
       "      <th>5</th>\n",
       "      <td>ForecastAutoreg with exog. variables</td>\n",
       "      <td>8589.378326</td>\n",
       "      <td>61.772859</td>\n",
       "      <td>92.678899</td>\n",
       "      <td>0.923244</td>\n",
       "    </tr>\n",
       "  </tbody>\n",
       "</table>\n",
       "</div>"
      ],
      "text/plain": [
       "                                  model           MSE        MAE        RMSE  \\\n",
       "0                                 naive  23121.392344  89.478469  152.057201   \n",
       "1                       ForecastAutoreg   7723.660588  59.293636   87.884359   \n",
       "2                       ForecastAutoreg   8386.312352  62.880608   91.576811   \n",
       "3                       ForecastAutoreg   8386.312352  62.880608   91.576811   \n",
       "4  ForecastAutoreg with exog. variables  10395.294518  65.325610  101.957317   \n",
       "5  ForecastAutoreg with exog. variables   8589.378326  61.772859   92.678899   \n",
       "\n",
       "         R2  \n",
       "0  0.810537  \n",
       "1  0.934986  \n",
       "2  0.926742  \n",
       "3  0.926742  \n",
       "4  0.895500  \n",
       "5  0.923244  "
      ]
     },
     "execution_count": 90,
     "metadata": {},
     "output_type": "execute_result"
    }
   ],
   "source": [
    "mse, mae, rmse, r2 = calculate_metrics(predictions, demand)\n",
    "evaluation_models = evaluation_models.append({'model':'ForecastAutoreg with exog. variables', 'MSE': mse, 'MAE': mae, 'RMSE': rmse,  'R2':r2},\n",
    "                                             ignore_index=True)\n",
    "evaluation_models"
   ]
  },
  {
   "cell_type": "code",
   "execution_count": 91,
   "id": "c6e57771",
   "metadata": {},
   "outputs": [
    {
     "data": {
      "image/png": "[encoded data removed]",
      "text/plain": [
       "<Figure size 1080x576 with 1 Axes>"
      ]
     },
     "metadata": {
      "needs_background": "light"
     },
     "output_type": "display_data"
    }
   ],
   "source": [
    "predictors_importance = forecaster.get_feature_importance()\n",
    "predictors_importance = predictors_importance.sort_values(by='importance', ascending = False)\n",
    "predictors_importance = predictors_importance.head(10)\n",
    "\n",
    "plt.figure(figsize=(15,8))\n",
    "plt.bar(predictors_importance['feature'], height = predictors_importance['importance']);\n",
    "plt.xticks(rotation=90);"
   ]
  },
  {
   "cell_type": "code",
   "execution_count": 92,
   "id": "3d11d2d0",
   "metadata": {},
   "outputs": [
    {
     "data": {
      "text/plain": [
       "['weekday_Friday',\n",
       " 'weekday_Monday',\n",
       " 'weekday_Saturday',\n",
       " 'weekday_Sunday',\n",
       " 'weekday_Thursday',\n",
       " 'weekday_Tuesday',\n",
       " 'weekday_Wednesday',\n",
       " 'hour_0',\n",
       " 'hour_1',\n",
       " 'hour_2',\n",
       " 'hour_3',\n",
       " 'hour_4',\n",
       " 'hour_5',\n",
       " 'hour_6',\n",
       " 'hour_7',\n",
       " 'hour_8',\n",
       " 'hour_9',\n",
       " 'hour_10',\n",
       " 'hour_11',\n",
       " 'hour_12',\n",
       " 'hour_13',\n",
       " 'hour_14',\n",
       " 'hour_15',\n",
       " 'hour_16',\n",
       " 'hour_17',\n",
       " 'hour_18',\n",
       " 'hour_19',\n",
       " 'hour_20',\n",
       " 'hour_21',\n",
       " 'hour_22',\n",
       " 'hour_23',\n",
       " 'month_1',\n",
       " 'month_2',\n",
       " 'month_3',\n",
       " 'month_4',\n",
       " 'month_5',\n",
       " 'month_6',\n",
       " 'is_holiday_x',\n",
       " 'is_weekend']"
      ]
     },
     "execution_count": 92,
     "metadata": {},
     "output_type": "execute_result"
    }
   ],
   "source": [
    "columns_for_model"
   ]
  },
  {
   "cell_type": "markdown",
   "id": "f6d22973",
   "metadata": {},
   "source": [
    "#### 3.3.2. Extreme Gradient Boosting: XGBoost"
   ]
  },
  {
   "cell_type": "markdown",
   "id": "5da1dd41",
   "metadata": {},
   "source": [
    "A Gradient Boosting Decision Trees (GBDT) is a decision tree ensemble learning algorithm similar to random forest, it can be used for classification and regression. Ensemble learning algorithms combine multiple machine learning algorithms to obtain a better model.\n",
    "\n",
    "GBDT, as Random Forest,  build a model consisting of multiple decision trees. The difference is in how the trees are built and combined.\n",
    "\n",
    "GBDTs iteratively train an ensemble of shallow decision trees, with each iteration using the error residuals of the previous model to fit the next model. The final prediction is a weighted sum of all of the tree predictions"
   ]
  },
  {
   "cell_type": "markdown",
   "id": "0b296a7d",
   "metadata": {},
   "source": [
    "As a first approach to this model, we are going to use the lag values of the variable 'rides' to predict future values, and then we will include exogenous variables"
   ]
  },
  {
   "cell_type": "code",
   "execution_count": 115,
   "id": "1fae0c6d",
   "metadata": {},
   "outputs": [],
   "source": [
    "from xgboost import XGBRegressor"
   ]
  },
  {
   "cell_type": "code",
   "execution_count": 116,
   "id": "1c7a57f1",
   "metadata": {},
   "outputs": [
    {
     "data": {
      "text/plain": [
       "================= \n",
       "ForecasterAutoreg \n",
       "================= \n",
       "Regressor: XGBRegressor(base_score=None, booster=None, callbacks=None,\n",
       "             colsample_bylevel=None, colsample_bynode=None,\n",
       "             colsample_bytree=None, early_stopping_rounds=None,\n",
       "             enable_categorical=False, eval_metric=None, gamma=None,\n",
       "             gpu_id=None, grow_policy=None, importance_type=None,\n",
       "             interaction_constraints=None, learning_rate=None, max_bin=None,\n",
       "             max_cat_to_onehot=None, max_delta_step=None, max_depth=None,\n",
       "             max_leaves=None, min_child_weight=None, missing=nan,\n",
       "             monotone_constraints=None, n_estimators=100, n_jobs=None,\n",
       "             num_parallel_tree=None, predictor=None, random_state=123,\n",
       "             reg_alpha=None, reg_lambda=None, ...) \n",
       "Lags: [ 24 168] \n",
       "Window size: 168 \n",
       "Included exogenous: False \n",
       "Type of exogenous variable: None \n",
       "Exogenous variables names: None \n",
       "Training range: None \n",
       "Training index type: None \n",
       "Training index frequency: None \n",
       "Regressor parameters: {'objective': 'reg:squarederror', 'base_score': None, 'booster': None, 'callbacks': None, 'colsample_bylevel': None, 'colsample_bynode': None, 'colsample_bytree': None, 'early_stopping_rounds': None, 'enable_categorical': False, 'eval_metric': None, 'gamma': None, 'gpu_id': None, 'grow_policy': None, 'importance_type': None, 'interaction_constraints': None, 'learning_rate': None, 'max_bin': None, 'max_cat_to_onehot': None, 'max_delta_step': None, 'max_depth': None, 'max_leaves': None, 'min_child_weight': None, 'missing': nan, 'monotone_constraints': None, 'n_estimators': 100, 'n_jobs': None, 'num_parallel_tree': None, 'predictor': None, 'random_state': 123, 'reg_alpha': None, 'reg_lambda': None, 'sampling_method': None, 'scale_pos_weight': None, 'subsample': None, 'tree_method': None, 'validate_parameters': None, 'verbosity': None} \n",
       "Creation date: 2022-05-27 18:58:27 \n",
       "Last fit date: None \n",
       "Skforecast version: 0.4.3 "
      ]
     },
     "execution_count": 116,
     "metadata": {},
     "output_type": "execute_result"
    }
   ],
   "source": [
    "forecaster = ForecasterAutoreg(regressor = XGBRegressor(random_state=123),\n",
    "                              lags = [24, 24*7])\n",
    "forecaster"
   ]
  },
  {
   "cell_type": "code",
   "execution_count": 131,
   "id": "d49db3e5",
   "metadata": {},
   "outputs": [
    {
     "name": "stderr",
     "output_type": "stream",
     "text": [
      "loop lags_grid:   0%|                                               | 0/1 [00:00<?, ?it/s]\n",
      "loop param_grid:   0%|                                             | 0/12 [00:00<?, ?it/s]\u001b[A\n",
      "loop param_grid:   8%|███                                  | 1/12 [00:00<00:01,  5.91it/s]\u001b[A"
     ]
    },
    {
     "name": "stdout",
     "output_type": "stream",
     "text": [
      "Number of models compared: 12\n"
     ]
    },
    {
     "name": "stderr",
     "output_type": "stream",
     "text": [
      "\n",
      "loop param_grid:  17%|██████▏                              | 2/12 [00:00<00:05,  1.86it/s]\u001b[A\n",
      "loop param_grid:  25%|█████████▎                           | 3/12 [00:01<00:03,  2.38it/s]\u001b[A\n",
      "loop param_grid:  33%|████████████▎                        | 4/12 [00:02<00:05,  1.36it/s]\u001b[A\n",
      "loop param_grid:  42%|███████████████▍                     | 5/12 [00:02<00:04,  1.57it/s]\u001b[A\n",
      "loop param_grid:  50%|██████████████████▌                  | 6/12 [00:05<00:07,  1.21s/it]\u001b[A\n",
      "loop param_grid:  58%|█████████████████████▌               | 7/12 [00:05<00:04,  1.12it/s]\u001b[A\n",
      "loop param_grid:  67%|████████████████████████▋            | 8/12 [00:06<00:03,  1.11it/s]\u001b[A\n",
      "loop param_grid:  75%|███████████████████████████▊         | 9/12 [00:06<00:02,  1.39it/s]\u001b[A\n",
      "loop param_grid:  83%|██████████████████████████████      | 10/12 [00:07<00:01,  1.17it/s]\u001b[A\n",
      "loop param_grid:  92%|█████████████████████████████████   | 11/12 [00:08<00:00,  1.37it/s]\u001b[A\n",
      "loop param_grid: 100%|████████████████████████████████████| 12/12 [00:10<00:00,  1.12s/it]\u001b[A\n",
      "loop lags_grid: 100%|███████████████████████████████████████| 1/1 [00:10<00:00, 10.38s/it]\u001b[A\n"
     ]
    },
    {
     "name": "stdout",
     "output_type": "stream",
     "text": [
      "`Forecaster` refitted using the best-found lags and parameters, and the whole data set: \n",
      "  Lags: [ 24 168] \n",
      "  Parameters: {'learning_rate': 0.01, 'max_depth': 3, 'n_estimators': 500}\n",
      "  Backtesting metric: 192.02475787699223\n",
      "\n"
     ]
    }
   ],
   "source": [
    "#Grid search to find best hyperparameters\n",
    "\n",
    "#regressor parameters\n",
    "param_grid = {'n_estimators': [100,500],\n",
    "             'max_depth': [3,5,10],\n",
    "             'learning_rate': [0.01,0.1]}\n",
    "\n",
    "#number of lags\n",
    "lags_grid = [[24, 24*7]]\n",
    "\n",
    "grid_search = grid_search_forecaster(forecaster = forecaster,\n",
    "                                    y = y_train,\n",
    "                                    param_grid=param_grid,\n",
    "                                    lags_grid = lags_grid,\n",
    "                                    steps = 24,\n",
    "                                    refit=False,\n",
    "                                    metric = 'mean_squared_error',\n",
    "                                    initial_train_size = len(y_train)-1,\n",
    "                                    return_best = True,\n",
    "                                    verbose=False)"
   ]
  },
  {
   "cell_type": "code",
   "execution_count": 132,
   "id": "0b7a00ff",
   "metadata": {},
   "outputs": [
    {
     "data": {
      "text/html": [
       "<div>\n",
       "<style scoped>\n",
       "    .dataframe tbody tr th:only-of-type {\n",
       "        vertical-align: middle;\n",
       "    }\n",
       "\n",
       "    .dataframe tbody tr th {\n",
       "        vertical-align: top;\n",
       "    }\n",
       "\n",
       "    .dataframe thead th {\n",
       "        text-align: right;\n",
       "    }\n",
       "</style>\n",
       "<table border=\"1\" class=\"dataframe\">\n",
       "  <thead>\n",
       "    <tr style=\"text-align: right;\">\n",
       "      <th></th>\n",
       "      <th>lags</th>\n",
       "      <th>params</th>\n",
       "      <th>metric</th>\n",
       "      <th>learning_rate</th>\n",
       "      <th>max_depth</th>\n",
       "      <th>n_estimators</th>\n",
       "    </tr>\n",
       "  </thead>\n",
       "  <tbody>\n",
       "    <tr>\n",
       "      <th>1</th>\n",
       "      <td>[24, 168]</td>\n",
       "      <td>{'learning_rate': 0.01, 'max_depth': 3, 'n_est...</td>\n",
       "      <td>192.024758</td>\n",
       "      <td>0.01</td>\n",
       "      <td>3.0</td>\n",
       "      <td>500.0</td>\n",
       "    </tr>\n",
       "    <tr>\n",
       "      <th>6</th>\n",
       "      <td>[24, 168]</td>\n",
       "      <td>{'learning_rate': 0.1, 'max_depth': 3, 'n_esti...</td>\n",
       "      <td>284.996385</td>\n",
       "      <td>0.10</td>\n",
       "      <td>3.0</td>\n",
       "      <td>100.0</td>\n",
       "    </tr>\n",
       "    <tr>\n",
       "      <th>3</th>\n",
       "      <td>[24, 168]</td>\n",
       "      <td>{'learning_rate': 0.01, 'max_depth': 5, 'n_est...</td>\n",
       "      <td>334.914126</td>\n",
       "      <td>0.01</td>\n",
       "      <td>5.0</td>\n",
       "      <td>500.0</td>\n",
       "    </tr>\n",
       "    <tr>\n",
       "      <th>9</th>\n",
       "      <td>[24, 168]</td>\n",
       "      <td>{'learning_rate': 0.1, 'max_depth': 5, 'n_esti...</td>\n",
       "      <td>424.542583</td>\n",
       "      <td>0.10</td>\n",
       "      <td>5.0</td>\n",
       "      <td>500.0</td>\n",
       "    </tr>\n",
       "    <tr>\n",
       "      <th>8</th>\n",
       "      <td>[24, 168]</td>\n",
       "      <td>{'learning_rate': 0.1, 'max_depth': 5, 'n_esti...</td>\n",
       "      <td>2105.971870</td>\n",
       "      <td>0.10</td>\n",
       "      <td>5.0</td>\n",
       "      <td>100.0</td>\n",
       "    </tr>\n",
       "  </tbody>\n",
       "</table>\n",
       "</div>"
      ],
      "text/plain": [
       "        lags                                             params       metric  \\\n",
       "1  [24, 168]  {'learning_rate': 0.01, 'max_depth': 3, 'n_est...   192.024758   \n",
       "6  [24, 168]  {'learning_rate': 0.1, 'max_depth': 3, 'n_esti...   284.996385   \n",
       "3  [24, 168]  {'learning_rate': 0.01, 'max_depth': 5, 'n_est...   334.914126   \n",
       "9  [24, 168]  {'learning_rate': 0.1, 'max_depth': 5, 'n_esti...   424.542583   \n",
       "8  [24, 168]  {'learning_rate': 0.1, 'max_depth': 5, 'n_esti...  2105.971870   \n",
       "\n",
       "   learning_rate  max_depth  n_estimators  \n",
       "1           0.01        3.0         500.0  \n",
       "6           0.10        3.0         100.0  \n",
       "3           0.01        5.0         500.0  \n",
       "9           0.10        5.0         500.0  \n",
       "8           0.10        5.0         100.0  "
      ]
     },
     "execution_count": 132,
     "metadata": {},
     "output_type": "execute_result"
    }
   ],
   "source": [
    "grid_search.head()"
   ]
  },
  {
   "cell_type": "markdown",
   "id": "cbb88bfd",
   "metadata": {},
   "source": [
    "###### Backtesting"
   ]
  },
  {
   "cell_type": "markdown",
   "id": "e7bdcc03",
   "metadata": {},
   "source": [
    "To evaluate the predictive capacity of the model, we are going to use the backtesting forecaster, so we can simulate the prediction process each 24 hours"
   ]
  },
  {
   "cell_type": "code",
   "execution_count": 138,
   "id": "2fd6e31a",
   "metadata": {},
   "outputs": [],
   "source": [
    "#Backtesting\n",
    "metric, predictions = backtesting_forecaster(forecaster = forecaster,\n",
    "                                            y = y_train,\n",
    "                                            initial_train_size = len(y_train)-1,\n",
    "                                            steps = 24,\n",
    "                                            refit = False,\n",
    "                                            metric = 'mean_squared_error',\n",
    "                                            verbose = False)"
   ]
  },
  {
   "cell_type": "code",
   "execution_count": 143,
   "id": "29848816",
   "metadata": {},
   "outputs": [
    {
     "data": {
      "text/plain": [
       "0      868.549377\n",
       "1      498.908722\n",
       "2      542.031616\n",
       "3      556.745178\n",
       "4      739.091736\n",
       "          ...    \n",
       "204    595.858093\n",
       "205    476.988770\n",
       "206    456.316772\n",
       "207    404.877655\n",
       "208    349.216156\n",
       "Name: pred, Length: 209, dtype: float64"
      ]
     },
     "execution_count": 143,
     "metadata": {},
     "output_type": "execute_result"
    }
   ],
   "source": [
    "predictions = forecaster.predict(steps = len(X_test))\n",
    "predictions = predictions.reset_index()\n",
    "predictions = predictions['pred']\n",
    "predictions"
   ]
  },
  {
   "cell_type": "code",
   "execution_count": 144,
   "id": "358701ed",
   "metadata": {},
   "outputs": [
    {
     "data": {
      "text/plain": [
       "0      857\n",
       "1      479\n",
       "2      488\n",
       "3      543\n",
       "4      690\n",
       "      ... \n",
       "204    813\n",
       "205    552\n",
       "206    571\n",
       "207    499\n",
       "208    264\n",
       "Name: rides, Length: 209, dtype: int64"
      ]
     },
     "execution_count": 144,
     "metadata": {},
     "output_type": "execute_result"
    }
   ],
   "source": [
    "demand"
   ]
  },
  {
   "cell_type": "code",
   "execution_count": 145,
   "id": "19c30389",
   "metadata": {},
   "outputs": [
    {
     "data": {
      "image/png": "[encoded data removed]",
      "text/plain": [
       "<Figure size 1008x360 with 1 Axes>"
      ]
     },
     "metadata": {
      "needs_background": "light"
     },
     "output_type": "display_data"
    }
   ],
   "source": [
    "fig, ax = plt.subplots(figsize=(14, 5))\n",
    "\n",
    "plt.plot(demand, label='demand')\n",
    "plt.plot(predictions, label = 'predictions')\n",
    "ax.legend()\n",
    "plt.show()"
   ]
  },
  {
   "cell_type": "code",
   "execution_count": 153,
   "id": "37d371d7",
   "metadata": {},
   "outputs": [
    {
     "data": {
      "text/plain": [
       "0      868.549377\n",
       "1      498.908722\n",
       "2      542.031616\n",
       "3      556.745178\n",
       "4      739.091736\n",
       "          ...    \n",
       "204    595.858093\n",
       "205    476.988770\n",
       "206    456.316772\n",
       "207    404.877655\n",
       "208    349.216156\n",
       "Name: pred, Length: 209, dtype: float64"
      ]
     },
     "execution_count": 153,
     "metadata": {},
     "output_type": "execute_result"
    }
   ],
   "source": [
    "predictions"
   ]
  },
  {
   "cell_type": "code",
   "execution_count": 154,
   "id": "50816d8d",
   "metadata": {},
   "outputs": [
    {
     "data": {
      "text/plain": [
       "0      857\n",
       "1      479\n",
       "2      488\n",
       "3      543\n",
       "4      690\n",
       "      ... \n",
       "204    813\n",
       "205    552\n",
       "206    571\n",
       "207    499\n",
       "208    264\n",
       "Name: rides, Length: 209, dtype: int64"
      ]
     },
     "execution_count": 154,
     "metadata": {},
     "output_type": "execute_result"
    }
   ],
   "source": [
    "demand"
   ]
  },
  {
   "cell_type": "code",
   "execution_count": 152,
   "id": "e3148ea8",
   "metadata": {},
   "outputs": [
    {
     "data": {
      "text/html": [
       "<div>\n",
       "<style scoped>\n",
       "    .dataframe tbody tr th:only-of-type {\n",
       "        vertical-align: middle;\n",
       "    }\n",
       "\n",
       "    .dataframe tbody tr th {\n",
       "        vertical-align: top;\n",
       "    }\n",
       "\n",
       "    .dataframe thead th {\n",
       "        text-align: right;\n",
       "    }\n",
       "</style>\n",
       "<table border=\"1\" class=\"dataframe\">\n",
       "  <thead>\n",
       "    <tr style=\"text-align: right;\">\n",
       "      <th></th>\n",
       "      <th>model</th>\n",
       "      <th>MSE</th>\n",
       "      <th>MAE</th>\n",
       "      <th>RMSE</th>\n",
       "      <th>R2</th>\n",
       "    </tr>\n",
       "  </thead>\n",
       "  <tbody>\n",
       "    <tr>\n",
       "      <th>0</th>\n",
       "      <td>naive</td>\n",
       "      <td>23121.392344</td>\n",
       "      <td>89.478469</td>\n",
       "      <td>152.057201</td>\n",
       "      <td>0.810537</td>\n",
       "    </tr>\n",
       "    <tr>\n",
       "      <th>1</th>\n",
       "      <td>ForecastAutoreg</td>\n",
       "      <td>7723.660588</td>\n",
       "      <td>59.293636</td>\n",
       "      <td>87.884359</td>\n",
       "      <td>0.934986</td>\n",
       "    </tr>\n",
       "    <tr>\n",
       "      <th>2</th>\n",
       "      <td>ForecastAutoreg</td>\n",
       "      <td>8386.312352</td>\n",
       "      <td>62.880608</td>\n",
       "      <td>91.576811</td>\n",
       "      <td>0.926742</td>\n",
       "    </tr>\n",
       "    <tr>\n",
       "      <th>3</th>\n",
       "      <td>ForecastAutoreg</td>\n",
       "      <td>8386.312352</td>\n",
       "      <td>62.880608</td>\n",
       "      <td>91.576811</td>\n",
       "      <td>0.926742</td>\n",
       "    </tr>\n",
       "    <tr>\n",
       "      <th>4</th>\n",
       "      <td>ForecastAutoreg with exog. variables</td>\n",
       "      <td>10395.294518</td>\n",
       "      <td>65.325610</td>\n",
       "      <td>101.957317</td>\n",
       "      <td>0.895500</td>\n",
       "    </tr>\n",
       "    <tr>\n",
       "      <th>5</th>\n",
       "      <td>ForecastAutoreg with exog. variables</td>\n",
       "      <td>8589.378326</td>\n",
       "      <td>61.772859</td>\n",
       "      <td>92.678899</td>\n",
       "      <td>0.923244</td>\n",
       "    </tr>\n",
       "    <tr>\n",
       "      <th>6</th>\n",
       "      <td>LGBM</td>\n",
       "      <td>13962.583424</td>\n",
       "      <td>81.443799</td>\n",
       "      <td>118.163376</td>\n",
       "      <td>0.841084</td>\n",
       "    </tr>\n",
       "    <tr>\n",
       "      <th>7</th>\n",
       "      <td>XGBoost</td>\n",
       "      <td>13753.531199</td>\n",
       "      <td>80.988119</td>\n",
       "      <td>117.275450</td>\n",
       "      <td>0.842267</td>\n",
       "    </tr>\n",
       "    <tr>\n",
       "      <th>8</th>\n",
       "      <td>XGBoost</td>\n",
       "      <td>29588.740439</td>\n",
       "      <td>109.275520</td>\n",
       "      <td>172.013780</td>\n",
       "      <td>0.785130</td>\n",
       "    </tr>\n",
       "    <tr>\n",
       "      <th>9</th>\n",
       "      <td>XGBoost</td>\n",
       "      <td>13753.531199</td>\n",
       "      <td>80.988119</td>\n",
       "      <td>117.275450</td>\n",
       "      <td>0.842267</td>\n",
       "    </tr>\n",
       "  </tbody>\n",
       "</table>\n",
       "</div>"
      ],
      "text/plain": [
       "                                  model           MSE         MAE        RMSE  \\\n",
       "0                                 naive  23121.392344   89.478469  152.057201   \n",
       "1                       ForecastAutoreg   7723.660588   59.293636   87.884359   \n",
       "2                       ForecastAutoreg   8386.312352   62.880608   91.576811   \n",
       "3                       ForecastAutoreg   8386.312352   62.880608   91.576811   \n",
       "4  ForecastAutoreg with exog. variables  10395.294518   65.325610  101.957317   \n",
       "5  ForecastAutoreg with exog. variables   8589.378326   61.772859   92.678899   \n",
       "6                                  LGBM  13962.583424   81.443799  118.163376   \n",
       "7                               XGBoost  13753.531199   80.988119  117.275450   \n",
       "8                               XGBoost  29588.740439  109.275520  172.013780   \n",
       "9                               XGBoost  13753.531199   80.988119  117.275450   \n",
       "\n",
       "         R2  \n",
       "0  0.810537  \n",
       "1  0.934986  \n",
       "2  0.926742  \n",
       "3  0.926742  \n",
       "4  0.895500  \n",
       "5  0.923244  \n",
       "6  0.841084  \n",
       "7  0.842267  \n",
       "8  0.785130  \n",
       "9  0.842267  "
      ]
     },
     "execution_count": 152,
     "metadata": {},
     "output_type": "execute_result"
    }
   ],
   "source": [
    "mse, mae, rmse, r2 = calculate_metrics(predictions, demand)\n",
    "evaluation_models = evaluation_models.append({'model':'XGBoost', 'MSE': mse, 'MAE': mae, 'RMSE': rmse,  'R2':r2},\n",
    "                                             ignore_index=True)\n",
    "evaluation_models"
   ]
  },
  {
   "cell_type": "markdown",
   "id": "5db4fbd7",
   "metadata": {},
   "source": [
    "##### Adding exogenous variables"
   ]
  },
  {
   "cell_type": "code",
   "execution_count": 155,
   "id": "1d8575de",
   "metadata": {},
   "outputs": [
    {
     "data": {
      "text/plain": [
       "['weekday_Friday',\n",
       " 'weekday_Monday',\n",
       " 'weekday_Saturday',\n",
       " 'weekday_Sunday',\n",
       " 'weekday_Thursday',\n",
       " 'weekday_Tuesday',\n",
       " 'weekday_Wednesday',\n",
       " 'hour_0',\n",
       " 'hour_1',\n",
       " 'hour_2',\n",
       " 'hour_3',\n",
       " 'hour_4',\n",
       " 'hour_5',\n",
       " 'hour_6',\n",
       " 'hour_7',\n",
       " 'hour_8',\n",
       " 'hour_9',\n",
       " 'hour_10',\n",
       " 'hour_11',\n",
       " 'hour_12',\n",
       " 'hour_13',\n",
       " 'hour_14',\n",
       " 'hour_15',\n",
       " 'hour_16',\n",
       " 'hour_17',\n",
       " 'hour_18',\n",
       " 'hour_19',\n",
       " 'hour_20',\n",
       " 'hour_21',\n",
       " 'hour_22',\n",
       " 'hour_23',\n",
       " 'month_1',\n",
       " 'month_2',\n",
       " 'month_3',\n",
       " 'month_4',\n",
       " 'month_5',\n",
       " 'month_6',\n",
       " 'is_holiday_x',\n",
       " 'is_weekend']"
      ]
     },
     "execution_count": 155,
     "metadata": {},
     "output_type": "execute_result"
    }
   ],
   "source": [
    "columns_for_model"
   ]
  },
  {
   "cell_type": "code",
   "execution_count": 157,
   "id": "e5b4e5a4",
   "metadata": {},
   "outputs": [
    {
     "name": "stderr",
     "output_type": "stream",
     "text": [
      "loop lags_grid:   0%|                                               | 0/1 [00:00<?, ?it/s]\n",
      "loop param_grid:   0%|                                             | 0/12 [00:00<?, ?it/s]\u001b[A"
     ]
    },
    {
     "name": "stdout",
     "output_type": "stream",
     "text": [
      "Number of models compared: 12\n"
     ]
    },
    {
     "name": "stderr",
     "output_type": "stream",
     "text": [
      "\n",
      "loop param_grid:   8%|███                                  | 1/12 [00:00<00:02,  4.30it/s]\u001b[A\n",
      "loop param_grid:  17%|██████▏                              | 2/12 [00:01<00:08,  1.18it/s]\u001b[A\n",
      "loop param_grid:  25%|█████████▎                           | 3/12 [00:01<00:05,  1.52it/s]\u001b[A\n",
      "loop param_grid:  33%|████████████▎                        | 4/12 [00:03<00:09,  1.15s/it]\u001b[A\n",
      "loop param_grid:  42%|███████████████▍                     | 5/12 [00:04<00:07,  1.05s/it]\u001b[A\n",
      "loop param_grid:  50%|██████████████████▌                  | 6/12 [00:09<00:13,  2.22s/it]\u001b[A\n",
      "loop param_grid:  58%|█████████████████████▌               | 7/12 [00:09<00:08,  1.64s/it]\u001b[A\n",
      "loop param_grid:  67%|████████████████████████▋            | 8/12 [00:11<00:06,  1.58s/it]\u001b[A\n",
      "loop param_grid:  75%|███████████████████████████▊         | 9/12 [00:11<00:03,  1.24s/it]\u001b[A\n",
      "loop param_grid:  83%|██████████████████████████████      | 10/12 [00:13<00:02,  1.42s/it]\u001b[A\n",
      "loop param_grid:  92%|█████████████████████████████████   | 11/12 [00:14<00:01,  1.25s/it]\u001b[A\n",
      "loop param_grid: 100%|████████████████████████████████████| 12/12 [00:18<00:00,  2.02s/it]\u001b[A\n",
      "loop lags_grid: 100%|███████████████████████████████████████| 1/1 [00:18<00:00, 18.07s/it]\u001b[A\n"
     ]
    },
    {
     "name": "stdout",
     "output_type": "stream",
     "text": [
      "`Forecaster` refitted using the best-found lags and parameters, and the whole data set: \n",
      "  Lags: [ 24 168] \n",
      "  Parameters: {'learning_rate': 0.01, 'max_depth': 3, 'n_estimators': 500}\n",
      "  Backtesting metric: 0.7108844667673111\n",
      "\n"
     ]
    }
   ],
   "source": [
    "grid_search = grid_search_forecaster(\n",
    "                        forecaster         = forecaster,\n",
    "                        y                  = y_train,\n",
    "                        exog               = X_train[columns_for_model],\n",
    "                        param_grid         = param_grid,\n",
    "                        lags_grid          = lags_grid,\n",
    "                        steps              = 24,\n",
    "                        refit              = False,\n",
    "                        metric             = 'mean_squared_error',\n",
    "                        initial_train_size = int(len(X_train)) -1,\n",
    "                        return_best        = True,\n",
    "                        verbose            = False\n",
    "                   )"
   ]
  },
  {
   "cell_type": "code",
   "execution_count": 159,
   "id": "16906d9a",
   "metadata": {},
   "outputs": [
    {
     "data": {
      "text/plain": [
       "0      869.378235\n",
       "1      495.480286\n",
       "2      540.579285\n",
       "3      576.463318\n",
       "4      750.927429\n",
       "          ...    \n",
       "204    634.343567\n",
       "205    480.978119\n",
       "206    458.082916\n",
       "207    410.521179\n",
       "208    360.716339\n",
       "Name: pred, Length: 209, dtype: float64"
      ]
     },
     "execution_count": 159,
     "metadata": {},
     "output_type": "execute_result"
    }
   ],
   "source": [
    "predictions = forecaster.predict(steps = len(X_test), exog = X_test[columns_for_model])\n",
    "predictions = predictions.reset_index()\n",
    "predictions = predictions['pred']\n",
    "predictions"
   ]
  },
  {
   "cell_type": "code",
   "execution_count": 160,
   "id": "8250b041",
   "metadata": {},
   "outputs": [
    {
     "data": {
      "text/plain": [
       "0      857\n",
       "1      479\n",
       "2      488\n",
       "3      543\n",
       "4      690\n",
       "      ... \n",
       "204    813\n",
       "205    552\n",
       "206    571\n",
       "207    499\n",
       "208    264\n",
       "Name: rides, Length: 209, dtype: int64"
      ]
     },
     "execution_count": 160,
     "metadata": {},
     "output_type": "execute_result"
    }
   ],
   "source": [
    "demand"
   ]
  },
  {
   "cell_type": "code",
   "execution_count": 161,
   "id": "17506731",
   "metadata": {},
   "outputs": [
    {
     "data": {
      "image/png": "[encoded data removed]",
      "text/plain": [
       "<Figure size 1008x360 with 1 Axes>"
      ]
     },
     "metadata": {
      "needs_background": "light"
     },
     "output_type": "display_data"
    }
   ],
   "source": [
    "fig, ax = plt.subplots(figsize=(14, 5))\n",
    "\n",
    "plt.plot(demand, label='demand')\n",
    "plt.plot(predictions, label = 'predictions')\n",
    "ax.legend()\n",
    "plt.show()"
   ]
  },
  {
   "cell_type": "code",
   "execution_count": 162,
   "id": "02ef88c8",
   "metadata": {},
   "outputs": [
    {
     "data": {
      "text/html": [
       "<div>\n",
       "<style scoped>\n",
       "    .dataframe tbody tr th:only-of-type {\n",
       "        vertical-align: middle;\n",
       "    }\n",
       "\n",
       "    .dataframe tbody tr th {\n",
       "        vertical-align: top;\n",
       "    }\n",
       "\n",
       "    .dataframe thead th {\n",
       "        text-align: right;\n",
       "    }\n",
       "</style>\n",
       "<table border=\"1\" class=\"dataframe\">\n",
       "  <thead>\n",
       "    <tr style=\"text-align: right;\">\n",
       "      <th></th>\n",
       "      <th>model</th>\n",
       "      <th>MSE</th>\n",
       "      <th>MAE</th>\n",
       "      <th>RMSE</th>\n",
       "      <th>R2</th>\n",
       "    </tr>\n",
       "  </thead>\n",
       "  <tbody>\n",
       "    <tr>\n",
       "      <th>0</th>\n",
       "      <td>naive</td>\n",
       "      <td>23121.392344</td>\n",
       "      <td>89.478469</td>\n",
       "      <td>152.057201</td>\n",
       "      <td>0.810537</td>\n",
       "    </tr>\n",
       "    <tr>\n",
       "      <th>1</th>\n",
       "      <td>ForecastAutoreg</td>\n",
       "      <td>7723.660588</td>\n",
       "      <td>59.293636</td>\n",
       "      <td>87.884359</td>\n",
       "      <td>0.934986</td>\n",
       "    </tr>\n",
       "    <tr>\n",
       "      <th>2</th>\n",
       "      <td>ForecastAutoreg</td>\n",
       "      <td>8386.312352</td>\n",
       "      <td>62.880608</td>\n",
       "      <td>91.576811</td>\n",
       "      <td>0.926742</td>\n",
       "    </tr>\n",
       "    <tr>\n",
       "      <th>3</th>\n",
       "      <td>ForecastAutoreg</td>\n",
       "      <td>8386.312352</td>\n",
       "      <td>62.880608</td>\n",
       "      <td>91.576811</td>\n",
       "      <td>0.926742</td>\n",
       "    </tr>\n",
       "    <tr>\n",
       "      <th>4</th>\n",
       "      <td>ForecastAutoreg with exog. variables</td>\n",
       "      <td>10395.294518</td>\n",
       "      <td>65.325610</td>\n",
       "      <td>101.957317</td>\n",
       "      <td>0.895500</td>\n",
       "    </tr>\n",
       "    <tr>\n",
       "      <th>5</th>\n",
       "      <td>ForecastAutoreg with exog. variables</td>\n",
       "      <td>8589.378326</td>\n",
       "      <td>61.772859</td>\n",
       "      <td>92.678899</td>\n",
       "      <td>0.923244</td>\n",
       "    </tr>\n",
       "    <tr>\n",
       "      <th>6</th>\n",
       "      <td>LGBM</td>\n",
       "      <td>13962.583424</td>\n",
       "      <td>81.443799</td>\n",
       "      <td>118.163376</td>\n",
       "      <td>0.841084</td>\n",
       "    </tr>\n",
       "    <tr>\n",
       "      <th>7</th>\n",
       "      <td>XGBoost</td>\n",
       "      <td>13753.531199</td>\n",
       "      <td>80.988119</td>\n",
       "      <td>117.275450</td>\n",
       "      <td>0.842267</td>\n",
       "    </tr>\n",
       "    <tr>\n",
       "      <th>8</th>\n",
       "      <td>XGBoost</td>\n",
       "      <td>29588.740439</td>\n",
       "      <td>109.275520</td>\n",
       "      <td>172.013780</td>\n",
       "      <td>0.785130</td>\n",
       "    </tr>\n",
       "    <tr>\n",
       "      <th>9</th>\n",
       "      <td>XGBoost</td>\n",
       "      <td>13753.531199</td>\n",
       "      <td>80.988119</td>\n",
       "      <td>117.275450</td>\n",
       "      <td>0.842267</td>\n",
       "    </tr>\n",
       "    <tr>\n",
       "      <th>10</th>\n",
       "      <td>XGBoost with exog</td>\n",
       "      <td>11288.971733</td>\n",
       "      <td>74.411835</td>\n",
       "      <td>106.249573</td>\n",
       "      <td>0.876778</td>\n",
       "    </tr>\n",
       "  </tbody>\n",
       "</table>\n",
       "</div>"
      ],
      "text/plain": [
       "                                   model           MSE         MAE  \\\n",
       "0                                  naive  23121.392344   89.478469   \n",
       "1                        ForecastAutoreg   7723.660588   59.293636   \n",
       "2                        ForecastAutoreg   8386.312352   62.880608   \n",
       "3                        ForecastAutoreg   8386.312352   62.880608   \n",
       "4   ForecastAutoreg with exog. variables  10395.294518   65.325610   \n",
       "5   ForecastAutoreg with exog. variables   8589.378326   61.772859   \n",
       "6                                   LGBM  13962.583424   81.443799   \n",
       "7                                XGBoost  13753.531199   80.988119   \n",
       "8                                XGBoost  29588.740439  109.275520   \n",
       "9                                XGBoost  13753.531199   80.988119   \n",
       "10                     XGBoost with exog  11288.971733   74.411835   \n",
       "\n",
       "          RMSE        R2  \n",
       "0   152.057201  0.810537  \n",
       "1    87.884359  0.934986  \n",
       "2    91.576811  0.926742  \n",
       "3    91.576811  0.926742  \n",
       "4   101.957317  0.895500  \n",
       "5    92.678899  0.923244  \n",
       "6   118.163376  0.841084  \n",
       "7   117.275450  0.842267  \n",
       "8   172.013780  0.785130  \n",
       "9   117.275450  0.842267  \n",
       "10  106.249573  0.876778  "
      ]
     },
     "execution_count": 162,
     "metadata": {},
     "output_type": "execute_result"
    }
   ],
   "source": [
    "mse, mae, rmse, r2 = calculate_metrics(predictions, demand)\n",
    "evaluation_models = evaluation_models.append({'model':'XGBoost with exog', 'MSE': mse, 'MAE': mae, 'RMSE': rmse,  'R2':r2},\n",
    "                                             ignore_index=True)\n",
    "evaluation_models"
   ]
  },
  {
   "cell_type": "markdown",
   "id": "598f6dc1",
   "metadata": {},
   "source": [
    "#### 3.3.3. Gradient Boosting: LGBMRegressor"
   ]
  },
  {
   "cell_type": "code",
   "execution_count": 94,
   "id": "d9d7b31a",
   "metadata": {},
   "outputs": [],
   "source": [
    "#pip install lightgbm\n",
    "from lightgbm import LGBMRegressor"
   ]
  },
  {
   "cell_type": "code",
   "execution_count": 95,
   "id": "7b3de59a",
   "metadata": {},
   "outputs": [
    {
     "data": {
      "text/plain": [
       "================= \n",
       "ForecasterAutoreg \n",
       "================= \n",
       "Regressor: LGBMRegressor(max_depth=2, n_estimators=50) \n",
       "Lags: [ 24 168] \n",
       "Window size: 168 \n",
       "Included exogenous: False \n",
       "Type of exogenous variable: None \n",
       "Exogenous variables names: None \n",
       "Training range: None \n",
       "Training index type: None \n",
       "Training index frequency: None \n",
       "Regressor parameters: {'boosting_type': 'gbdt', 'class_weight': None, 'colsample_bytree': 1.0, 'importance_type': 'split', 'learning_rate': 0.1, 'max_depth': 2, 'min_child_samples': 20, 'min_child_weight': 0.001, 'min_split_gain': 0.0, 'n_estimators': 50, 'n_jobs': -1, 'num_leaves': 31, 'objective': None, 'random_state': None, 'reg_alpha': 0.0, 'reg_lambda': 0.0, 'silent': 'warn', 'subsample': 1.0, 'subsample_for_bin': 200000, 'subsample_freq': 0} \n",
       "Creation date: 2022-05-27 17:45:29 \n",
       "Last fit date: None \n",
       "Skforecast version: 0.4.3 "
      ]
     },
     "execution_count": 95,
     "metadata": {},
     "output_type": "execute_result"
    }
   ],
   "source": [
    "forecaster = ForecasterAutoreg(regressor = LGBMRegressor(max_depth=2, learning_rate=0.1, n_estimators=50),\n",
    "                              lags=[24,24*7])\n",
    "forecaster"
   ]
  },
  {
   "cell_type": "code",
   "execution_count": 96,
   "id": "ab72c46a",
   "metadata": {},
   "outputs": [
    {
     "data": {
      "text/plain": [
       "0      863.247151\n",
       "1      513.366841\n",
       "2      500.812631\n",
       "3      571.204702\n",
       "4      761.872315\n",
       "          ...    \n",
       "204    588.768393\n",
       "205    518.183223\n",
       "206    466.449226\n",
       "207    420.346378\n",
       "208    403.039484\n",
       "Name: pred, Length: 209, dtype: float64"
      ]
     },
     "execution_count": 96,
     "metadata": {},
     "output_type": "execute_result"
    }
   ],
   "source": [
    "forecaster.fit(y=y_train)\n",
    "predictions = forecaster.predict(steps=len(X_test))\n",
    "predictions = predictions.reset_index()\n",
    "predictions = predictions['pred']\n",
    "predictions"
   ]
  },
  {
   "cell_type": "code",
   "execution_count": 98,
   "id": "f0d2dfbd",
   "metadata": {},
   "outputs": [
    {
     "data": {
      "text/plain": [
       "0      857\n",
       "1      479\n",
       "2      488\n",
       "3      543\n",
       "4      690\n",
       "      ... \n",
       "204    813\n",
       "205    552\n",
       "206    571\n",
       "207    499\n",
       "208    264\n",
       "Name: rides, Length: 209, dtype: int64"
      ]
     },
     "execution_count": 98,
     "metadata": {},
     "output_type": "execute_result"
    }
   ],
   "source": [
    "demand = y_test\n",
    "demand = demand.reset_index()\n",
    "demand = demand['rides']\n",
    "\n",
    "demand"
   ]
  },
  {
   "cell_type": "code",
   "execution_count": 99,
   "id": "99d714af",
   "metadata": {},
   "outputs": [
    {
     "data": {
      "image/png": "[encoded data removed]",
      "text/plain": [
       "<Figure size 1008x360 with 1 Axes>"
      ]
     },
     "metadata": {
      "needs_background": "light"
     },
     "output_type": "display_data"
    }
   ],
   "source": [
    "fig, ax = plt.subplots(figsize=(14, 5))\n",
    "\n",
    "plt.plot(demand, label='demand')\n",
    "plt.plot(predictions, label = 'predictions')\n",
    "ax.legend()\n",
    "plt.show()"
   ]
  },
  {
   "cell_type": "code",
   "execution_count": 100,
   "id": "ab087d4c",
   "metadata": {},
   "outputs": [
    {
     "data": {
      "text/html": [
       "<div>\n",
       "<style scoped>\n",
       "    .dataframe tbody tr th:only-of-type {\n",
       "        vertical-align: middle;\n",
       "    }\n",
       "\n",
       "    .dataframe tbody tr th {\n",
       "        vertical-align: top;\n",
       "    }\n",
       "\n",
       "    .dataframe thead th {\n",
       "        text-align: right;\n",
       "    }\n",
       "</style>\n",
       "<table border=\"1\" class=\"dataframe\">\n",
       "  <thead>\n",
       "    <tr style=\"text-align: right;\">\n",
       "      <th></th>\n",
       "      <th>model</th>\n",
       "      <th>MSE</th>\n",
       "      <th>MAE</th>\n",
       "      <th>RMSE</th>\n",
       "      <th>R2</th>\n",
       "    </tr>\n",
       "  </thead>\n",
       "  <tbody>\n",
       "    <tr>\n",
       "      <th>0</th>\n",
       "      <td>naive</td>\n",
       "      <td>23121.392344</td>\n",
       "      <td>89.478469</td>\n",
       "      <td>152.057201</td>\n",
       "      <td>0.810537</td>\n",
       "    </tr>\n",
       "    <tr>\n",
       "      <th>1</th>\n",
       "      <td>ForecastAutoreg</td>\n",
       "      <td>7723.660588</td>\n",
       "      <td>59.293636</td>\n",
       "      <td>87.884359</td>\n",
       "      <td>0.934986</td>\n",
       "    </tr>\n",
       "    <tr>\n",
       "      <th>2</th>\n",
       "      <td>ForecastAutoreg</td>\n",
       "      <td>8386.312352</td>\n",
       "      <td>62.880608</td>\n",
       "      <td>91.576811</td>\n",
       "      <td>0.926742</td>\n",
       "    </tr>\n",
       "    <tr>\n",
       "      <th>3</th>\n",
       "      <td>ForecastAutoreg</td>\n",
       "      <td>8386.312352</td>\n",
       "      <td>62.880608</td>\n",
       "      <td>91.576811</td>\n",
       "      <td>0.926742</td>\n",
       "    </tr>\n",
       "    <tr>\n",
       "      <th>4</th>\n",
       "      <td>ForecastAutoreg with exog. variables</td>\n",
       "      <td>10395.294518</td>\n",
       "      <td>65.325610</td>\n",
       "      <td>101.957317</td>\n",
       "      <td>0.895500</td>\n",
       "    </tr>\n",
       "    <tr>\n",
       "      <th>5</th>\n",
       "      <td>ForecastAutoreg with exog. variables</td>\n",
       "      <td>8589.378326</td>\n",
       "      <td>61.772859</td>\n",
       "      <td>92.678899</td>\n",
       "      <td>0.923244</td>\n",
       "    </tr>\n",
       "    <tr>\n",
       "      <th>6</th>\n",
       "      <td>LGBM</td>\n",
       "      <td>13962.583424</td>\n",
       "      <td>81.443799</td>\n",
       "      <td>118.163376</td>\n",
       "      <td>0.841084</td>\n",
       "    </tr>\n",
       "  </tbody>\n",
       "</table>\n",
       "</div>"
      ],
      "text/plain": [
       "                                  model           MSE        MAE        RMSE  \\\n",
       "0                                 naive  23121.392344  89.478469  152.057201   \n",
       "1                       ForecastAutoreg   7723.660588  59.293636   87.884359   \n",
       "2                       ForecastAutoreg   8386.312352  62.880608   91.576811   \n",
       "3                       ForecastAutoreg   8386.312352  62.880608   91.576811   \n",
       "4  ForecastAutoreg with exog. variables  10395.294518  65.325610  101.957317   \n",
       "5  ForecastAutoreg with exog. variables   8589.378326  61.772859   92.678899   \n",
       "6                                  LGBM  13962.583424  81.443799  118.163376   \n",
       "\n",
       "         R2  \n",
       "0  0.810537  \n",
       "1  0.934986  \n",
       "2  0.926742  \n",
       "3  0.926742  \n",
       "4  0.895500  \n",
       "5  0.923244  \n",
       "6  0.841084  "
      ]
     },
     "execution_count": 100,
     "metadata": {},
     "output_type": "execute_result"
    }
   ],
   "source": [
    "mse, mae, rmse, r2 = calculate_metrics(predictions, demand)\n",
    "evaluation_models = evaluation_models.append({'model':'LGBM', 'MSE': mse, 'MAE': mae, 'RMSE': rmse,  'R2':r2},\n",
    "                                             ignore_index=True)\n",
    "evaluation_models"
   ]
  },
  {
   "cell_type": "markdown",
   "id": "c72a83b7",
   "metadata": {},
   "source": [
    "### Hyperparameters"
   ]
  },
  {
   "cell_type": "code",
   "execution_count": 107,
   "id": "bc15f852",
   "metadata": {},
   "outputs": [
    {
     "data": {
      "text/plain": [
       "================= \n",
       "ForecasterAutoreg \n",
       "================= \n",
       "Regressor: LGBMRegressor() \n",
       "Lags: [ 24 168] \n",
       "Window size: 168 \n",
       "Included exogenous: False \n",
       "Type of exogenous variable: None \n",
       "Exogenous variables names: None \n",
       "Training range: None \n",
       "Training index type: None \n",
       "Training index frequency: None \n",
       "Regressor parameters: {'boosting_type': 'gbdt', 'class_weight': None, 'colsample_bytree': 1.0, 'importance_type': 'split', 'learning_rate': 0.1, 'max_depth': -1, 'min_child_samples': 20, 'min_child_weight': 0.001, 'min_split_gain': 0.0, 'n_estimators': 100, 'n_jobs': -1, 'num_leaves': 31, 'objective': None, 'random_state': None, 'reg_alpha': 0.0, 'reg_lambda': 0.0, 'silent': 'warn', 'subsample': 1.0, 'subsample_for_bin': 200000, 'subsample_freq': 0} \n",
       "Creation date: 2022-05-27 17:49:11 \n",
       "Last fit date: None \n",
       "Skforecast version: 0.4.3 "
      ]
     },
     "execution_count": 107,
     "metadata": {},
     "output_type": "execute_result"
    }
   ],
   "source": [
    "forecaster = ForecasterAutoreg(regressor = LGBMRegressor(),\n",
    "                              lags=[24,24*7])\n",
    "forecaster"
   ]
  },
  {
   "cell_type": "code",
   "execution_count": 113,
   "id": "1d7bd640",
   "metadata": {},
   "outputs": [
    {
     "data": {
      "text/plain": [
       "3967"
      ]
     },
     "execution_count": 113,
     "metadata": {},
     "output_type": "execute_result"
    }
   ],
   "source": [
    "len(X_train)"
   ]
  },
  {
   "cell_type": "code",
   "execution_count": 109,
   "id": "b9c6cca9",
   "metadata": {},
   "outputs": [
    {
     "name": "stderr",
     "output_type": "stream",
     "text": [
      "loop lags_grid:   0%|                                               | 0/2 [00:00<?, ?it/s]\n",
      "loop param_grid:   0%|                                              | 0/8 [00:00<?, ?it/s]\u001b[A\n",
      "loop lags_grid:   0%|                                               | 0/2 [00:00<?, ?it/s]\u001b[A"
     ]
    },
    {
     "name": "stdout",
     "output_type": "stream",
     "text": [
      "Number of models compared: 16\n",
      "[LightGBM] [Warning] num_iterations is set=100, max_iter=100 will be ignored. Current value: num_iterations=100\n"
     ]
    },
    {
     "name": "stderr",
     "output_type": "stream",
     "text": [
      "\n"
     ]
    },
    {
     "ename": "ValueError",
     "evalue": "No objects to concatenate",
     "output_type": "error",
     "traceback": [
      "\u001b[1;31m---------------------------------------------------------------------------\u001b[0m",
      "\u001b[1;31mValueError\u001b[0m                                Traceback (most recent call last)",
      "\u001b[1;32m<ipython-input-109-5f78b677c9d8>\u001b[0m in \u001b[0;36m<module>\u001b[1;34m\u001b[0m\n\u001b[0;32m      8\u001b[0m \u001b[1;33m\u001b[0m\u001b[0m\n\u001b[0;32m      9\u001b[0m \u001b[1;33m\u001b[0m\u001b[0m\n\u001b[1;32m---> 10\u001b[1;33m results_grid = grid_search_forecaster(forecaster = forecaster,\n\u001b[0m\u001b[0;32m     11\u001b[0m                                      \u001b[0my\u001b[0m \u001b[1;33m=\u001b[0m \u001b[0my_train\u001b[0m\u001b[1;33m,\u001b[0m\u001b[1;33m\u001b[0m\u001b[1;33m\u001b[0m\u001b[0m\n\u001b[0;32m     12\u001b[0m                                      \u001b[0mparam_grid\u001b[0m \u001b[1;33m=\u001b[0m \u001b[0mparam_grid\u001b[0m\u001b[1;33m,\u001b[0m\u001b[1;33m\u001b[0m\u001b[1;33m\u001b[0m\u001b[0m\n",
      "\u001b[1;32m~\\Anaconda3\\lib\\site-packages\\skforecast\\model_selection\\model_selection.py\u001b[0m in \u001b[0;36mgrid_search_forecaster\u001b[1;34m(forecaster, y, param_grid, steps, metric, initial_train_size, fixed_train_size, exog, lags_grid, refit, return_best, verbose)\u001b[0m\n\u001b[0;32m   1110\u001b[0m \u001b[1;33m\u001b[0m\u001b[0m\n\u001b[0;32m   1111\u001b[0m             \u001b[0mforecaster\u001b[0m\u001b[1;33m.\u001b[0m\u001b[0mset_params\u001b[0m\u001b[1;33m(\u001b[0m\u001b[1;33m**\u001b[0m\u001b[0mparams\u001b[0m\u001b[1;33m)\u001b[0m\u001b[1;33m\u001b[0m\u001b[1;33m\u001b[0m\u001b[0m\n\u001b[1;32m-> 1112\u001b[1;33m             metrics = backtesting_forecaster(\n\u001b[0m\u001b[0;32m   1113\u001b[0m                             \u001b[0mforecaster\u001b[0m         \u001b[1;33m=\u001b[0m \u001b[0mforecaster\u001b[0m\u001b[1;33m,\u001b[0m\u001b[1;33m\u001b[0m\u001b[1;33m\u001b[0m\u001b[0m\n\u001b[0;32m   1114\u001b[0m                             \u001b[0my\u001b[0m                  \u001b[1;33m=\u001b[0m \u001b[0my\u001b[0m\u001b[1;33m,\u001b[0m\u001b[1;33m\u001b[0m\u001b[1;33m\u001b[0m\u001b[0m\n",
      "\u001b[1;32m~\\Anaconda3\\lib\\site-packages\\skforecast\\model_selection\\model_selection.py\u001b[0m in \u001b[0;36mbacktesting_forecaster\u001b[1;34m(forecaster, y, steps, metric, initial_train_size, fixed_train_size, exog, refit, interval, n_boot, random_state, in_sample_residuals, verbose, set_out_sample_residuals)\u001b[0m\n\u001b[0;32m    991\u001b[0m         )\n\u001b[0;32m    992\u001b[0m     \u001b[1;32melse\u001b[0m\u001b[1;33m:\u001b[0m\u001b[1;33m\u001b[0m\u001b[1;33m\u001b[0m\u001b[0m\n\u001b[1;32m--> 993\u001b[1;33m         metric_value, backtest_predictions = _backtesting_forecaster_no_refit(\n\u001b[0m\u001b[0;32m    994\u001b[0m             \u001b[0mforecaster\u001b[0m          \u001b[1;33m=\u001b[0m \u001b[0mforecaster\u001b[0m\u001b[1;33m,\u001b[0m\u001b[1;33m\u001b[0m\u001b[1;33m\u001b[0m\u001b[0m\n\u001b[0;32m    995\u001b[0m             \u001b[0my\u001b[0m                   \u001b[1;33m=\u001b[0m \u001b[0my\u001b[0m\u001b[1;33m,\u001b[0m\u001b[1;33m\u001b[0m\u001b[1;33m\u001b[0m\u001b[0m\n",
      "\u001b[1;32m~\\Anaconda3\\lib\\site-packages\\skforecast\\model_selection\\model_selection.py\u001b[0m in \u001b[0;36m_backtesting_forecaster_no_refit\u001b[1;34m(forecaster, y, steps, metric, initial_train_size, exog, interval, n_boot, random_state, in_sample_residuals, verbose, set_out_sample_residuals)\u001b[0m\n\u001b[0;32m    824\u001b[0m             \u001b[0mbacktest_predictions\u001b[0m\u001b[1;33m.\u001b[0m\u001b[0mappend\u001b[0m\u001b[1;33m(\u001b[0m\u001b[0mpred\u001b[0m\u001b[1;33m)\u001b[0m\u001b[1;33m\u001b[0m\u001b[1;33m\u001b[0m\u001b[0m\n\u001b[0;32m    825\u001b[0m \u001b[1;33m\u001b[0m\u001b[0m\n\u001b[1;32m--> 826\u001b[1;33m     \u001b[0mbacktest_predictions\u001b[0m \u001b[1;33m=\u001b[0m \u001b[0mpd\u001b[0m\u001b[1;33m.\u001b[0m\u001b[0mconcat\u001b[0m\u001b[1;33m(\u001b[0m\u001b[0mbacktest_predictions\u001b[0m\u001b[1;33m)\u001b[0m\u001b[1;33m\u001b[0m\u001b[1;33m\u001b[0m\u001b[0m\n\u001b[0m\u001b[0;32m    827\u001b[0m     \u001b[1;32mif\u001b[0m \u001b[0misinstance\u001b[0m\u001b[1;33m(\u001b[0m\u001b[0mbacktest_predictions\u001b[0m\u001b[1;33m,\u001b[0m \u001b[0mpd\u001b[0m\u001b[1;33m.\u001b[0m\u001b[0mSeries\u001b[0m\u001b[1;33m)\u001b[0m\u001b[1;33m:\u001b[0m\u001b[1;33m\u001b[0m\u001b[1;33m\u001b[0m\u001b[0m\n\u001b[0;32m    828\u001b[0m         \u001b[0mbacktest_predictions\u001b[0m \u001b[1;33m=\u001b[0m \u001b[0mpd\u001b[0m\u001b[1;33m.\u001b[0m\u001b[0mDataFrame\u001b[0m\u001b[1;33m(\u001b[0m\u001b[0mbacktest_predictions\u001b[0m\u001b[1;33m)\u001b[0m\u001b[1;33m\u001b[0m\u001b[1;33m\u001b[0m\u001b[0m\n",
      "\u001b[1;32m~\\Anaconda3\\lib\\site-packages\\pandas\\core\\reshape\\concat.py\u001b[0m in \u001b[0;36mconcat\u001b[1;34m(objs, axis, join, ignore_index, keys, levels, names, verify_integrity, sort, copy)\u001b[0m\n\u001b[0;32m    283\u001b[0m     \u001b[0mValueError\u001b[0m\u001b[1;33m:\u001b[0m \u001b[0mIndexes\u001b[0m \u001b[0mhave\u001b[0m \u001b[0moverlapping\u001b[0m \u001b[0mvalues\u001b[0m\u001b[1;33m:\u001b[0m \u001b[1;33m[\u001b[0m\u001b[1;34m'a'\u001b[0m\u001b[1;33m]\u001b[0m\u001b[1;33m\u001b[0m\u001b[1;33m\u001b[0m\u001b[0m\n\u001b[0;32m    284\u001b[0m     \"\"\"\n\u001b[1;32m--> 285\u001b[1;33m     op = _Concatenator(\n\u001b[0m\u001b[0;32m    286\u001b[0m         \u001b[0mobjs\u001b[0m\u001b[1;33m,\u001b[0m\u001b[1;33m\u001b[0m\u001b[1;33m\u001b[0m\u001b[0m\n\u001b[0;32m    287\u001b[0m         \u001b[0maxis\u001b[0m\u001b[1;33m=\u001b[0m\u001b[0maxis\u001b[0m\u001b[1;33m,\u001b[0m\u001b[1;33m\u001b[0m\u001b[1;33m\u001b[0m\u001b[0m\n",
      "\u001b[1;32m~\\Anaconda3\\lib\\site-packages\\pandas\\core\\reshape\\concat.py\u001b[0m in \u001b[0;36m__init__\u001b[1;34m(self, objs, axis, join, keys, levels, names, ignore_index, verify_integrity, copy, sort)\u001b[0m\n\u001b[0;32m    340\u001b[0m \u001b[1;33m\u001b[0m\u001b[0m\n\u001b[0;32m    341\u001b[0m         \u001b[1;32mif\u001b[0m \u001b[0mlen\u001b[0m\u001b[1;33m(\u001b[0m\u001b[0mobjs\u001b[0m\u001b[1;33m)\u001b[0m \u001b[1;33m==\u001b[0m \u001b[1;36m0\u001b[0m\u001b[1;33m:\u001b[0m\u001b[1;33m\u001b[0m\u001b[1;33m\u001b[0m\u001b[0m\n\u001b[1;32m--> 342\u001b[1;33m             \u001b[1;32mraise\u001b[0m \u001b[0mValueError\u001b[0m\u001b[1;33m(\u001b[0m\u001b[1;34m\"No objects to concatenate\"\u001b[0m\u001b[1;33m)\u001b[0m\u001b[1;33m\u001b[0m\u001b[1;33m\u001b[0m\u001b[0m\n\u001b[0m\u001b[0;32m    343\u001b[0m \u001b[1;33m\u001b[0m\u001b[0m\n\u001b[0;32m    344\u001b[0m         \u001b[1;32mif\u001b[0m \u001b[0mkeys\u001b[0m \u001b[1;32mis\u001b[0m \u001b[1;32mNone\u001b[0m\u001b[1;33m:\u001b[0m\u001b[1;33m\u001b[0m\u001b[1;33m\u001b[0m\u001b[0m\n",
      "\u001b[1;31mValueError\u001b[0m: No objects to concatenate"
     ]
    }
   ],
   "source": [
    "\n",
    "param_grid = {\n",
    "    'max_iter': [100,500],\n",
    "    'max_depth':[3,10],\n",
    "    'learning_rate':[0.01,0.1]\n",
    "}\n",
    "\n",
    "possible_lags = [24,24*7]\n",
    "\n",
    "\n",
    "results_grid = grid_search_forecaster(forecaster = forecaster,\n",
    "                                     y = y_train,\n",
    "                                     param_grid = param_grid,\n",
    "                                     lags_grid = possible_lags,\n",
    "                                     steps=len(X_test),\n",
    "                                     refit=False,\n",
    "                                     metric = 'mean_absolute_error',\n",
    "                                     initial_train_size=int(len(X_train)),\n",
    "                                     return_best=True,\n",
    "                                     verbose=False)"
   ]
  },
  {
   "cell_type": "code",
   "execution_count": null,
   "id": "86d9ddee",
   "metadata": {},
   "outputs": [],
   "source": [
    "results_grid.head(10)"
   ]
  },
  {
   "cell_type": "code",
   "execution_count": null,
   "id": "d934319b",
   "metadata": {},
   "outputs": [],
   "source": [
    "#Backtest with best hyperparameters\n",
    "metric, predictions = backtesting_forecaster(forecaster = forecaster\n",
    "                                            y = rides_per_hour_model['rides'],\n",
    "                                            initial_train_size=len(X_train),\n",
    "                                            steps = len(X_test),\n",
    "                                            metric = 'mean_absolute_error',\n",
    "                                            refit=False,\n",
    "                                            verbose=True)"
   ]
  },
  {
   "cell_type": "code",
   "execution_count": null,
   "id": "2d4113c1",
   "metadata": {},
   "outputs": [],
   "source": [
    "metric"
   ]
  },
  {
   "cell_type": "markdown",
   "id": "74ebd9ca",
   "metadata": {},
   "source": [
    "#### Adding exogenous variables: weekday and is_holiday"
   ]
  },
  {
   "cell_type": "markdown",
   "id": "ab32ca25",
   "metadata": {},
   "source": [
    "We saved our exogenous variables in a variable called columns_for_model"
   ]
  },
  {
   "cell_type": "code",
   "execution_count": null,
   "id": "469b196a",
   "metadata": {},
   "outputs": [],
   "source": [
    "columns_for_model"
   ]
  },
  {
   "cell_type": "code",
   "execution_count": null,
   "id": "d548dd3d",
   "metadata": {},
   "outputs": [],
   "source": [
    "forecaster = ForecasterAutoreg(regressor = LGBMRegressor(max_depth=2, learning_rate=0.1, n_estimators=50),\n",
    "                              lags=[24,24*7])\n",
    "forecaster.fit(y = X_test,\n",
    "              exog = X_test[])"
   ]
  }
 ],
 "metadata": {
  "kernelspec": {
   "display_name": "Python 3",
   "language": "python",
   "name": "python3"
  },
  "language_info": {
   "codemirror_mode": {
    "name": "ipython",
    "version": 3
   },
   "file_extension": ".py",
   "mimetype": "text/x-python",
   "name": "python",
   "nbconvert_exporter": "python",
   "pygments_lexer": "ipython3",
   "version": "3.8.8"
  }
 },
 "nbformat": 4,
 "nbformat_minor": 5
}
