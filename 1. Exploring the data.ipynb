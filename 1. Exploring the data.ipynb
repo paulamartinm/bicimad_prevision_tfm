{
 "cells": [
  {
   "cell_type": "markdown",
   "id": "21d5f6b6",
   "metadata": {},
   "source": [
    "## 1. Explore the data"
   ]
  },
  {
   "cell_type": "markdown",
   "id": "95ad1145",
   "metadata": {},
   "source": [
    "### 1.1. BICIMAD. Details of the electric bicycle routes"
   ]
  },
  {
   "cell_type": "markdown",
   "id": "dddd02c8",
   "metadata": {},
   "source": [
    "#### 1.1.1. Columns of the database"
   ]
  },
  {
   "cell_type": "markdown",
   "id": "1e378b67",
   "metadata": {},
   "source": [
    "**__id**: identificator of the movement\n",
    "\n",
    "**user_day_code**: user code. For a same date, all the movement of the sale user have the same code.\n",
    "\n",
    "**idunplug_station**: number of the origin station\n",
    "\n",
    "**idunplug_base**: number of origin base\n",
    "\n",
    "**idplug_station**: number of destination station\n",
    "\n",
    "**idplug_base**: number of destionation base\n",
    "\n",
    "**unplug_hourTime**: time the bicycle is picked up\n",
    "\n",
    "**travel_time**: time in seconds of the ride\n",
    "\n",
    "**track**: detail of the ride (GeoJSON)\n",
    "\n",
    "**user_type**: type of user: \n",
    "\n",
    "    - 0: not defined\n",
    "    - 1: anual user\n",
    "    - 2: ocasional user\n",
    "    - 3: worker of bicimad\n",
    "    \n",
    "**ageRange**: age range of the user:\n",
    "\n",
    "    - 0: not defined\n",
    "    - 1: between 0 and 16 years\n",
    "    - 2: between 17 and 18 years\n",
    "    - 3: between 19 and 26 years\n",
    "    - 4: between 27 and 40 years\n",
    "    - 5: between 41 and 65 years\n",
    "    - 6: more than 65 years\n",
    "    \n",
    "**zip_code**: postal code of the user"
   ]
  },
  {
   "cell_type": "markdown",
   "id": "97dad1cc",
   "metadata": {},
   "source": [
    "#### 1.1.2.Read the data"
   ]
  },
  {
   "cell_type": "code",
   "execution_count": 47,
   "id": "4de1165d",
   "metadata": {},
   "outputs": [],
   "source": [
    "import numpy as np\n",
    "import pandas as pd\n",
    "import json\n",
    "import matplotlib.pyplot as plt\n",
    "import seaborn as sns"
   ]
  },
  {
   "cell_type": "markdown",
   "id": "ea8cbfd5",
   "metadata": {},
   "source": [
    "First, we are going to understand the data and obtain conclussions for the movements of june 2021"
   ]
  },
  {
   "cell_type": "code",
   "execution_count": 4,
   "id": "85950736",
   "metadata": {},
   "outputs": [],
   "source": [
    "movements = pd.read_json('202106_movements.json', lines=True)"
   ]
  },
  {
   "cell_type": "code",
   "execution_count": 5,
   "id": "5abe1f26",
   "metadata": {},
   "outputs": [
    {
     "data": {
      "text/html": [
       "<div>\n",
       "<style scoped>\n",
       "    .dataframe tbody tr th:only-of-type {\n",
       "        vertical-align: middle;\n",
       "    }\n",
       "\n",
       "    .dataframe tbody tr th {\n",
       "        vertical-align: top;\n",
       "    }\n",
       "\n",
       "    .dataframe thead th {\n",
       "        text-align: right;\n",
       "    }\n",
       "</style>\n",
       "<table border=\"1\" class=\"dataframe\">\n",
       "  <thead>\n",
       "    <tr style=\"text-align: right;\">\n",
       "      <th></th>\n",
       "      <th>_id</th>\n",
       "      <th>user_day_code</th>\n",
       "      <th>idplug_base</th>\n",
       "      <th>user_type</th>\n",
       "      <th>idunplug_base</th>\n",
       "      <th>travel_time</th>\n",
       "      <th>idunplug_station</th>\n",
       "      <th>ageRange</th>\n",
       "      <th>idplug_station</th>\n",
       "      <th>unplug_hourTime</th>\n",
       "      <th>zip_code</th>\n",
       "    </tr>\n",
       "  </thead>\n",
       "  <tbody>\n",
       "    <tr>\n",
       "      <th>0</th>\n",
       "      <td>{'$oid': '60bbf3f21b91311d90d568ad'}</td>\n",
       "      <td>b67ea824acf706087d5818ebc6f90821a5abaab17a0868...</td>\n",
       "      <td>15</td>\n",
       "      <td>1</td>\n",
       "      <td>13</td>\n",
       "      <td>319</td>\n",
       "      <td>38</td>\n",
       "      <td>0</td>\n",
       "      <td>54</td>\n",
       "      <td>2021-06-01T00:00:00Z</td>\n",
       "      <td></td>\n",
       "    </tr>\n",
       "    <tr>\n",
       "      <th>1</th>\n",
       "      <td>{'$oid': '60bbf3f21b91311d90d568b2'}</td>\n",
       "      <td>364b1b99f1f9a1748f7abf1134c8d6a46197b583649308...</td>\n",
       "      <td>7</td>\n",
       "      <td>1</td>\n",
       "      <td>1</td>\n",
       "      <td>386</td>\n",
       "      <td>185</td>\n",
       "      <td>0</td>\n",
       "      <td>126</td>\n",
       "      <td>2021-06-01T00:00:00Z</td>\n",
       "      <td></td>\n",
       "    </tr>\n",
       "    <tr>\n",
       "      <th>2</th>\n",
       "      <td>{'$oid': '60bbf3f21b91311d90d568b3'}</td>\n",
       "      <td>5cc17031cba02835dda4b6c153b56572beaade54d8ab91...</td>\n",
       "      <td>14</td>\n",
       "      <td>1</td>\n",
       "      <td>10</td>\n",
       "      <td>465</td>\n",
       "      <td>15</td>\n",
       "      <td>0</td>\n",
       "      <td>91</td>\n",
       "      <td>2021-06-01T00:00:00Z</td>\n",
       "      <td></td>\n",
       "    </tr>\n",
       "    <tr>\n",
       "      <th>3</th>\n",
       "      <td>{'$oid': '60bbf3f21b91311d90d568b4'}</td>\n",
       "      <td>6e855acaaa17d6d14236598c0f1172c783e16950e39c01...</td>\n",
       "      <td>8</td>\n",
       "      <td>1</td>\n",
       "      <td>22</td>\n",
       "      <td>613</td>\n",
       "      <td>84</td>\n",
       "      <td>0</td>\n",
       "      <td>236</td>\n",
       "      <td>2021-06-01T00:00:00Z</td>\n",
       "      <td></td>\n",
       "    </tr>\n",
       "    <tr>\n",
       "      <th>4</th>\n",
       "      <td>{'$oid': '60bbf3f21b91311d90d568b5'}</td>\n",
       "      <td>e93417502d55208995a61f4177956ab9289aba39044ce3...</td>\n",
       "      <td>1</td>\n",
       "      <td>1</td>\n",
       "      <td>4</td>\n",
       "      <td>751</td>\n",
       "      <td>131</td>\n",
       "      <td>5</td>\n",
       "      <td>94</td>\n",
       "      <td>2021-06-01T00:00:00Z</td>\n",
       "      <td>28006</td>\n",
       "    </tr>\n",
       "  </tbody>\n",
       "</table>\n",
       "</div>"
      ],
      "text/plain": [
       "                                    _id  \\\n",
       "0  {'$oid': '60bbf3f21b91311d90d568ad'}   \n",
       "1  {'$oid': '60bbf3f21b91311d90d568b2'}   \n",
       "2  {'$oid': '60bbf3f21b91311d90d568b3'}   \n",
       "3  {'$oid': '60bbf3f21b91311d90d568b4'}   \n",
       "4  {'$oid': '60bbf3f21b91311d90d568b5'}   \n",
       "\n",
       "                                       user_day_code  idplug_base  user_type  \\\n",
       "0  b67ea824acf706087d5818ebc6f90821a5abaab17a0868...           15          1   \n",
       "1  364b1b99f1f9a1748f7abf1134c8d6a46197b583649308...            7          1   \n",
       "2  5cc17031cba02835dda4b6c153b56572beaade54d8ab91...           14          1   \n",
       "3  6e855acaaa17d6d14236598c0f1172c783e16950e39c01...            8          1   \n",
       "4  e93417502d55208995a61f4177956ab9289aba39044ce3...            1          1   \n",
       "\n",
       "   idunplug_base  travel_time  idunplug_station  ageRange  idplug_station  \\\n",
       "0             13          319                38         0              54   \n",
       "1              1          386               185         0             126   \n",
       "2             10          465                15         0              91   \n",
       "3             22          613                84         0             236   \n",
       "4              4          751               131         5              94   \n",
       "\n",
       "        unplug_hourTime zip_code  \n",
       "0  2021-06-01T00:00:00Z           \n",
       "1  2021-06-01T00:00:00Z           \n",
       "2  2021-06-01T00:00:00Z           \n",
       "3  2021-06-01T00:00:00Z           \n",
       "4  2021-06-01T00:00:00Z    28006  "
      ]
     },
     "execution_count": 5,
     "metadata": {},
     "output_type": "execute_result"
    }
   ],
   "source": [
    "movements.head()"
   ]
  },
  {
   "cell_type": "code",
   "execution_count": 6,
   "id": "d9ab13cd",
   "metadata": {},
   "outputs": [
    {
     "data": {
      "text/html": [
       "<div>\n",
       "<style scoped>\n",
       "    .dataframe tbody tr th:only-of-type {\n",
       "        vertical-align: middle;\n",
       "    }\n",
       "\n",
       "    .dataframe tbody tr th {\n",
       "        vertical-align: top;\n",
       "    }\n",
       "\n",
       "    .dataframe thead th {\n",
       "        text-align: right;\n",
       "    }\n",
       "</style>\n",
       "<table border=\"1\" class=\"dataframe\">\n",
       "  <thead>\n",
       "    <tr style=\"text-align: right;\">\n",
       "      <th></th>\n",
       "      <th>idplug_base</th>\n",
       "      <th>user_type</th>\n",
       "      <th>idunplug_base</th>\n",
       "      <th>travel_time</th>\n",
       "      <th>idunplug_station</th>\n",
       "      <th>ageRange</th>\n",
       "      <th>idplug_station</th>\n",
       "    </tr>\n",
       "  </thead>\n",
       "  <tbody>\n",
       "    <tr>\n",
       "      <th>count</th>\n",
       "      <td>413370.000000</td>\n",
       "      <td>413370.000000</td>\n",
       "      <td>413370.000000</td>\n",
       "      <td>4.133700e+05</td>\n",
       "      <td>413370.000000</td>\n",
       "      <td>413370.000000</td>\n",
       "      <td>413370.000000</td>\n",
       "    </tr>\n",
       "    <tr>\n",
       "      <th>mean</th>\n",
       "      <td>12.388069</td>\n",
       "      <td>1.136778</td>\n",
       "      <td>12.373503</td>\n",
       "      <td>1.031460e+03</td>\n",
       "      <td>123.489501</td>\n",
       "      <td>1.900068</td>\n",
       "      <td>123.487662</td>\n",
       "    </tr>\n",
       "    <tr>\n",
       "      <th>std</th>\n",
       "      <td>7.556949</td>\n",
       "      <td>0.652830</td>\n",
       "      <td>7.540467</td>\n",
       "      <td>5.456637e+03</td>\n",
       "      <td>75.771675</td>\n",
       "      <td>2.199646</td>\n",
       "      <td>75.628880</td>\n",
       "    </tr>\n",
       "    <tr>\n",
       "      <th>min</th>\n",
       "      <td>1.000000</td>\n",
       "      <td>1.000000</td>\n",
       "      <td>1.000000</td>\n",
       "      <td>0.000000e+00</td>\n",
       "      <td>1.000000</td>\n",
       "      <td>0.000000</td>\n",
       "      <td>1.000000</td>\n",
       "    </tr>\n",
       "    <tr>\n",
       "      <th>25%</th>\n",
       "      <td>5.000000</td>\n",
       "      <td>1.000000</td>\n",
       "      <td>5.000000</td>\n",
       "      <td>4.800000e+02</td>\n",
       "      <td>57.000000</td>\n",
       "      <td>0.000000</td>\n",
       "      <td>56.000000</td>\n",
       "    </tr>\n",
       "    <tr>\n",
       "      <th>50%</th>\n",
       "      <td>12.000000</td>\n",
       "      <td>1.000000</td>\n",
       "      <td>12.000000</td>\n",
       "      <td>7.330000e+02</td>\n",
       "      <td>122.000000</td>\n",
       "      <td>0.000000</td>\n",
       "      <td>122.000000</td>\n",
       "    </tr>\n",
       "    <tr>\n",
       "      <th>75%</th>\n",
       "      <td>19.000000</td>\n",
       "      <td>1.000000</td>\n",
       "      <td>19.000000</td>\n",
       "      <td>1.086000e+03</td>\n",
       "      <td>185.000000</td>\n",
       "      <td>4.000000</td>\n",
       "      <td>185.000000</td>\n",
       "    </tr>\n",
       "    <tr>\n",
       "      <th>max</th>\n",
       "      <td>30.000000</td>\n",
       "      <td>7.000000</td>\n",
       "      <td>30.000000</td>\n",
       "      <td>1.708423e+06</td>\n",
       "      <td>2009.000000</td>\n",
       "      <td>6.000000</td>\n",
       "      <td>2009.000000</td>\n",
       "    </tr>\n",
       "  </tbody>\n",
       "</table>\n",
       "</div>"
      ],
      "text/plain": [
       "         idplug_base      user_type  idunplug_base   travel_time  \\\n",
       "count  413370.000000  413370.000000  413370.000000  4.133700e+05   \n",
       "mean       12.388069       1.136778      12.373503  1.031460e+03   \n",
       "std         7.556949       0.652830       7.540467  5.456637e+03   \n",
       "min         1.000000       1.000000       1.000000  0.000000e+00   \n",
       "25%         5.000000       1.000000       5.000000  4.800000e+02   \n",
       "50%        12.000000       1.000000      12.000000  7.330000e+02   \n",
       "75%        19.000000       1.000000      19.000000  1.086000e+03   \n",
       "max        30.000000       7.000000      30.000000  1.708423e+06   \n",
       "\n",
       "       idunplug_station       ageRange  idplug_station  \n",
       "count     413370.000000  413370.000000   413370.000000  \n",
       "mean         123.489501       1.900068      123.487662  \n",
       "std           75.771675       2.199646       75.628880  \n",
       "min            1.000000       0.000000        1.000000  \n",
       "25%           57.000000       0.000000       56.000000  \n",
       "50%          122.000000       0.000000      122.000000  \n",
       "75%          185.000000       4.000000      185.000000  \n",
       "max         2009.000000       6.000000     2009.000000  "
      ]
     },
     "execution_count": 6,
     "metadata": {},
     "output_type": "execute_result"
    }
   ],
   "source": [
    "movements.describe()"
   ]
  },
  {
   "cell_type": "markdown",
   "id": "aeacdf94",
   "metadata": {},
   "source": [
    "##### Number of rides per age"
   ]
  },
  {
   "cell_type": "code",
   "execution_count": 7,
   "id": "9f28a8cc",
   "metadata": {},
   "outputs": [
    {
     "data": {
      "text/html": [
       "<div>\n",
       "<style scoped>\n",
       "    .dataframe tbody tr th:only-of-type {\n",
       "        vertical-align: middle;\n",
       "    }\n",
       "\n",
       "    .dataframe tbody tr th {\n",
       "        vertical-align: top;\n",
       "    }\n",
       "\n",
       "    .dataframe thead th {\n",
       "        text-align: right;\n",
       "    }\n",
       "</style>\n",
       "<table border=\"1\" class=\"dataframe\">\n",
       "  <thead>\n",
       "    <tr style=\"text-align: right;\">\n",
       "      <th></th>\n",
       "      <th>id</th>\n",
       "      <th>range</th>\n",
       "    </tr>\n",
       "  </thead>\n",
       "  <tbody>\n",
       "    <tr>\n",
       "      <th>0</th>\n",
       "      <td>0</td>\n",
       "      <td>not defined</td>\n",
       "    </tr>\n",
       "    <tr>\n",
       "      <th>1</th>\n",
       "      <td>1</td>\n",
       "      <td>0 - 16 years</td>\n",
       "    </tr>\n",
       "    <tr>\n",
       "      <th>2</th>\n",
       "      <td>2</td>\n",
       "      <td>17 - 18 years</td>\n",
       "    </tr>\n",
       "    <tr>\n",
       "      <th>3</th>\n",
       "      <td>3</td>\n",
       "      <td>19 - 26 years</td>\n",
       "    </tr>\n",
       "    <tr>\n",
       "      <th>4</th>\n",
       "      <td>4</td>\n",
       "      <td>27 - 40 years</td>\n",
       "    </tr>\n",
       "    <tr>\n",
       "      <th>5</th>\n",
       "      <td>5</td>\n",
       "      <td>41 - 65 years</td>\n",
       "    </tr>\n",
       "    <tr>\n",
       "      <th>6</th>\n",
       "      <td>6</td>\n",
       "      <td>more 65 years</td>\n",
       "    </tr>\n",
       "  </tbody>\n",
       "</table>\n",
       "</div>"
      ],
      "text/plain": [
       "   id           range\n",
       "0   0     not defined\n",
       "1   1    0 - 16 years\n",
       "2   2   17 - 18 years\n",
       "3   3   19 - 26 years\n",
       "4   4   27 - 40 years\n",
       "5   5   41 - 65 years\n",
       "6   6   more 65 years"
      ]
     },
     "execution_count": 7,
     "metadata": {},
     "output_type": "execute_result"
    }
   ],
   "source": [
    "#First, we define the age ranges\n",
    "age_Range_dic = {0: 'not defined', 1: '0 - 16 years', 2: '17 - 18 years', \n",
    "             3: '19 - 26 years',4: '27 - 40 years', 5: '41 - 65 years',\n",
    "             6: ' more 65 years'}\n",
    "\n",
    "age_Range = pd.DataFrame([[key, age_Range_dic[key]] for key in age_Range_dic.keys()], columns = ['id', 'range'])\n",
    "age_Range"
   ]
  },
  {
   "cell_type": "code",
   "execution_count": 8,
   "id": "b72e4b27",
   "metadata": {
    "scrolled": true
   },
   "outputs": [],
   "source": [
    "rides_per_age = movements.groupby('ageRange')['user_type'].count().reset_index()\n",
    "\n",
    "number_rides_age = rides_per_age.merge(age_Range, how='inner', left_on = 'ageRange', right_on='id')\n",
    "number_rides_age = number_rides_age[number_rides_age['ageRange']!= 0]"
   ]
  },
  {
   "cell_type": "code",
   "execution_count": 9,
   "id": "a2d36448",
   "metadata": {},
   "outputs": [
    {
     "data": {
      "image/png": "[encoded data removed]",
      "text/plain": [
       "<Figure size 864x360 with 1 Axes>"
      ]
     },
     "metadata": {
      "needs_background": "light"
     },
     "output_type": "display_data"
    }
   ],
   "source": [
    "##number of rides per age\n",
    "plt.figure(figsize=(12,5))\n",
    "plt.bar(number_rides_age['range'], height = number_rides_age['user_type']);\n",
    "plt.xticks(rotation=45);"
   ]
  },
  {
   "cell_type": "markdown",
   "id": "5e30ff1f",
   "metadata": {},
   "source": [
    "##### Number of rides per origin station"
   ]
  },
  {
   "cell_type": "code",
   "execution_count": 11,
   "id": "81eb7865",
   "metadata": {},
   "outputs": [],
   "source": [
    "rides_per_origin = movements.groupby('idunplug_station')['user_type'].count().reset_index()\n",
    "rides_per_origin_station = rides_per_origin.sort_values(by='user_type', ascending = False)"
   ]
  },
  {
   "cell_type": "code",
   "execution_count": 12,
   "id": "ff4adce9",
   "metadata": {},
   "outputs": [],
   "source": [
    "### To identify the stations, we need to merge the data 'rides_per_origin' with another table that tell us the station"
   ]
  },
  {
   "cell_type": "code",
   "execution_count": 13,
   "id": "d26fd2a2",
   "metadata": {},
   "outputs": [],
   "source": [
    "stations = pd.read_json('202106.json', lines=True)"
   ]
  },
  {
   "cell_type": "code",
   "execution_count": 14,
   "id": "2b4f36e1",
   "metadata": {},
   "outputs": [
    {
     "data": {
      "text/html": [
       "<div>\n",
       "<style scoped>\n",
       "    .dataframe tbody tr th:only-of-type {\n",
       "        vertical-align: middle;\n",
       "    }\n",
       "\n",
       "    .dataframe tbody tr th {\n",
       "        vertical-align: top;\n",
       "    }\n",
       "\n",
       "    .dataframe thead th {\n",
       "        text-align: right;\n",
       "    }\n",
       "</style>\n",
       "<table border=\"1\" class=\"dataframe\">\n",
       "  <thead>\n",
       "    <tr style=\"text-align: right;\">\n",
       "      <th></th>\n",
       "      <th>_id</th>\n",
       "      <th>stations</th>\n",
       "    </tr>\n",
       "  </thead>\n",
       "  <tbody>\n",
       "    <tr>\n",
       "      <th>0</th>\n",
       "      <td>2021-06-01T00:43:39.688214</td>\n",
       "      <td>[{'activate': 1, 'name': 'Puerta del Sol A', '...</td>\n",
       "    </tr>\n",
       "    <tr>\n",
       "      <th>1</th>\n",
       "      <td>2021-06-01T01:43:41.872092</td>\n",
       "      <td>[{'activate': 1, 'name': 'Puerta del Sol A', '...</td>\n",
       "    </tr>\n",
       "    <tr>\n",
       "      <th>2</th>\n",
       "      <td>2021-06-01T02:43:42.969250</td>\n",
       "      <td>[{'activate': 1, 'name': 'Puerta del Sol A', '...</td>\n",
       "    </tr>\n",
       "    <tr>\n",
       "      <th>3</th>\n",
       "      <td>2021-06-01T03:43:44.600717</td>\n",
       "      <td>[{'activate': 1, 'name': 'Puerta del Sol A', '...</td>\n",
       "    </tr>\n",
       "    <tr>\n",
       "      <th>4</th>\n",
       "      <td>2021-06-01T04:43:45.629938</td>\n",
       "      <td>[{'activate': 1, 'name': 'Puerta del Sol A', '...</td>\n",
       "    </tr>\n",
       "  </tbody>\n",
       "</table>\n",
       "</div>"
      ],
      "text/plain": [
       "                          _id  \\\n",
       "0  2021-06-01T00:43:39.688214   \n",
       "1  2021-06-01T01:43:41.872092   \n",
       "2  2021-06-01T02:43:42.969250   \n",
       "3  2021-06-01T03:43:44.600717   \n",
       "4  2021-06-01T04:43:45.629938   \n",
       "\n",
       "                                            stations  \n",
       "0  [{'activate': 1, 'name': 'Puerta del Sol A', '...  \n",
       "1  [{'activate': 1, 'name': 'Puerta del Sol A', '...  \n",
       "2  [{'activate': 1, 'name': 'Puerta del Sol A', '...  \n",
       "3  [{'activate': 1, 'name': 'Puerta del Sol A', '...  \n",
       "4  [{'activate': 1, 'name': 'Puerta del Sol A', '...  "
      ]
     },
     "execution_count": 14,
     "metadata": {},
     "output_type": "execute_result"
    }
   ],
   "source": [
    "stations.head()"
   ]
  },
  {
   "cell_type": "code",
   "execution_count": 15,
   "id": "be59354f",
   "metadata": {},
   "outputs": [
    {
     "data": {
      "text/html": [
       "<div>\n",
       "<style scoped>\n",
       "    .dataframe tbody tr th:only-of-type {\n",
       "        vertical-align: middle;\n",
       "    }\n",
       "\n",
       "    .dataframe tbody tr th {\n",
       "        vertical-align: top;\n",
       "    }\n",
       "\n",
       "    .dataframe thead th {\n",
       "        text-align: right;\n",
       "    }\n",
       "</style>\n",
       "<table border=\"1\" class=\"dataframe\">\n",
       "  <thead>\n",
       "    <tr style=\"text-align: right;\">\n",
       "      <th></th>\n",
       "      <th>_id</th>\n",
       "      <th>stations</th>\n",
       "    </tr>\n",
       "  </thead>\n",
       "  <tbody>\n",
       "    <tr>\n",
       "      <th>0</th>\n",
       "      <td>2021-06-01T00:43:39.688214</td>\n",
       "      <td>[{'activate': 1, 'name': 'Puerta del Sol A', '...</td>\n",
       "    </tr>\n",
       "    <tr>\n",
       "      <th>1</th>\n",
       "      <td>2021-06-01T01:43:41.872092</td>\n",
       "      <td>[{'activate': 1, 'name': 'Puerta del Sol A', '...</td>\n",
       "    </tr>\n",
       "    <tr>\n",
       "      <th>2</th>\n",
       "      <td>2021-06-01T02:43:42.969250</td>\n",
       "      <td>[{'activate': 1, 'name': 'Puerta del Sol A', '...</td>\n",
       "    </tr>\n",
       "    <tr>\n",
       "      <th>3</th>\n",
       "      <td>2021-06-01T03:43:44.600717</td>\n",
       "      <td>[{'activate': 1, 'name': 'Puerta del Sol A', '...</td>\n",
       "    </tr>\n",
       "    <tr>\n",
       "      <th>4</th>\n",
       "      <td>2021-06-01T04:43:45.629938</td>\n",
       "      <td>[{'activate': 1, 'name': 'Puerta del Sol A', '...</td>\n",
       "    </tr>\n",
       "    <tr>\n",
       "      <th>...</th>\n",
       "      <td>...</td>\n",
       "      <td>...</td>\n",
       "    </tr>\n",
       "    <tr>\n",
       "      <th>707</th>\n",
       "      <td>2021-06-30T19:03:28.471971</td>\n",
       "      <td>[{'activate': 1, 'name': 'Puerta del Sol A', '...</td>\n",
       "    </tr>\n",
       "    <tr>\n",
       "      <th>708</th>\n",
       "      <td>2021-06-30T20:03:28.506666</td>\n",
       "      <td>[{'activate': 1, 'name': 'Puerta del Sol A', '...</td>\n",
       "    </tr>\n",
       "    <tr>\n",
       "      <th>709</th>\n",
       "      <td>2021-06-30T21:03:29.744034</td>\n",
       "      <td>[{'activate': 1, 'name': 'Puerta del Sol A', '...</td>\n",
       "    </tr>\n",
       "    <tr>\n",
       "      <th>710</th>\n",
       "      <td>2021-06-30T22:03:31.966720</td>\n",
       "      <td>[{'activate': 1, 'name': 'Puerta del Sol A', '...</td>\n",
       "    </tr>\n",
       "    <tr>\n",
       "      <th>711</th>\n",
       "      <td>2021-06-30T23:03:34.112828</td>\n",
       "      <td>[{'activate': 1, 'name': 'Puerta del Sol A', '...</td>\n",
       "    </tr>\n",
       "  </tbody>\n",
       "</table>\n",
       "<p>712 rows × 2 columns</p>\n",
       "</div>"
      ],
      "text/plain": [
       "                            _id  \\\n",
       "0    2021-06-01T00:43:39.688214   \n",
       "1    2021-06-01T01:43:41.872092   \n",
       "2    2021-06-01T02:43:42.969250   \n",
       "3    2021-06-01T03:43:44.600717   \n",
       "4    2021-06-01T04:43:45.629938   \n",
       "..                          ...   \n",
       "707  2021-06-30T19:03:28.471971   \n",
       "708  2021-06-30T20:03:28.506666   \n",
       "709  2021-06-30T21:03:29.744034   \n",
       "710  2021-06-30T22:03:31.966720   \n",
       "711  2021-06-30T23:03:34.112828   \n",
       "\n",
       "                                              stations  \n",
       "0    [{'activate': 1, 'name': 'Puerta del Sol A', '...  \n",
       "1    [{'activate': 1, 'name': 'Puerta del Sol A', '...  \n",
       "2    [{'activate': 1, 'name': 'Puerta del Sol A', '...  \n",
       "3    [{'activate': 1, 'name': 'Puerta del Sol A', '...  \n",
       "4    [{'activate': 1, 'name': 'Puerta del Sol A', '...  \n",
       "..                                                 ...  \n",
       "707  [{'activate': 1, 'name': 'Puerta del Sol A', '...  \n",
       "708  [{'activate': 1, 'name': 'Puerta del Sol A', '...  \n",
       "709  [{'activate': 1, 'name': 'Puerta del Sol A', '...  \n",
       "710  [{'activate': 1, 'name': 'Puerta del Sol A', '...  \n",
       "711  [{'activate': 1, 'name': 'Puerta del Sol A', '...  \n",
       "\n",
       "[712 rows x 2 columns]"
      ]
     },
     "execution_count": 15,
     "metadata": {},
     "output_type": "execute_result"
    }
   ],
   "source": [
    "stations"
   ]
  },
  {
   "cell_type": "code",
   "execution_count": 16,
   "id": "bcefe7c3",
   "metadata": {},
   "outputs": [],
   "source": [
    "stations = stations['stations'][0]"
   ]
  },
  {
   "cell_type": "code",
   "execution_count": 17,
   "id": "bbf8f3da",
   "metadata": {},
   "outputs": [],
   "source": [
    "stations = pd.DataFrame(stations)"
   ]
  },
  {
   "cell_type": "code",
   "execution_count": 18,
   "id": "21ee3c79",
   "metadata": {},
   "outputs": [
    {
     "data": {
      "text/html": [
       "<div>\n",
       "<style scoped>\n",
       "    .dataframe tbody tr th:only-of-type {\n",
       "        vertical-align: middle;\n",
       "    }\n",
       "\n",
       "    .dataframe tbody tr th {\n",
       "        vertical-align: top;\n",
       "    }\n",
       "\n",
       "    .dataframe thead th {\n",
       "        text-align: right;\n",
       "    }\n",
       "</style>\n",
       "<table border=\"1\" class=\"dataframe\">\n",
       "  <thead>\n",
       "    <tr style=\"text-align: right;\">\n",
       "      <th></th>\n",
       "      <th>name</th>\n",
       "      <th>id</th>\n",
       "    </tr>\n",
       "  </thead>\n",
       "  <tbody>\n",
       "    <tr>\n",
       "      <th>0</th>\n",
       "      <td>Puerta del Sol A</td>\n",
       "      <td>1</td>\n",
       "    </tr>\n",
       "    <tr>\n",
       "      <th>1</th>\n",
       "      <td>Puerta del Sol B</td>\n",
       "      <td>2</td>\n",
       "    </tr>\n",
       "    <tr>\n",
       "      <th>2</th>\n",
       "      <td>Miguel Moya</td>\n",
       "      <td>3</td>\n",
       "    </tr>\n",
       "    <tr>\n",
       "      <th>3</th>\n",
       "      <td>Plaza Conde Suchil</td>\n",
       "      <td>4</td>\n",
       "    </tr>\n",
       "    <tr>\n",
       "      <th>4</th>\n",
       "      <td>Malasaña</td>\n",
       "      <td>5</td>\n",
       "    </tr>\n",
       "    <tr>\n",
       "      <th>...</th>\n",
       "      <td>...</td>\n",
       "      <td>...</td>\n",
       "    </tr>\n",
       "    <tr>\n",
       "      <th>259</th>\n",
       "      <td>INEF</td>\n",
       "      <td>265</td>\n",
       "    </tr>\n",
       "    <tr>\n",
       "      <th>260</th>\n",
       "      <td>Ciudad Universitaria 1</td>\n",
       "      <td>266</td>\n",
       "    </tr>\n",
       "    <tr>\n",
       "      <th>261</th>\n",
       "      <td>Ciudad Universitaria 2</td>\n",
       "      <td>267</td>\n",
       "    </tr>\n",
       "    <tr>\n",
       "      <th>262</th>\n",
       "      <td>Facultad Biología</td>\n",
       "      <td>268</td>\n",
       "    </tr>\n",
       "    <tr>\n",
       "      <th>263</th>\n",
       "      <td>Facultad Derecho</td>\n",
       "      <td>269</td>\n",
       "    </tr>\n",
       "  </tbody>\n",
       "</table>\n",
       "<p>264 rows × 2 columns</p>\n",
       "</div>"
      ],
      "text/plain": [
       "                       name   id\n",
       "0          Puerta del Sol A    1\n",
       "1          Puerta del Sol B    2\n",
       "2               Miguel Moya    3\n",
       "3        Plaza Conde Suchil    4\n",
       "4                  Malasaña    5\n",
       "..                      ...  ...\n",
       "259                    INEF  265\n",
       "260  Ciudad Universitaria 1  266\n",
       "261  Ciudad Universitaria 2  267\n",
       "262       Facultad Biología  268\n",
       "263        Facultad Derecho  269\n",
       "\n",
       "[264 rows x 2 columns]"
      ]
     },
     "execution_count": 18,
     "metadata": {},
     "output_type": "execute_result"
    }
   ],
   "source": [
    "stations = stations[['name', 'id']]\n",
    "stations"
   ]
  },
  {
   "cell_type": "code",
   "execution_count": 19,
   "id": "73318318",
   "metadata": {},
   "outputs": [],
   "source": [
    "rides_origin = rides_per_origin_station.merge(stations, how='inner', left_on='idunplug_station', right_on = 'id')\n",
    "rides_origin = rides_origin.head(30)"
   ]
  },
  {
   "cell_type": "code",
   "execution_count": 20,
   "id": "07874514",
   "metadata": {
    "scrolled": false
   },
   "outputs": [
    {
     "data": {
      "image/png": "[encoded data removed]",
      "text/plain": [
       "<Figure size 1080x360 with 1 Axes>"
      ]
     },
     "metadata": {
      "needs_background": "light"
     },
     "output_type": "display_data"
    }
   ],
   "source": [
    "#plot: 30 stations with the most\n",
    "plt.figure(figsize=(15,5))\n",
    "plt.bar(rides_origin['name'], height = rides_origin['user_type']);\n",
    "plt.xticks(rotation=90);"
   ]
  },
  {
   "cell_type": "markdown",
   "id": "5a9c00ff",
   "metadata": {},
   "source": [
    "##### 1.1.3. Distribution of the demand of bycycles per day and hour"
   ]
  },
  {
   "cell_type": "markdown",
   "id": "f99161ce",
   "metadata": {},
   "source": [
    "We use the column ***'unplug_hourTime'***. This columns has the format of the hour zone in ISO-8601 format"
   ]
  },
  {
   "cell_type": "code",
   "execution_count": 21,
   "id": "c4343bc1",
   "metadata": {},
   "outputs": [],
   "source": [
    "#!pip install iso8601\n",
    "import iso8601"
   ]
  },
  {
   "cell_type": "code",
   "execution_count": 22,
   "id": "594ed5dc",
   "metadata": {},
   "outputs": [
    {
     "data": {
      "text/plain": [
       "0        2021-06-01 00:00:00+00:00\n",
       "1        2021-06-01 00:00:00+00:00\n",
       "2        2021-06-01 00:00:00+00:00\n",
       "3        2021-06-01 00:00:00+00:00\n",
       "4        2021-06-01 00:00:00+00:00\n",
       "                    ...           \n",
       "413365   2021-06-27 19:00:00+00:00\n",
       "413366   2021-06-28 07:00:00+00:00\n",
       "413367   2021-06-25 15:00:00+00:00\n",
       "413368   2021-06-30 08:00:00+00:00\n",
       "413369   2021-06-29 13:00:00+00:00\n",
       "Name: unplug_hourTime, Length: 413370, dtype: datetime64[ns, UTC]"
      ]
     },
     "execution_count": 22,
     "metadata": {},
     "output_type": "execute_result"
    }
   ],
   "source": [
    "movements['unplug_hourTime'] = pd.to_datetime(movements['unplug_hourTime'].apply(iso8601.parse_date))\n",
    "movements['unplug_hourTime']"
   ]
  },
  {
   "cell_type": "code",
   "execution_count": 23,
   "id": "45ab330d",
   "metadata": {},
   "outputs": [
    {
     "data": {
      "text/plain": [
       "0         2021-06-01\n",
       "1         2021-06-01\n",
       "2         2021-06-01\n",
       "3         2021-06-01\n",
       "4         2021-06-01\n",
       "             ...    \n",
       "413365    2021-06-27\n",
       "413366    2021-06-28\n",
       "413367    2021-06-25\n",
       "413368    2021-06-30\n",
       "413369    2021-06-29\n",
       "Name: date, Length: 413370, dtype: object"
      ]
     },
     "execution_count": 23,
     "metadata": {},
     "output_type": "execute_result"
    }
   ],
   "source": [
    "movements['date'] = movements['unplug_hourTime'].dt.date\n",
    "movements['date']"
   ]
  },
  {
   "cell_type": "code",
   "execution_count": 24,
   "id": "135a07bf",
   "metadata": {},
   "outputs": [
    {
     "data": {
      "text/plain": [
       "0         00:00:00\n",
       "1         00:00:00\n",
       "2         00:00:00\n",
       "3         00:00:00\n",
       "4         00:00:00\n",
       "            ...   \n",
       "413365    19:00:00\n",
       "413366    07:00:00\n",
       "413367    15:00:00\n",
       "413368    08:00:00\n",
       "413369    13:00:00\n",
       "Name: hour, Length: 413370, dtype: object"
      ]
     },
     "execution_count": 24,
     "metadata": {},
     "output_type": "execute_result"
    }
   ],
   "source": [
    "movements['hour'] = movements['unplug_hourTime'].dt.time\n",
    "movements['hour']"
   ]
  },
  {
   "cell_type": "code",
   "execution_count": 25,
   "id": "02896da0",
   "metadata": {},
   "outputs": [],
   "source": [
    "from datetime import datetime\n",
    "from datetime import date\n",
    "import calendar"
   ]
  },
  {
   "cell_type": "code",
   "execution_count": 28,
   "id": "4cdf8e98",
   "metadata": {},
   "outputs": [],
   "source": [
    "movements['date'] = pd.to_datetime(movements['date'])\n",
    "movements['day_of_week'] = movements['date'].dt.day_name()\n",
    "movements['day_of_week_number'] = movements['date'].dt.dayofweek"
   ]
  },
  {
   "cell_type": "code",
   "execution_count": 29,
   "id": "a894ef85",
   "metadata": {},
   "outputs": [
    {
     "data": {
      "text/plain": [
       "0           Tuesday\n",
       "1           Tuesday\n",
       "2           Tuesday\n",
       "3           Tuesday\n",
       "4           Tuesday\n",
       "            ...    \n",
       "413365       Sunday\n",
       "413366       Monday\n",
       "413367       Friday\n",
       "413368    Wednesday\n",
       "413369      Tuesday\n",
       "Name: day_of_week, Length: 413370, dtype: object"
      ]
     },
     "execution_count": 29,
     "metadata": {},
     "output_type": "execute_result"
    }
   ],
   "source": [
    "movements['day_of_week']"
   ]
  },
  {
   "cell_type": "code",
   "execution_count": 30,
   "id": "dad07979",
   "metadata": {},
   "outputs": [
    {
     "data": {
      "text/html": [
       "<div>\n",
       "<style scoped>\n",
       "    .dataframe tbody tr th:only-of-type {\n",
       "        vertical-align: middle;\n",
       "    }\n",
       "\n",
       "    .dataframe tbody tr th {\n",
       "        vertical-align: top;\n",
       "    }\n",
       "\n",
       "    .dataframe thead th {\n",
       "        text-align: right;\n",
       "    }\n",
       "</style>\n",
       "<table border=\"1\" class=\"dataframe\">\n",
       "  <thead>\n",
       "    <tr style=\"text-align: right;\">\n",
       "      <th></th>\n",
       "      <th>day_of_week</th>\n",
       "      <th>day_of_week_number</th>\n",
       "      <th>user_type</th>\n",
       "    </tr>\n",
       "  </thead>\n",
       "  <tbody>\n",
       "    <tr>\n",
       "      <th>1</th>\n",
       "      <td>Monday</td>\n",
       "      <td>0</td>\n",
       "      <td>56169</td>\n",
       "    </tr>\n",
       "    <tr>\n",
       "      <th>5</th>\n",
       "      <td>Tuesday</td>\n",
       "      <td>1</td>\n",
       "      <td>75096</td>\n",
       "    </tr>\n",
       "    <tr>\n",
       "      <th>6</th>\n",
       "      <td>Wednesday</td>\n",
       "      <td>2</td>\n",
       "      <td>78371</td>\n",
       "    </tr>\n",
       "    <tr>\n",
       "      <th>4</th>\n",
       "      <td>Thursday</td>\n",
       "      <td>3</td>\n",
       "      <td>61723</td>\n",
       "    </tr>\n",
       "    <tr>\n",
       "      <th>0</th>\n",
       "      <td>Friday</td>\n",
       "      <td>4</td>\n",
       "      <td>61031</td>\n",
       "    </tr>\n",
       "    <tr>\n",
       "      <th>2</th>\n",
       "      <td>Saturday</td>\n",
       "      <td>5</td>\n",
       "      <td>43727</td>\n",
       "    </tr>\n",
       "    <tr>\n",
       "      <th>3</th>\n",
       "      <td>Sunday</td>\n",
       "      <td>6</td>\n",
       "      <td>37253</td>\n",
       "    </tr>\n",
       "  </tbody>\n",
       "</table>\n",
       "</div>"
      ],
      "text/plain": [
       "  day_of_week  day_of_week_number  user_type\n",
       "1      Monday                   0      56169\n",
       "5     Tuesday                   1      75096\n",
       "6   Wednesday                   2      78371\n",
       "4    Thursday                   3      61723\n",
       "0      Friday                   4      61031\n",
       "2    Saturday                   5      43727\n",
       "3      Sunday                   6      37253"
      ]
     },
     "execution_count": 30,
     "metadata": {},
     "output_type": "execute_result"
    }
   ],
   "source": [
    "### number of rides per day of week\n",
    "rides_per_weekday = movements.groupby(['day_of_week', 'day_of_week_number'])['user_type'].count().reset_index()\n",
    "rides_per_weekday = rides_per_weekday.sort_values(by = 'day_of_week_number')\n",
    "rides_per_weekday"
   ]
  },
  {
   "cell_type": "code",
   "execution_count": 31,
   "id": "1d87533a",
   "metadata": {},
   "outputs": [
    {
     "data": {
      "image/png": "[encoded data removed]",
      "text/plain": [
       "<Figure size 1080x360 with 1 Axes>"
      ]
     },
     "metadata": {
      "needs_background": "light"
     },
     "output_type": "display_data"
    }
   ],
   "source": [
    "#plot: rides per day of week\n",
    "plt.figure(figsize=(15,5))\n",
    "plt.bar(rides_per_weekday['day_of_week'], height = rides_per_weekday['user_type']);\n",
    "plt.xticks(rotation=90);"
   ]
  },
  {
   "cell_type": "markdown",
   "id": "81509420",
   "metadata": {},
   "source": [
    "Now, we are going to plot the distribution of the demand by hour of the day"
   ]
  },
  {
   "cell_type": "code",
   "execution_count": 34,
   "id": "cb399232",
   "metadata": {},
   "outputs": [
    {
     "data": {
      "text/html": [
       "<div>\n",
       "<style scoped>\n",
       "    .dataframe tbody tr th:only-of-type {\n",
       "        vertical-align: middle;\n",
       "    }\n",
       "\n",
       "    .dataframe tbody tr th {\n",
       "        vertical-align: top;\n",
       "    }\n",
       "\n",
       "    .dataframe thead th {\n",
       "        text-align: right;\n",
       "    }\n",
       "</style>\n",
       "<table border=\"1\" class=\"dataframe\">\n",
       "  <thead>\n",
       "    <tr style=\"text-align: right;\">\n",
       "      <th></th>\n",
       "      <th>_id</th>\n",
       "      <th>user_day_code</th>\n",
       "      <th>idplug_base</th>\n",
       "      <th>user_type</th>\n",
       "      <th>idunplug_base</th>\n",
       "      <th>travel_time</th>\n",
       "      <th>idunplug_station</th>\n",
       "      <th>ageRange</th>\n",
       "      <th>idplug_station</th>\n",
       "      <th>unplug_hourTime</th>\n",
       "      <th>zip_code</th>\n",
       "      <th>date</th>\n",
       "      <th>hour</th>\n",
       "      <th>day_of_week</th>\n",
       "      <th>day_of_week_number</th>\n",
       "    </tr>\n",
       "  </thead>\n",
       "  <tbody>\n",
       "    <tr>\n",
       "      <th>0</th>\n",
       "      <td>{'$oid': '60bbf3f21b91311d90d568ad'}</td>\n",
       "      <td>b67ea824acf706087d5818ebc6f90821a5abaab17a0868...</td>\n",
       "      <td>15</td>\n",
       "      <td>1</td>\n",
       "      <td>13</td>\n",
       "      <td>319</td>\n",
       "      <td>38</td>\n",
       "      <td>0</td>\n",
       "      <td>54</td>\n",
       "      <td>2021-06-01 00:00:00+00:00</td>\n",
       "      <td></td>\n",
       "      <td>2021-06-01</td>\n",
       "      <td>00:00:00</td>\n",
       "      <td>Tuesday</td>\n",
       "      <td>1</td>\n",
       "    </tr>\n",
       "    <tr>\n",
       "      <th>1</th>\n",
       "      <td>{'$oid': '60bbf3f21b91311d90d568b2'}</td>\n",
       "      <td>364b1b99f1f9a1748f7abf1134c8d6a46197b583649308...</td>\n",
       "      <td>7</td>\n",
       "      <td>1</td>\n",
       "      <td>1</td>\n",
       "      <td>386</td>\n",
       "      <td>185</td>\n",
       "      <td>0</td>\n",
       "      <td>126</td>\n",
       "      <td>2021-06-01 00:00:00+00:00</td>\n",
       "      <td></td>\n",
       "      <td>2021-06-01</td>\n",
       "      <td>00:00:00</td>\n",
       "      <td>Tuesday</td>\n",
       "      <td>1</td>\n",
       "    </tr>\n",
       "    <tr>\n",
       "      <th>2</th>\n",
       "      <td>{'$oid': '60bbf3f21b91311d90d568b3'}</td>\n",
       "      <td>5cc17031cba02835dda4b6c153b56572beaade54d8ab91...</td>\n",
       "      <td>14</td>\n",
       "      <td>1</td>\n",
       "      <td>10</td>\n",
       "      <td>465</td>\n",
       "      <td>15</td>\n",
       "      <td>0</td>\n",
       "      <td>91</td>\n",
       "      <td>2021-06-01 00:00:00+00:00</td>\n",
       "      <td></td>\n",
       "      <td>2021-06-01</td>\n",
       "      <td>00:00:00</td>\n",
       "      <td>Tuesday</td>\n",
       "      <td>1</td>\n",
       "    </tr>\n",
       "    <tr>\n",
       "      <th>3</th>\n",
       "      <td>{'$oid': '60bbf3f21b91311d90d568b4'}</td>\n",
       "      <td>6e855acaaa17d6d14236598c0f1172c783e16950e39c01...</td>\n",
       "      <td>8</td>\n",
       "      <td>1</td>\n",
       "      <td>22</td>\n",
       "      <td>613</td>\n",
       "      <td>84</td>\n",
       "      <td>0</td>\n",
       "      <td>236</td>\n",
       "      <td>2021-06-01 00:00:00+00:00</td>\n",
       "      <td></td>\n",
       "      <td>2021-06-01</td>\n",
       "      <td>00:00:00</td>\n",
       "      <td>Tuesday</td>\n",
       "      <td>1</td>\n",
       "    </tr>\n",
       "    <tr>\n",
       "      <th>4</th>\n",
       "      <td>{'$oid': '60bbf3f21b91311d90d568b5'}</td>\n",
       "      <td>e93417502d55208995a61f4177956ab9289aba39044ce3...</td>\n",
       "      <td>1</td>\n",
       "      <td>1</td>\n",
       "      <td>4</td>\n",
       "      <td>751</td>\n",
       "      <td>131</td>\n",
       "      <td>5</td>\n",
       "      <td>94</td>\n",
       "      <td>2021-06-01 00:00:00+00:00</td>\n",
       "      <td>28006</td>\n",
       "      <td>2021-06-01</td>\n",
       "      <td>00:00:00</td>\n",
       "      <td>Tuesday</td>\n",
       "      <td>1</td>\n",
       "    </tr>\n",
       "    <tr>\n",
       "      <th>...</th>\n",
       "      <td>...</td>\n",
       "      <td>...</td>\n",
       "      <td>...</td>\n",
       "      <td>...</td>\n",
       "      <td>...</td>\n",
       "      <td>...</td>\n",
       "      <td>...</td>\n",
       "      <td>...</td>\n",
       "      <td>...</td>\n",
       "      <td>...</td>\n",
       "      <td>...</td>\n",
       "      <td>...</td>\n",
       "      <td>...</td>\n",
       "      <td>...</td>\n",
       "      <td>...</td>\n",
       "    </tr>\n",
       "    <tr>\n",
       "      <th>413365</th>\n",
       "      <td>{'$oid': '60e4d2a51b91313ed4f52e62'}</td>\n",
       "      <td>45de608bddfda3f468ef6093c65f6246a2917ce2376e98...</td>\n",
       "      <td>23</td>\n",
       "      <td>1</td>\n",
       "      <td>3</td>\n",
       "      <td>746</td>\n",
       "      <td>234</td>\n",
       "      <td>0</td>\n",
       "      <td>84</td>\n",
       "      <td>2021-06-27 19:00:00+00:00</td>\n",
       "      <td></td>\n",
       "      <td>2021-06-27</td>\n",
       "      <td>19:00:00</td>\n",
       "      <td>Sunday</td>\n",
       "      <td>6</td>\n",
       "    </tr>\n",
       "    <tr>\n",
       "      <th>413366</th>\n",
       "      <td>{'$oid': '60e4d2b91b91313ed4f53f9f'}</td>\n",
       "      <td>dbec6f034d41c528fd21412197518fe7d11dd0e863d965...</td>\n",
       "      <td>18</td>\n",
       "      <td>3</td>\n",
       "      <td>1</td>\n",
       "      <td>355190</td>\n",
       "      <td>268</td>\n",
       "      <td>0</td>\n",
       "      <td>268</td>\n",
       "      <td>2021-06-28 07:00:00+00:00</td>\n",
       "      <td></td>\n",
       "      <td>2021-06-28</td>\n",
       "      <td>07:00:00</td>\n",
       "      <td>Monday</td>\n",
       "      <td>0</td>\n",
       "    </tr>\n",
       "    <tr>\n",
       "      <th>413367</th>\n",
       "      <td>{'$oid': '60e4d2d51b91313ed4f551ea'}</td>\n",
       "      <td>2081c1c1c6c1d9e400b611bcb244b408da53884dffcbbf...</td>\n",
       "      <td>20</td>\n",
       "      <td>3</td>\n",
       "      <td>8</td>\n",
       "      <td>603181</td>\n",
       "      <td>253</td>\n",
       "      <td>5</td>\n",
       "      <td>253</td>\n",
       "      <td>2021-06-25 15:00:00+00:00</td>\n",
       "      <td></td>\n",
       "      <td>2021-06-25</td>\n",
       "      <td>15:00:00</td>\n",
       "      <td>Friday</td>\n",
       "      <td>4</td>\n",
       "    </tr>\n",
       "    <tr>\n",
       "      <th>413368</th>\n",
       "      <td>{'$oid': '60e4d2d61b91313ed4f55226'}</td>\n",
       "      <td>dbec6f034d41c528fd21412197518fe7d11dd0e863d965...</td>\n",
       "      <td>11</td>\n",
       "      <td>3</td>\n",
       "      <td>15</td>\n",
       "      <td>13</td>\n",
       "      <td>243</td>\n",
       "      <td>0</td>\n",
       "      <td>243</td>\n",
       "      <td>2021-06-30 08:00:00+00:00</td>\n",
       "      <td></td>\n",
       "      <td>2021-06-30</td>\n",
       "      <td>08:00:00</td>\n",
       "      <td>Wednesday</td>\n",
       "      <td>2</td>\n",
       "    </tr>\n",
       "    <tr>\n",
       "      <th>413369</th>\n",
       "      <td>{'$oid': '60e624111b91312da4ce3af2'}</td>\n",
       "      <td>0308fa6e55742306ac8cf3d5b4d1320d6100208d4a60db...</td>\n",
       "      <td>3</td>\n",
       "      <td>1</td>\n",
       "      <td>3</td>\n",
       "      <td>664</td>\n",
       "      <td>48</td>\n",
       "      <td>5</td>\n",
       "      <td>59</td>\n",
       "      <td>2021-06-29 13:00:00+00:00</td>\n",
       "      <td>28007</td>\n",
       "      <td>2021-06-29</td>\n",
       "      <td>13:00:00</td>\n",
       "      <td>Tuesday</td>\n",
       "      <td>1</td>\n",
       "    </tr>\n",
       "  </tbody>\n",
       "</table>\n",
       "<p>413370 rows × 15 columns</p>\n",
       "</div>"
      ],
      "text/plain": [
       "                                         _id  \\\n",
       "0       {'$oid': '60bbf3f21b91311d90d568ad'}   \n",
       "1       {'$oid': '60bbf3f21b91311d90d568b2'}   \n",
       "2       {'$oid': '60bbf3f21b91311d90d568b3'}   \n",
       "3       {'$oid': '60bbf3f21b91311d90d568b4'}   \n",
       "4       {'$oid': '60bbf3f21b91311d90d568b5'}   \n",
       "...                                      ...   \n",
       "413365  {'$oid': '60e4d2a51b91313ed4f52e62'}   \n",
       "413366  {'$oid': '60e4d2b91b91313ed4f53f9f'}   \n",
       "413367  {'$oid': '60e4d2d51b91313ed4f551ea'}   \n",
       "413368  {'$oid': '60e4d2d61b91313ed4f55226'}   \n",
       "413369  {'$oid': '60e624111b91312da4ce3af2'}   \n",
       "\n",
       "                                            user_day_code  idplug_base  \\\n",
       "0       b67ea824acf706087d5818ebc6f90821a5abaab17a0868...           15   \n",
       "1       364b1b99f1f9a1748f7abf1134c8d6a46197b583649308...            7   \n",
       "2       5cc17031cba02835dda4b6c153b56572beaade54d8ab91...           14   \n",
       "3       6e855acaaa17d6d14236598c0f1172c783e16950e39c01...            8   \n",
       "4       e93417502d55208995a61f4177956ab9289aba39044ce3...            1   \n",
       "...                                                   ...          ...   \n",
       "413365  45de608bddfda3f468ef6093c65f6246a2917ce2376e98...           23   \n",
       "413366  dbec6f034d41c528fd21412197518fe7d11dd0e863d965...           18   \n",
       "413367  2081c1c1c6c1d9e400b611bcb244b408da53884dffcbbf...           20   \n",
       "413368  dbec6f034d41c528fd21412197518fe7d11dd0e863d965...           11   \n",
       "413369  0308fa6e55742306ac8cf3d5b4d1320d6100208d4a60db...            3   \n",
       "\n",
       "        user_type  idunplug_base  travel_time  idunplug_station  ageRange  \\\n",
       "0               1             13          319                38         0   \n",
       "1               1              1          386               185         0   \n",
       "2               1             10          465                15         0   \n",
       "3               1             22          613                84         0   \n",
       "4               1              4          751               131         5   \n",
       "...           ...            ...          ...               ...       ...   \n",
       "413365          1              3          746               234         0   \n",
       "413366          3              1       355190               268         0   \n",
       "413367          3              8       603181               253         5   \n",
       "413368          3             15           13               243         0   \n",
       "413369          1              3          664                48         5   \n",
       "\n",
       "        idplug_station           unplug_hourTime zip_code       date  \\\n",
       "0                   54 2021-06-01 00:00:00+00:00          2021-06-01   \n",
       "1                  126 2021-06-01 00:00:00+00:00          2021-06-01   \n",
       "2                   91 2021-06-01 00:00:00+00:00          2021-06-01   \n",
       "3                  236 2021-06-01 00:00:00+00:00          2021-06-01   \n",
       "4                   94 2021-06-01 00:00:00+00:00    28006 2021-06-01   \n",
       "...                ...                       ...      ...        ...   \n",
       "413365              84 2021-06-27 19:00:00+00:00          2021-06-27   \n",
       "413366             268 2021-06-28 07:00:00+00:00          2021-06-28   \n",
       "413367             253 2021-06-25 15:00:00+00:00          2021-06-25   \n",
       "413368             243 2021-06-30 08:00:00+00:00          2021-06-30   \n",
       "413369              59 2021-06-29 13:00:00+00:00    28007 2021-06-29   \n",
       "\n",
       "            hour day_of_week  day_of_week_number  \n",
       "0       00:00:00     Tuesday                   1  \n",
       "1       00:00:00     Tuesday                   1  \n",
       "2       00:00:00     Tuesday                   1  \n",
       "3       00:00:00     Tuesday                   1  \n",
       "4       00:00:00     Tuesday                   1  \n",
       "...          ...         ...                 ...  \n",
       "413365  19:00:00      Sunday                   6  \n",
       "413366  07:00:00      Monday                   0  \n",
       "413367  15:00:00      Friday                   4  \n",
       "413368  08:00:00   Wednesday                   2  \n",
       "413369  13:00:00     Tuesday                   1  \n",
       "\n",
       "[413370 rows x 15 columns]"
      ]
     },
     "execution_count": 34,
     "metadata": {},
     "output_type": "execute_result"
    }
   ],
   "source": [
    "movements"
   ]
  },
  {
   "cell_type": "code",
   "execution_count": 39,
   "id": "4eb8fc2c",
   "metadata": {
    "scrolled": true
   },
   "outputs": [
    {
     "data": {
      "text/html": [
       "<div>\n",
       "<style scoped>\n",
       "    .dataframe tbody tr th:only-of-type {\n",
       "        vertical-align: middle;\n",
       "    }\n",
       "\n",
       "    .dataframe tbody tr th {\n",
       "        vertical-align: top;\n",
       "    }\n",
       "\n",
       "    .dataframe thead th {\n",
       "        text-align: right;\n",
       "    }\n",
       "</style>\n",
       "<table border=\"1\" class=\"dataframe\">\n",
       "  <thead>\n",
       "    <tr style=\"text-align: right;\">\n",
       "      <th></th>\n",
       "      <th>date</th>\n",
       "      <th>hour</th>\n",
       "      <th>user_type</th>\n",
       "    </tr>\n",
       "  </thead>\n",
       "  <tbody>\n",
       "    <tr>\n",
       "      <th>0</th>\n",
       "      <td>2021-06-01</td>\n",
       "      <td>00:00:00</td>\n",
       "      <td>31</td>\n",
       "    </tr>\n",
       "    <tr>\n",
       "      <th>1</th>\n",
       "      <td>2021-06-01</td>\n",
       "      <td>01:00:00</td>\n",
       "      <td>7</td>\n",
       "    </tr>\n",
       "    <tr>\n",
       "      <th>2</th>\n",
       "      <td>2021-06-01</td>\n",
       "      <td>02:00:00</td>\n",
       "      <td>9</td>\n",
       "    </tr>\n",
       "    <tr>\n",
       "      <th>3</th>\n",
       "      <td>2021-06-01</td>\n",
       "      <td>03:00:00</td>\n",
       "      <td>39</td>\n",
       "    </tr>\n",
       "    <tr>\n",
       "      <th>4</th>\n",
       "      <td>2021-06-01</td>\n",
       "      <td>04:00:00</td>\n",
       "      <td>62</td>\n",
       "    </tr>\n",
       "    <tr>\n",
       "      <th>...</th>\n",
       "      <td>...</td>\n",
       "      <td>...</td>\n",
       "      <td>...</td>\n",
       "    </tr>\n",
       "    <tr>\n",
       "      <th>715</th>\n",
       "      <td>2021-06-30</td>\n",
       "      <td>19:00:00</td>\n",
       "      <td>816</td>\n",
       "    </tr>\n",
       "    <tr>\n",
       "      <th>716</th>\n",
       "      <td>2021-06-30</td>\n",
       "      <td>20:00:00</td>\n",
       "      <td>555</td>\n",
       "    </tr>\n",
       "    <tr>\n",
       "      <th>717</th>\n",
       "      <td>2021-06-30</td>\n",
       "      <td>21:00:00</td>\n",
       "      <td>585</td>\n",
       "    </tr>\n",
       "    <tr>\n",
       "      <th>718</th>\n",
       "      <td>2021-06-30</td>\n",
       "      <td>22:00:00</td>\n",
       "      <td>514</td>\n",
       "    </tr>\n",
       "    <tr>\n",
       "      <th>719</th>\n",
       "      <td>2021-06-30</td>\n",
       "      <td>23:00:00</td>\n",
       "      <td>271</td>\n",
       "    </tr>\n",
       "  </tbody>\n",
       "</table>\n",
       "<p>720 rows × 3 columns</p>\n",
       "</div>"
      ],
      "text/plain": [
       "          date      hour  user_type\n",
       "0   2021-06-01  00:00:00         31\n",
       "1   2021-06-01  01:00:00          7\n",
       "2   2021-06-01  02:00:00          9\n",
       "3   2021-06-01  03:00:00         39\n",
       "4   2021-06-01  04:00:00         62\n",
       "..         ...       ...        ...\n",
       "715 2021-06-30  19:00:00        816\n",
       "716 2021-06-30  20:00:00        555\n",
       "717 2021-06-30  21:00:00        585\n",
       "718 2021-06-30  22:00:00        514\n",
       "719 2021-06-30  23:00:00        271\n",
       "\n",
       "[720 rows x 3 columns]"
      ]
     },
     "execution_count": 39,
     "metadata": {},
     "output_type": "execute_result"
    }
   ],
   "source": [
    "movements_by_hour = movements.groupby(['date','hour'])['user_type'].count().reset_index()\n",
    "movements_by_hour"
   ]
  },
  {
   "cell_type": "code",
   "execution_count": 52,
   "id": "15b15bc5",
   "metadata": {},
   "outputs": [
    {
     "data": {
      "image/png": "[encoded data removed]",
      "text/plain": [
       "<Figure size 1080x576 with 1 Axes>"
      ]
     },
     "metadata": {},
     "output_type": "display_data"
    }
   ],
   "source": [
    "sns.set(rc = {'figure.figsize': (15,8)})\n",
    "ax = sns.boxplot(x='hour', y = 'user_type', data = movements_by_hour);\n",
    "ax.set_xticklabels(ax.get_xticklabels(), rotation=90);"
   ]
  },
  {
   "cell_type": "markdown",
   "id": "17250724",
   "metadata": {},
   "source": [
    "Now, we are going to plot the demand of bicycles per hour, ignoring the type of user 3 (worker of bicimad), to understand the real demand of the service"
   ]
  },
  {
   "cell_type": "code",
   "execution_count": 54,
   "id": "30d80828",
   "metadata": {},
   "outputs": [],
   "source": [
    "movements_clients = movements[movements['user_type'] != 3]"
   ]
  },
  {
   "cell_type": "code",
   "execution_count": 55,
   "id": "bbeac99b",
   "metadata": {},
   "outputs": [],
   "source": [
    "movements_clients_by_hour = movements_clients.groupby(['date','hour'])['user_type'].count().reset_index()\n"
   ]
  },
  {
   "cell_type": "code",
   "execution_count": 56,
   "id": "7578ef8c",
   "metadata": {},
   "outputs": [
    {
     "data": {
      "image/png": "[encoded data removed]",
      "text/plain": [
       "<Figure size 1080x576 with 1 Axes>"
      ]
     },
     "metadata": {},
     "output_type": "display_data"
    }
   ],
   "source": [
    "sns.set(rc = {'figure.figsize': (15,8)})\n",
    "ax = sns.boxplot(x='hour', y = 'user_type', data = movements_clients_by_hour);\n",
    "ax.set_xticklabels(ax.get_xticklabels(), rotation=90);"
   ]
  },
  {
   "cell_type": "markdown",
   "id": "4115bb3d",
   "metadata": {},
   "source": [
    "Now, we are going to analyze it taking into account the age of the user"
   ]
  },
  {
   "cell_type": "code",
   "execution_count": 67,
   "id": "967b6d41",
   "metadata": {},
   "outputs": [],
   "source": [
    "movements_hour_age = movements_clients.groupby(['date','day_of_week','ageRange'])['user_type'].count().reset_index()"
   ]
  },
  {
   "cell_type": "code",
   "execution_count": 72,
   "id": "9be2361d",
   "metadata": {},
   "outputs": [
    {
     "data": {
      "image/png": "[encoded data removed]",
      "text/plain": [
       "<Figure size 1080x576 with 1 Axes>"
      ]
     },
     "metadata": {},
     "output_type": "display_data"
    }
   ],
   "source": [
    "sns.lineplot(x= 'day_of_week', y = 'user_type', hue ='ageRange', \n",
    "             data = movements_hour_age[movements_hour_age['ageRange']!=0]);"
   ]
  }
 ],
 "metadata": {
  "kernelspec": {
   "display_name": "Python 3 (ipykernel)",
   "language": "python",
   "name": "python3"
  },
  "language_info": {
   "codemirror_mode": {
    "name": "ipython",
    "version": 3
   },
   "file_extension": ".py",
   "mimetype": "text/x-python",
   "name": "python",
   "nbconvert_exporter": "python",
   "pygments_lexer": "ipython3",
   "version": "3.8.2"
  }
 },
 "nbformat": 4,
 "nbformat_minor": 5
}
